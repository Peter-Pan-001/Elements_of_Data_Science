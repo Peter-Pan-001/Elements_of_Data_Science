{
 "cells": [
  {
   "cell_type": "markdown",
   "metadata": {
    "nbpresent": {
     "id": "edd75f49-a55e-45f8-8f53-79b4869c8175"
    },
    "slideshow": {
     "slide_type": "slide"
    }
   },
   "source": [
    "# Elements of Data Science: A First Course \n",
    "\n",
    "# COMS W4995 007 2018 3\n",
    "\n",
    "\n",
    "## Week 1 : Introduction to Data Science problems and tools"
   ]
  },
  {
   "cell_type": "markdown",
   "metadata": {
    "slideshow": {
     "slide_type": "slide"
    }
   },
   "source": [
    "### About me"
   ]
  },
  {
   "cell_type": "markdown",
   "metadata": {
    "slideshow": {
     "slide_type": "fragment"
    }
   },
   "source": [
    "### <center>Bryan R. Gibson, PhD</center>  \n",
    "\n",
    "<img src=\"images/michigan300x300.jpg\" style=\"width:100px\"/>\n",
    "<img src=\"images/wisconsin.png\" style=\"width:300px\"/>\n",
    "<img src=\"images/rra.png\" style=\"width:200px\"/>"
   ]
  },
  {
   "cell_type": "markdown",
   "metadata": {
    "slideshow": {
     "slide_type": "slide"
    }
   },
   "source": [
    "### Text"
   ]
  },
  {
   "cell_type": "markdown",
   "metadata": {
    "slideshow": {
     "slide_type": "fragment"
    }
   },
   "source": [
    "<b>Python Data Science Handbook</b> \n",
    "\n",
    "by Jake VanderPlas\n",
    "\n",
    "Available for free at \n",
    "- https://jakevdp.github.io/PythonDataScienceHandbook/ \n",
    "- https://github.com/jakevdp/PythonDataScienceHandbook as notebooks"
   ]
  },
  {
   "cell_type": "markdown",
   "metadata": {
    "slideshow": {
     "slide_type": "fragment"
    }
   },
   "source": [
    "<b>(Recommended) Practical Statistics for Data Scientists</b> \n",
    "\n",
    "by Peter Bruce and Andrew Bruce\n",
    "\n",
    "For purchase via\n",
    "- http://shop.oreilly.com/product/0636920048992.do"
   ]
  },
  {
   "cell_type": "markdown",
   "metadata": {
    "nbpresent": {
     "id": "c0ac2f34-0e38-4611-a4e1-081b59b3c540"
    },
    "slideshow": {
     "slide_type": "slide"
    }
   },
   "source": [
    "### Reading: PDSH Ch. 1 (pp. 1-24)\n",
    "\n",
    "If you need a refresher on Python Ch. 2 as well."
   ]
  },
  {
   "cell_type": "markdown",
   "metadata": {
    "nbpresent": {
     "id": "e1a5852c-9886-401d-8f97-b268dfc8acee"
    },
    "slideshow": {
     "slide_type": "slide"
    }
   },
   "source": [
    "### Assignments and Grades\n",
    "\n",
    "See syllabus and Canvas"
   ]
  },
  {
   "cell_type": "markdown",
   "metadata": {
    "slideshow": {
     "slide_type": "slide"
    }
   },
   "source": [
    "### What is Data Science?"
   ]
  },
  {
   "cell_type": "markdown",
   "metadata": {
    "nbpresent": {
     "id": "204fc3b2-905d-4fee-9e9a-80d0718a8ae1"
    },
    "slideshow": {
     "slide_type": "fragment"
    }
   },
   "source": [
    "> Data science, also known as data-driven science, is <b>an interdisciplinary field</b> about scientific methods, processes, and systems <b>to extract knowledge or insights from data in various forms</b>, either structured or unstructured, similar to data mining.\n",
    "\n",
    "https://en.wikipedia.org/wiki/Data_science"
   ]
  },
  {
   "cell_type": "markdown",
   "metadata": {
    "slideshow": {
     "slide_type": "slide"
    }
   },
   "source": [
    "### What is a Data Scientist?"
   ]
  },
  {
   "cell_type": "markdown",
   "metadata": {
    "slideshow": {
     "slide_type": "fragment"
    }
   },
   "source": [
    "<blockquote class=\"twitter-tweet\" data-lang=\"en\"><p lang=\"en\" dir=\"ltr\">Data Scientist (n.): Person who is better at statistics than any software engineer and better at software engineering than any statistician.</p>&mdash; Josh Wills (@josh_wills) <a href=\"https://twitter.com/josh_wills/status/198093512149958656\">May 3, 2012</a></blockquote>\n",
    "<script async src=\"//platform.twitter.com/widgets.js\" charset=\"utf-8\"></script>"
   ]
  },
  {
   "cell_type": "markdown",
   "metadata": {
    "slideshow": {
     "slide_type": "fragment"
    }
   },
   "source": [
    "alternatively:"
   ]
  },
  {
   "cell_type": "markdown",
   "metadata": {
    "slideshow": {
     "slide_type": "fragment"
    }
   },
   "source": [
    "> Data Scientist (n.): Person who is <b>worse at statistics than any statistician</b> and <b>worse at software engineering than any software engineer</b>."
   ]
  },
  {
   "cell_type": "markdown",
   "metadata": {
    "nbpresent": {
     "id": "53762eb2-9aa4-4b59-8986-37b91f9f269f"
    },
    "slideshow": {
     "slide_type": "slide"
    }
   },
   "source": [
    "http://www.kdnuggets.com/2016/10/battle-data-science-venn-diagrams.html"
   ]
  },
  {
   "cell_type": "markdown",
   "metadata": {
    "nbpresent": {
     "id": "edeee317-3c50-4714-bbec-6cca26c2d518"
    },
    "slideshow": {
     "slide_type": "slide"
    }
   },
   "source": [
    "<img src=\"images/Data_Science_VD.png\" />"
   ]
  },
  {
   "cell_type": "markdown",
   "metadata": {
    "nbpresent": {
     "id": "21e3f8d1-7a79-4970-8e75-e7eab3c2653a"
    },
    "slideshow": {
     "slide_type": "slide"
    }
   },
   "source": [
    "<img src=\"images/VennDiagram2.png\" />\n",
    "Joel Grus"
   ]
  },
  {
   "cell_type": "markdown",
   "metadata": {
    "slideshow": {
     "slide_type": "slide"
    }
   },
   "source": [
    "### Data Science &ne; Magic"
   ]
  },
  {
   "cell_type": "markdown",
   "metadata": {
    "slideshow": {
     "slide_type": "fragment"
    }
   },
   "source": [
    "\"Can we find something interesting in this data?\" <b>Yes</b>"
   ]
  },
  {
   "cell_type": "markdown",
   "metadata": {
    "slideshow": {
     "slide_type": "fragment"
    }
   },
   "source": [
    "\"Will it solve our business problem?\" <b>Maybe</b>"
   ]
  },
  {
   "cell_type": "markdown",
   "metadata": {
    "nbpresent": {
     "id": "47428576-bef1-413d-8ce9-c27c19a89469"
    },
    "slideshow": {
     "slide_type": "fragment"
    }
   },
   "source": [
    "\"Will it be easy?\" <b>Probably not</b>"
   ]
  },
  {
   "cell_type": "markdown",
   "metadata": {
    "slideshow": {
     "slide_type": "slide"
    }
   },
   "source": [
    "### What does a Data Science workflow look like?"
   ]
  },
  {
   "cell_type": "markdown",
   "metadata": {
    "slideshow": {
     "slide_type": "fragment"
    }
   },
   "source": [
    "Business Need &rarr; "
   ]
  },
  {
   "cell_type": "markdown",
   "metadata": {
    "slideshow": {
     "slide_type": "fragment"
    }
   },
   "source": [
    "DS Question &rarr; "
   ]
  },
  {
   "cell_type": "markdown",
   "metadata": {
    "slideshow": {
     "slide_type": "fragment"
    }
   },
   "source": [
    "ETL &harr; "
   ]
  },
  {
   "cell_type": "markdown",
   "metadata": {
    "slideshow": {
     "slide_type": "fragment"
    }
   },
   "source": [
    "Experimentation &rarr; "
   ]
  },
  {
   "cell_type": "markdown",
   "metadata": {
    "slideshow": {
     "slide_type": "fragment"
    }
   },
   "source": [
    "Tool Creation &rarr; "
   ]
  },
  {
   "cell_type": "markdown",
   "metadata": {
    "slideshow": {
     "slide_type": "fragment"
    }
   },
   "source": [
    "Reporting"
   ]
  },
  {
   "cell_type": "markdown",
   "metadata": {
    "slideshow": {
     "slide_type": "slide"
    }
   },
   "source": [
    "### Important: What's the question?"
   ]
  },
  {
   "cell_type": "markdown",
   "metadata": {
    "slideshow": {
     "slide_type": "slide"
    }
   },
   "source": [
    "### What will we be covering in this course? (Part 1)"
   ]
  },
  {
   "cell_type": "markdown",
   "metadata": {
    "slideshow": {
     "slide_type": "fragment"
    }
   },
   "source": [
    "- Week #1 Introduction to Data Science problems and tools"
   ]
  },
  {
   "cell_type": "markdown",
   "metadata": {
    "slideshow": {
     "slide_type": "fragment"
    }
   },
   "source": [
    "- Week #2 Data Processing and Delivery: ETL and API"
   ]
  },
  {
   "cell_type": "markdown",
   "metadata": {
    "slideshow": {
     "slide_type": "fragment"
    }
   },
   "source": [
    "- Week #3 Data Exploration and Visualization"
   ]
  },
  {
   "cell_type": "markdown",
   "metadata": {
    "slideshow": {
     "slide_type": "fragment"
    }
   },
   "source": [
    "- Week #4 Statistical Modeling and Hypothesis Testing"
   ]
  },
  {
   "cell_type": "markdown",
   "metadata": {
    "slideshow": {
     "slide_type": "fragment"
    }
   },
   "source": [
    "- Week #5 Classification and Regression"
   ]
  },
  {
   "cell_type": "markdown",
   "metadata": {
    "slideshow": {
     "slide_type": "fragment"
    }
   },
   "source": [
    "- Week #6 Feature Engineering and Application: Natural Language Processing"
   ]
  },
  {
   "cell_type": "markdown",
   "metadata": {
    "slideshow": {
     "slide_type": "fragment"
    }
   },
   "source": [
    "- Week #7 Midterm Exam"
   ]
  },
  {
   "cell_type": "markdown",
   "metadata": {
    "slideshow": {
     "slide_type": "slide"
    }
   },
   "source": [
    "### What will we be covering in this course? (Part 2)"
   ]
  },
  {
   "cell_type": "markdown",
   "metadata": {
    "slideshow": {
     "slide_type": "fragment"
    }
   },
   "source": [
    "- Week #8 Data Cleaning and Management"
   ]
  },
  {
   "cell_type": "markdown",
   "metadata": {
    "slideshow": {
     "slide_type": "fragment"
    }
   },
   "source": [
    "- Week #9 Feature Selection, Model Evaluation and Selection"
   ]
  },
  {
   "cell_type": "markdown",
   "metadata": {
    "slideshow": {
     "slide_type": "fragment"
    }
   },
   "source": [
    "- Week #10 Project Reporting and Application: Time Series"
   ]
  },
  {
   "cell_type": "markdown",
   "metadata": {
    "slideshow": {
     "slide_type": "fragment"
    }
   },
   "source": [
    "- Week #11 Dimensionality Reduction and Application: Image Recognition"
   ]
  },
  {
   "cell_type": "markdown",
   "metadata": {
    "slideshow": {
     "slide_type": "fragment"
    }
   },
   "source": [
    "- Week #12 Clustering and Topic Modeling"
   ]
  },
  {
   "cell_type": "markdown",
   "metadata": {
    "slideshow": {
     "slide_type": "fragment"
    }
   },
   "source": [
    "- Week #13 Review, summary and Application: Recommendation Engine?"
   ]
  },
  {
   "cell_type": "markdown",
   "metadata": {
    "slideshow": {
     "slide_type": "slide"
    }
   },
   "source": [
    "### Why Python?"
   ]
  },
  {
   "cell_type": "markdown",
   "metadata": {
    "slideshow": {
     "slide_type": "fragment"
    }
   },
   "source": [
    "- concise\n",
    "- optimized libraries\n",
    "- well supported and growing"
   ]
  },
  {
   "cell_type": "markdown",
   "metadata": {
    "slideshow": {
     "slide_type": "slide"
    }
   },
   "source": [
    "### What are the tools we will be using?"
   ]
  },
  {
   "cell_type": "markdown",
   "metadata": {
    "slideshow": {
     "slide_type": "fragment"
    }
   },
   "source": [
    "- [python 3.7.0 via anaconda](https://www.anaconda.com/download/#download)"
   ]
  },
  {
   "cell_type": "markdown",
   "metadata": {
    "slideshow": {
     "slide_type": "fragment"
    }
   },
   "source": [
    "- [pandas 0.23.4](http://pandas.pydata.org/)"
   ]
  },
  {
   "cell_type": "markdown",
   "metadata": {
    "slideshow": {
     "slide_type": "fragment"
    }
   },
   "source": [
    "- [scikit-learn aka sklearn 0.19](http://scikit-learn.org/)\n",
    "- scikit-image 0.14.0"
   ]
  },
  {
   "cell_type": "markdown",
   "metadata": {
    "slideshow": {
     "slide_type": "fragment"
    }
   },
   "source": [
    "- [seaborn 0.9](https://seaborn.pydata.org/)"
   ]
  },
  {
   "cell_type": "markdown",
   "metadata": {
    "slideshow": {
     "slide_type": "fragment"
    }
   },
   "source": [
    "- [sqlalchamy](https://www.sqlalchemy.org/)"
   ]
  },
  {
   "cell_type": "markdown",
   "metadata": {
    "slideshow": {
     "slide_type": "slide"
    }
   },
   "source": [
    "### Which package manager should I use?"
   ]
  },
  {
   "cell_type": "markdown",
   "metadata": {
    "slideshow": {
     "slide_type": "fragment"
    }
   },
   "source": [
    "Suggestion:\n",
    "\n",
    "Anaconda "
   ]
  },
  {
   "cell_type": "markdown",
   "metadata": {
    "slideshow": {
     "slide_type": "fragment"
    }
   },
   "source": [
    "- platform agnostic\n",
    "- package curation\n",
    "- reduced risk of messing up required system libraries\n",
    "- convenient virtual environment functionality"
   ]
  },
  {
   "cell_type": "markdown",
   "metadata": {
    "slideshow": {
     "slide_type": "fragment"
    }
   },
   "source": [
    "[download](https://www.anaconda.com/download/) [documentation](https://docs.continuum.io/anaconda/)"
   ]
  },
  {
   "cell_type": "markdown",
   "metadata": {
    "slideshow": {
     "slide_type": "slide"
    }
   },
   "source": [
    "### Why use a virtual environment?"
   ]
  },
  {
   "cell_type": "markdown",
   "metadata": {
    "slideshow": {
     "slide_type": "fragment"
    }
   },
   "source": [
    "- consistent package versioning\n",
    "- can transport across systems\n",
    "- allows for low risk experimentation with new tools"
   ]
  },
  {
   "cell_type": "markdown",
   "metadata": {
    "nbpresent": {
     "id": "aa9ed3a1-af9a-4c21-a838-21be62634c9b"
    },
    "slideshow": {
     "slide_type": "fragment"
    }
   },
   "source": [
    "[documentation](https://conda.io/docs/user-guide/tasks/manage-environments.html)"
   ]
  },
  {
   "cell_type": "markdown",
   "metadata": {
    "slideshow": {
     "slide_type": "slide"
    }
   },
   "source": [
    "### How do I create a virtual environment using conda?"
   ]
  },
  {
   "cell_type": "markdown",
   "metadata": {
    "slideshow": {
     "slide_type": "fragment"
    }
   },
   "source": [
    "    conda create --name coms007 --file requirements.txt"
   ]
  },
  {
   "cell_type": "markdown",
   "metadata": {
    "slideshow": {
     "slide_type": "slide"
    }
   },
   "source": [
    "### How do enter/exit a conda virtual environment?"
   ]
  },
  {
   "cell_type": "markdown",
   "metadata": {
    "slideshow": {
     "slide_type": "fragment"
    }
   },
   "source": [
    "(osx/linux)\n",
    "\n",
    "    source activate coms007\n",
    "    source deactivate"
   ]
  },
  {
   "cell_type": "markdown",
   "metadata": {
    "nbpresent": {
     "id": "37412bb8-98d6-4eef-8e72-0fb5211e5f5b"
    },
    "slideshow": {
     "slide_type": "fragment"
    }
   },
   "source": [
    "(windows)\n",
    "\n",
    "    activate coms007\n",
    "    deactivate"
   ]
  },
  {
   "cell_type": "markdown",
   "metadata": {
    "slideshow": {
     "slide_type": "slide"
    }
   },
   "source": [
    "### Why use jupyter notebooks?"
   ]
  },
  {
   "cell_type": "markdown",
   "metadata": {
    "slideshow": {
     "slide_type": "fragment"
    }
   },
   "source": [
    "- combine text, images, code\n",
    "- documentation of experimentation\n",
    "- easily exportable/sharable"
   ]
  },
  {
   "cell_type": "markdown",
   "metadata": {
    "nbpresent": {
     "id": "d97f9831-912b-4545-88dd-fd23cc1850fc"
    },
    "slideshow": {
     "slide_type": "fragment"
    }
   },
   "source": [
    "[syntax documentation](https://daringfireball.net/projects/markdown/syntax)"
   ]
  },
  {
   "cell_type": "markdown",
   "metadata": {
    "slideshow": {
     "slide_type": "slide"
    }
   },
   "source": [
    "### How do I start a jupyter notebook server?"
   ]
  },
  {
   "cell_type": "markdown",
   "metadata": {
    "nbpresent": {
     "id": "a8917322-8c7b-4748-b5ec-7924fd9e980c"
    },
    "slideshow": {
     "slide_type": "fragment"
    }
   },
   "source": [
    "    jupyter notebook"
   ]
  },
  {
   "cell_type": "markdown",
   "metadata": {
    "slideshow": {
     "slide_type": "slide"
    }
   },
   "source": [
    "### How to get virtual env to show up in kernel list"
   ]
  },
  {
   "cell_type": "markdown",
   "metadata": {
    "slideshow": {
     "slide_type": "fragment"
    }
   },
   "source": [
    "    source activate coms007\n",
    "    \n",
    "    python -m ipykernel install --user --name coms007 --display-name coms007\n",
    "    \n",
    "    source deactivate"
   ]
  },
  {
   "cell_type": "markdown",
   "metadata": {
    "slideshow": {
     "slide_type": "slide"
    }
   },
   "source": [
    "### How to get access to course material?"
   ]
  },
  {
   "cell_type": "markdown",
   "metadata": {
    "slideshow": {
     "slide_type": "fragment"
    }
   },
   "source": [
    "    git clone https://github.com/bryanrgibson/COMSW4995_007_2018_3.git\n",
    "    \n",
    "    git pull\n",
    "    git status\n",
    "    git add ...\n",
    "    git commit -m '...'\n",
    "    git push\n",
    "    \n",
    "    \n",
    "https://guides.github.com/introduction/git-handbook/"
   ]
  },
  {
   "cell_type": "markdown",
   "metadata": {
    "nbpresent": {
     "id": "50ffd993-b6c8-43a3-a4d7-8f3c74bfb08b"
    },
    "slideshow": {
     "slide_type": "slide"
    }
   },
   "source": [
    "## BREAK"
   ]
  },
  {
   "cell_type": "markdown",
   "metadata": {
    "slideshow": {
     "slide_type": "slide"
    }
   },
   "source": [
    "### Places to find more info\n",
    "\n",
    " - kdnuggets.com\n",
    " - datascienceonline.com\n",
    " - ..."
   ]
  },
  {
   "cell_type": "markdown",
   "metadata": {
    "slideshow": {
     "slide_type": "slide"
    }
   },
   "source": [
    "### Places to practice\n",
    "\n",
    " - kaggle.com\n",
    " - datakind.com\n",
    " - ..."
   ]
  },
  {
   "cell_type": "markdown",
   "metadata": {
    "nbpresent": {
     "id": "7397c4be-450c-49e5-bbab-76292836cd23"
    },
    "slideshow": {
     "slide_type": "slide"
    }
   },
   "source": [
    "## What does a Data Science project look like?"
   ]
  },
  {
   "cell_type": "markdown",
   "metadata": {
    "slideshow": {
     "slide_type": "slide"
    }
   },
   "source": [
    "#### Client: \n",
    "\n",
    "Better than Bodega Flowers"
   ]
  },
  {
   "cell_type": "markdown",
   "metadata": {
    "slideshow": {
     "slide_type": "fragment"
    }
   },
   "source": [
    "#### Ask: \n",
    "\n",
    "Need to send out a catalog. Would like to know who to send it to."
   ]
  },
  {
   "cell_type": "markdown",
   "metadata": {
    "slideshow": {
     "slide_type": "fragment"
    }
   },
   "source": [
    "#### One translation: \n",
    "\n",
    "Can classify people according to whether they're likely to reorder?"
   ]
  },
  {
   "cell_type": "code",
   "execution_count": 63,
   "metadata": {
    "nbpresent": {
     "id": "18c8e1e5-e9f5-445c-921e-445ba1d21f17"
    },
    "slideshow": {
     "slide_type": "slide"
    }
   },
   "outputs": [],
   "source": [
    "import warnings\n",
    "warnings.simplefilter(action='ignore', category=FutureWarning)\n",
    "\n",
    "import numpy as np\n",
    "import pandas as pd\n",
    "import seaborn as sns\n",
    "import matplotlib.pyplot as plt\n",
    "\n",
    "%matplotlib inline\n",
    "sns.set()"
   ]
  },
  {
   "cell_type": "code",
   "execution_count": 64,
   "metadata": {
    "slideshow": {
     "slide_type": "fragment"
    }
   },
   "outputs": [],
   "source": [
    "# read in data\n",
    "df = pd.read_csv('../data/week1_flowershop_data.csv', parse_dates=True)"
   ]
  },
  {
   "cell_type": "code",
   "execution_count": 65,
   "metadata": {
    "slideshow": {
     "slide_type": "fragment"
    }
   },
   "outputs": [
    {
     "data": {
      "text/html": [
       "<div>\n",
       "<style scoped>\n",
       "    .dataframe tbody tr th:only-of-type {\n",
       "        vertical-align: middle;\n",
       "    }\n",
       "\n",
       "    .dataframe tbody tr th {\n",
       "        vertical-align: top;\n",
       "    }\n",
       "\n",
       "    .dataframe thead th {\n",
       "        text-align: right;\n",
       "    }\n",
       "</style>\n",
       "<table border=\"1\" class=\"dataframe\">\n",
       "  <thead>\n",
       "    <tr style=\"text-align: right;\">\n",
       "      <th></th>\n",
       "      <th>lastname</th>\n",
       "      <th>purchase_date</th>\n",
       "      <th>stars</th>\n",
       "      <th>price</th>\n",
       "      <th>favorite_flower</th>\n",
       "    </tr>\n",
       "  </thead>\n",
       "  <tbody>\n",
       "    <tr>\n",
       "      <th>0</th>\n",
       "      <td>PERKINS</td>\n",
       "      <td>2017-04-08</td>\n",
       "      <td>5</td>\n",
       "      <td>19.599886</td>\n",
       "      <td>iris</td>\n",
       "    </tr>\n",
       "    <tr>\n",
       "      <th>1</th>\n",
       "      <td>ROBINSON</td>\n",
       "      <td>2017-01-01</td>\n",
       "      <td>5</td>\n",
       "      <td>37.983904</td>\n",
       "      <td>lilac</td>\n",
       "    </tr>\n",
       "    <tr>\n",
       "      <th>2</th>\n",
       "      <td>WILLIAMSON</td>\n",
       "      <td>2017-03-20</td>\n",
       "      <td>4</td>\n",
       "      <td>19.339138</td>\n",
       "      <td>carnation</td>\n",
       "    </tr>\n",
       "    <tr>\n",
       "      <th>3</th>\n",
       "      <td>ROBINSON</td>\n",
       "      <td>2017-04-12</td>\n",
       "      <td>5</td>\n",
       "      <td>18.140616</td>\n",
       "      <td>lilac</td>\n",
       "    </tr>\n",
       "    <tr>\n",
       "      <th>4</th>\n",
       "      <td>RHODES</td>\n",
       "      <td>2017-03-24</td>\n",
       "      <td>1</td>\n",
       "      <td>22.179522</td>\n",
       "      <td>carnation</td>\n",
       "    </tr>\n",
       "  </tbody>\n",
       "</table>\n",
       "</div>"
      ],
      "text/plain": [
       "     lastname purchase_date  stars      price favorite_flower\n",
       "0     PERKINS    2017-04-08      5  19.599886            iris\n",
       "1    ROBINSON    2017-01-01      5  37.983904           lilac\n",
       "2  WILLIAMSON    2017-03-20      4  19.339138       carnation\n",
       "3    ROBINSON    2017-04-12      5  18.140616           lilac\n",
       "4      RHODES    2017-03-24      1  22.179522       carnation"
      ]
     },
     "execution_count": 65,
     "metadata": {},
     "output_type": "execute_result"
    }
   ],
   "source": [
    "df.head()"
   ]
  },
  {
   "cell_type": "code",
   "execution_count": 66,
   "metadata": {
    "slideshow": {
     "slide_type": "slide"
    }
   },
   "outputs": [
    {
     "name": "stdout",
     "output_type": "stream",
     "text": [
      "<class 'pandas.core.frame.DataFrame'>\n",
      "RangeIndex: 1000 entries, 0 to 999\n",
      "Data columns (total 5 columns):\n",
      "lastname           1000 non-null object\n",
      "purchase_date      1000 non-null object\n",
      "stars              1000 non-null int64\n",
      "price              978 non-null float64\n",
      "favorite_flower    1000 non-null object\n",
      "dtypes: float64(1), int64(1), object(3)\n",
      "memory usage: 39.1+ KB\n"
     ]
    }
   ],
   "source": [
    "df.info()"
   ]
  },
  {
   "cell_type": "code",
   "execution_count": 67,
   "metadata": {
    "slideshow": {
     "slide_type": "slide"
    }
   },
   "outputs": [
    {
     "data": {
      "image/png": "[encoded data removed]",
      "text/plain": [
       "<Figure size 360x360 with 1 Axes>"
      ]
     },
     "metadata": {},
     "output_type": "display_data"
    }
   ],
   "source": [
    "# plot histogram for starts\n",
    "_ = sns.catplot(x='stars',kind='count',data=df)"
   ]
  },
  {
   "cell_type": "code",
   "execution_count": 68,
   "metadata": {
    "slideshow": {
     "slide_type": "slide"
    }
   },
   "outputs": [
    {
     "data": {
      "text/plain": [
       "ROBINSON    135\n",
       "DANIELS       9\n",
       "CALDWELL      8\n",
       "JOHNSTON      6\n",
       "JACOBS        6\n",
       "Name: lastname, dtype: int64"
      ]
     },
     "execution_count": 68,
     "metadata": {},
     "output_type": "execute_result"
    }
   ],
   "source": [
    "# get highest name counts\n",
    "df[df.stars == 5].lastname.value_counts().head()"
   ]
  },
  {
   "cell_type": "code",
   "execution_count": 69,
   "metadata": {
    "slideshow": {
     "slide_type": "slide"
    }
   },
   "outputs": [
    {
     "name": "stdout",
     "output_type": "stream",
     "text": [
      "robinson mean stars: 4.230769230769231\n",
      "other mean stars   : 3.433080808080808\n",
      "difference in mean : 0.7976884226884229\n"
     ]
    }
   ],
   "source": [
    "# get differences in mean stars by name\n",
    "robinson_mean = df[df.lastname == 'ROBINSON'].stars.mean()\n",
    "other_mean = df[df.lastname != 'ROBINSON'].stars.mean()\n",
    "robinson_mean_diff = robinson_mean - other_mean\n",
    "print('robinson mean stars: {}'.format(robinson_mean))\n",
    "print('other mean stars   : {}'.format(other_mean))\n",
    "print('difference in mean : {}'.format(robinson_mean_diff))"
   ]
  },
  {
   "cell_type": "code",
   "execution_count": 70,
   "metadata": {
    "slideshow": {
     "slide_type": "fragment"
    }
   },
   "outputs": [
    {
     "name": "stdout",
     "output_type": "stream",
     "text": [
      "n_robinson: 208\n",
      "n_other   : 792\n"
     ]
    }
   ],
   "source": [
    "# get counts for names\n",
    "n_robinson = len(df[df.lastname == 'ROBINSON'])\n",
    "n_other = len(df) - n_robinson\n",
    "print('n_robinson: {}'.format(n_robinson))\n",
    "print('n_other   : {}'.format(n_other))"
   ]
  },
  {
   "cell_type": "code",
   "execution_count": 71,
   "metadata": {
    "slideshow": {
     "slide_type": "slide"
    }
   },
   "outputs": [],
   "source": [
    "# do a permutation test to test for significance of difference\n",
    "\n",
    "stars = df.stars.values\n",
    "mean_diffs = []\n",
    "\n",
    "for i in range(10000):\n",
    "    perm = np.random.permutation(stars)\n",
    "    mean_1 = np.sum(perm[:n_robinson] / n_robinson)\n",
    "    mean_2 = np.sum(perm[n_robinson:] / n_other)\n",
    "    mean_diffs.append(mean_1-mean_2)"
   ]
  },
  {
   "cell_type": "code",
   "execution_count": 72,
   "metadata": {
    "slideshow": {
     "slide_type": "fragment"
    }
   },
   "outputs": [
    {
     "data": {
      "image/png": "[encoded data removed]",
      "text/plain": [
       "<Figure size 432x288 with 1 Axes>"
      ]
     },
     "metadata": {},
     "output_type": "display_data"
    }
   ],
   "source": [
    "_ = plt.hist(mean_diffs)\n",
    "_ = plt.vlines(x=robinson_mean_diff, ymin = 0, ymax = 3000)\n",
    "_ = plt.xlabel('mean differences')\n",
    "_ = plt.ylabel('count')"
   ]
  },
  {
   "cell_type": "code",
   "execution_count": 73,
   "metadata": {
    "slideshow": {
     "slide_type": "slide"
    }
   },
   "outputs": [
    {
     "name": "stdout",
     "output_type": "stream",
     "text": [
      "0.0\n"
     ]
    }
   ],
   "source": [
    "# calculate the p-value\n",
    "p = sum(mean_diffs >= robinson_mean_diff) / len(mean_diffs)\n",
    "print(p)"
   ]
  },
  {
   "cell_type": "code",
   "execution_count": 74,
   "metadata": {
    "slideshow": {
     "slide_type": "fragment"
    }
   },
   "outputs": [],
   "source": [
    "# get rid of ROBINSON\n",
    "df = df[df.lastname != 'ROBINSON']"
   ]
  },
  {
   "cell_type": "code",
   "execution_count": 75,
   "metadata": {
    "slideshow": {
     "slide_type": "slide"
    }
   },
   "outputs": [
    {
     "data": {
      "image/png": "[encoded data removed]",
      "text/plain": [
       "<Figure size 360x360 with 1 Axes>"
      ]
     },
     "metadata": {},
     "output_type": "display_data"
    }
   ],
   "source": [
    "_ = sns.catplot(x='stars', kind='count', data=df)"
   ]
  },
  {
   "cell_type": "code",
   "execution_count": 76,
   "metadata": {
    "slideshow": {
     "slide_type": "slide"
    }
   },
   "outputs": [
    {
     "name": "stdout",
     "output_type": "stream",
     "text": [
      "<class 'pandas.core.frame.DataFrame'>\n",
      "Int64Index: 792 entries, 0 to 998\n",
      "Data columns (total 5 columns):\n",
      "lastname           792 non-null object\n",
      "purchase_date      792 non-null object\n",
      "stars              792 non-null int64\n",
      "price              772 non-null float64\n",
      "favorite_flower    792 non-null object\n",
      "dtypes: float64(1), int64(1), object(3)\n",
      "memory usage: 77.1+ KB\n"
     ]
    }
   ],
   "source": [
    "df.info()"
   ]
  },
  {
   "cell_type": "code",
   "execution_count": 77,
   "metadata": {
    "slideshow": {
     "slide_type": "slide"
    }
   },
   "outputs": [
    {
     "data": {
      "text/plain": [
       "count    772.000000\n",
       "mean      23.720669\n",
       "std       11.154642\n",
       "min        7.621566\n",
       "25%       18.596314\n",
       "50%       20.226653\n",
       "75%       38.837663\n",
       "max       42.996317\n",
       "Name: price, dtype: float64"
      ]
     },
     "execution_count": 77,
     "metadata": {},
     "output_type": "execute_result"
    }
   ],
   "source": [
    "# deal with missing prices\n",
    "df.price.describe()"
   ]
  },
  {
   "cell_type": "code",
   "execution_count": 78,
   "metadata": {
    "slideshow": {
     "slide_type": "fragment"
    }
   },
   "outputs": [],
   "source": [
    "df.price.fillna(df.price.mean(),inplace=True)"
   ]
  },
  {
   "cell_type": "code",
   "execution_count": 79,
   "metadata": {
    "slideshow": {
     "slide_type": "fragment"
    }
   },
   "outputs": [
    {
     "data": {
      "text/plain": [
       "count    792.000000\n",
       "mean      23.720669\n",
       "std       11.012720\n",
       "min        7.621566\n",
       "25%       18.667060\n",
       "50%       20.277274\n",
       "75%       38.721417\n",
       "max       42.996317\n",
       "Name: price, dtype: float64"
      ]
     },
     "execution_count": 79,
     "metadata": {},
     "output_type": "execute_result"
    }
   ],
   "source": [
    "df.price.describe()"
   ]
  },
  {
   "cell_type": "code",
   "execution_count": 80,
   "metadata": {
    "slideshow": {
     "slide_type": "slide"
    }
   },
   "outputs": [
    {
     "data": {
      "image/png": "[encoded data removed]",
      "text/plain": [
       "<Figure size 432x288 with 1 Axes>"
      ]
     },
     "metadata": {},
     "output_type": "display_data"
    }
   ],
   "source": [
    "_ = sns.distplot(df.price, hist=False, rug=True)"
   ]
  },
  {
   "cell_type": "code",
   "execution_count": 81,
   "metadata": {
    "slideshow": {
     "slide_type": "slide"
    }
   },
   "outputs": [
    {
     "name": "stdout",
     "output_type": "stream",
     "text": [
      "<class 'pandas.core.frame.DataFrame'>\n",
      "Int64Index: 792 entries, 0 to 998\n",
      "Data columns (total 5 columns):\n",
      "lastname           792 non-null object\n",
      "purchase_date      792 non-null object\n",
      "stars              792 non-null int64\n",
      "price              792 non-null float64\n",
      "favorite_flower    792 non-null object\n",
      "dtypes: float64(1), int64(1), object(3)\n",
      "memory usage: 77.1+ KB\n"
     ]
    }
   ],
   "source": [
    "df.info()"
   ]
  },
  {
   "cell_type": "code",
   "execution_count": 82,
   "metadata": {
    "slideshow": {
     "slide_type": "slide"
    }
   },
   "outputs": [
    {
     "data": {
      "text/plain": [
       "0         iris\n",
       "2    carnation\n",
       "4    carnation\n",
       "5      gerbera\n",
       "7      gerbera\n",
       "Name: favorite_flower, dtype: object"
      ]
     },
     "execution_count": 82,
     "metadata": {},
     "output_type": "execute_result"
    }
   ],
   "source": [
    "# deal with flower\n",
    "df.favorite_flower.head()"
   ]
  },
  {
   "cell_type": "code",
   "execution_count": 83,
   "metadata": {
    "slideshow": {
     "slide_type": "fragment"
    }
   },
   "outputs": [],
   "source": [
    "flower_dummies = pd.get_dummies(df.favorite_flower, prefix='favorite_flower')"
   ]
  },
  {
   "cell_type": "code",
   "execution_count": 84,
   "metadata": {
    "slideshow": {
     "slide_type": "fragment"
    }
   },
   "outputs": [],
   "source": [
    "df = df.join(flower_dummies)"
   ]
  },
  {
   "cell_type": "code",
   "execution_count": 85,
   "metadata": {
    "slideshow": {
     "slide_type": "slide"
    }
   },
   "outputs": [
    {
     "data": {
      "text/html": [
       "<div>\n",
       "<style scoped>\n",
       "    .dataframe tbody tr th:only-of-type {\n",
       "        vertical-align: middle;\n",
       "    }\n",
       "\n",
       "    .dataframe tbody tr th {\n",
       "        vertical-align: top;\n",
       "    }\n",
       "\n",
       "    .dataframe thead th {\n",
       "        text-align: right;\n",
       "    }\n",
       "</style>\n",
       "<table border=\"1\" class=\"dataframe\">\n",
       "  <thead>\n",
       "    <tr style=\"text-align: right;\">\n",
       "      <th></th>\n",
       "      <th>lastname</th>\n",
       "      <th>purchase_date</th>\n",
       "      <th>stars</th>\n",
       "      <th>price</th>\n",
       "      <th>favorite_flower</th>\n",
       "      <th>favorite_flower_carnation</th>\n",
       "      <th>favorite_flower_daffodil</th>\n",
       "      <th>favorite_flower_daisy</th>\n",
       "      <th>favorite_flower_gardenia</th>\n",
       "      <th>favorite_flower_gerbera</th>\n",
       "      <th>favorite_flower_iris</th>\n",
       "      <th>favorite_flower_jasmine</th>\n",
       "      <th>favorite_flower_lilac</th>\n",
       "      <th>favorite_flower_orchid</th>\n",
       "      <th>favorite_flower_rose</th>\n",
       "      <th>favorite_flower_sunflower</th>\n",
       "      <th>favorite_flower_tulip</th>\n",
       "    </tr>\n",
       "  </thead>\n",
       "  <tbody>\n",
       "    <tr>\n",
       "      <th>0</th>\n",
       "      <td>PERKINS</td>\n",
       "      <td>2017-04-08</td>\n",
       "      <td>5</td>\n",
       "      <td>19.599886</td>\n",
       "      <td>iris</td>\n",
       "      <td>0</td>\n",
       "      <td>0</td>\n",
       "      <td>0</td>\n",
       "      <td>0</td>\n",
       "      <td>0</td>\n",
       "      <td>1</td>\n",
       "      <td>0</td>\n",
       "      <td>0</td>\n",
       "      <td>0</td>\n",
       "      <td>0</td>\n",
       "      <td>0</td>\n",
       "      <td>0</td>\n",
       "    </tr>\n",
       "    <tr>\n",
       "      <th>2</th>\n",
       "      <td>WILLIAMSON</td>\n",
       "      <td>2017-03-20</td>\n",
       "      <td>4</td>\n",
       "      <td>19.339138</td>\n",
       "      <td>carnation</td>\n",
       "      <td>1</td>\n",
       "      <td>0</td>\n",
       "      <td>0</td>\n",
       "      <td>0</td>\n",
       "      <td>0</td>\n",
       "      <td>0</td>\n",
       "      <td>0</td>\n",
       "      <td>0</td>\n",
       "      <td>0</td>\n",
       "      <td>0</td>\n",
       "      <td>0</td>\n",
       "      <td>0</td>\n",
       "    </tr>\n",
       "    <tr>\n",
       "      <th>4</th>\n",
       "      <td>RHODES</td>\n",
       "      <td>2017-03-24</td>\n",
       "      <td>1</td>\n",
       "      <td>22.179522</td>\n",
       "      <td>carnation</td>\n",
       "      <td>1</td>\n",
       "      <td>0</td>\n",
       "      <td>0</td>\n",
       "      <td>0</td>\n",
       "      <td>0</td>\n",
       "      <td>0</td>\n",
       "      <td>0</td>\n",
       "      <td>0</td>\n",
       "      <td>0</td>\n",
       "      <td>0</td>\n",
       "      <td>0</td>\n",
       "      <td>0</td>\n",
       "    </tr>\n",
       "    <tr>\n",
       "      <th>5</th>\n",
       "      <td>NGUYEN</td>\n",
       "      <td>2017-01-03</td>\n",
       "      <td>3</td>\n",
       "      <td>9.713733</td>\n",
       "      <td>gerbera</td>\n",
       "      <td>0</td>\n",
       "      <td>0</td>\n",
       "      <td>0</td>\n",
       "      <td>0</td>\n",
       "      <td>1</td>\n",
       "      <td>0</td>\n",
       "      <td>0</td>\n",
       "      <td>0</td>\n",
       "      <td>0</td>\n",
       "      <td>0</td>\n",
       "      <td>0</td>\n",
       "      <td>0</td>\n",
       "    </tr>\n",
       "    <tr>\n",
       "      <th>7</th>\n",
       "      <td>GRAVES</td>\n",
       "      <td>2017-02-26</td>\n",
       "      <td>5</td>\n",
       "      <td>9.912852</td>\n",
       "      <td>gerbera</td>\n",
       "      <td>0</td>\n",
       "      <td>0</td>\n",
       "      <td>0</td>\n",
       "      <td>0</td>\n",
       "      <td>1</td>\n",
       "      <td>0</td>\n",
       "      <td>0</td>\n",
       "      <td>0</td>\n",
       "      <td>0</td>\n",
       "      <td>0</td>\n",
       "      <td>0</td>\n",
       "      <td>0</td>\n",
       "    </tr>\n",
       "  </tbody>\n",
       "</table>\n",
       "</div>"
      ],
      "text/plain": [
       "     lastname purchase_date  stars      price favorite_flower  \\\n",
       "0     PERKINS    2017-04-08      5  19.599886            iris   \n",
       "2  WILLIAMSON    2017-03-20      4  19.339138       carnation   \n",
       "4      RHODES    2017-03-24      1  22.179522       carnation   \n",
       "5      NGUYEN    2017-01-03      3   9.713733         gerbera   \n",
       "7      GRAVES    2017-02-26      5   9.912852         gerbera   \n",
       "\n",
       "   favorite_flower_carnation  favorite_flower_daffodil  favorite_flower_daisy  \\\n",
       "0                          0                         0                      0   \n",
       "2                          1                         0                      0   \n",
       "4                          1                         0                      0   \n",
       "5                          0                         0                      0   \n",
       "7                          0                         0                      0   \n",
       "\n",
       "   favorite_flower_gardenia  favorite_flower_gerbera  favorite_flower_iris  \\\n",
       "0                         0                        0                     1   \n",
       "2                         0                        0                     0   \n",
       "4                         0                        0                     0   \n",
       "5                         0                        1                     0   \n",
       "7                         0                        1                     0   \n",
       "\n",
       "   favorite_flower_jasmine  favorite_flower_lilac  favorite_flower_orchid  \\\n",
       "0                        0                      0                       0   \n",
       "2                        0                      0                       0   \n",
       "4                        0                      0                       0   \n",
       "5                        0                      0                       0   \n",
       "7                        0                      0                       0   \n",
       "\n",
       "   favorite_flower_rose  favorite_flower_sunflower  favorite_flower_tulip  \n",
       "0                     0                          0                      0  \n",
       "2                     0                          0                      0  \n",
       "4                     0                          0                      0  \n",
       "5                     0                          0                      0  \n",
       "7                     0                          0                      0  "
      ]
     },
     "execution_count": 85,
     "metadata": {},
     "output_type": "execute_result"
    }
   ],
   "source": [
    "df.head()"
   ]
  },
  {
   "cell_type": "code",
   "execution_count": 86,
   "metadata": {
    "slideshow": {
     "slide_type": "slide"
    }
   },
   "outputs": [],
   "source": [
    "#collapse rows\n",
    "g = df.groupby('lastname')"
   ]
  },
  {
   "cell_type": "code",
   "execution_count": 87,
   "metadata": {
    "slideshow": {
     "slide_type": "fragment"
    }
   },
   "outputs": [
    {
     "data": {
      "text/plain": [
       "lastname\n",
       "ADAMS        38.617753\n",
       "ALEXANDER    30.106511\n",
       "ALLEN        26.657993\n",
       "ALVAREZ      20.676235\n",
       "ANDERSON     14.653257\n",
       "Name: price, dtype: float64"
      ]
     },
     "execution_count": 87,
     "metadata": {},
     "output_type": "execute_result"
    }
   ],
   "source": [
    "mean_prices = g.price.mean()\n",
    "mean_prices.head()"
   ]
  },
  {
   "cell_type": "code",
   "execution_count": 88,
   "metadata": {
    "slideshow": {
     "slide_type": "slide"
    }
   },
   "outputs": [],
   "source": [
    "# create new dataframe for engineered features\n",
    "dfe = pd.DataFrame()"
   ]
  },
  {
   "cell_type": "code",
   "execution_count": 89,
   "metadata": {
    "slideshow": {
     "slide_type": "fragment"
    }
   },
   "outputs": [],
   "source": [
    "dfe['mean_price'] = mean_prices"
   ]
  },
  {
   "cell_type": "code",
   "execution_count": 90,
   "metadata": {
    "slideshow": {
     "slide_type": "fragment"
    }
   },
   "outputs": [
    {
     "data": {
      "text/html": [
       "<div>\n",
       "<style scoped>\n",
       "    .dataframe tbody tr th:only-of-type {\n",
       "        vertical-align: middle;\n",
       "    }\n",
       "\n",
       "    .dataframe tbody tr th {\n",
       "        vertical-align: top;\n",
       "    }\n",
       "\n",
       "    .dataframe thead th {\n",
       "        text-align: right;\n",
       "    }\n",
       "</style>\n",
       "<table border=\"1\" class=\"dataframe\">\n",
       "  <thead>\n",
       "    <tr style=\"text-align: right;\">\n",
       "      <th></th>\n",
       "      <th>mean_price</th>\n",
       "    </tr>\n",
       "    <tr>\n",
       "      <th>lastname</th>\n",
       "      <th></th>\n",
       "    </tr>\n",
       "  </thead>\n",
       "  <tbody>\n",
       "    <tr>\n",
       "      <th>ADAMS</th>\n",
       "      <td>38.617753</td>\n",
       "    </tr>\n",
       "    <tr>\n",
       "      <th>ALEXANDER</th>\n",
       "      <td>30.106511</td>\n",
       "    </tr>\n",
       "    <tr>\n",
       "      <th>ALLEN</th>\n",
       "      <td>26.657993</td>\n",
       "    </tr>\n",
       "    <tr>\n",
       "      <th>ALVAREZ</th>\n",
       "      <td>20.676235</td>\n",
       "    </tr>\n",
       "    <tr>\n",
       "      <th>ANDERSON</th>\n",
       "      <td>14.653257</td>\n",
       "    </tr>\n",
       "  </tbody>\n",
       "</table>\n",
       "</div>"
      ],
      "text/plain": [
       "           mean_price\n",
       "lastname             \n",
       "ADAMS       38.617753\n",
       "ALEXANDER   30.106511\n",
       "ALLEN       26.657993\n",
       "ALVAREZ     20.676235\n",
       "ANDERSON    14.653257"
      ]
     },
     "execution_count": 90,
     "metadata": {},
     "output_type": "execute_result"
    }
   ],
   "source": [
    "dfe.head()"
   ]
  },
  {
   "cell_type": "code",
   "execution_count": 91,
   "metadata": {
    "slideshow": {
     "slide_type": "slide"
    }
   },
   "outputs": [],
   "source": [
    "from scipy.stats import zscore\n",
    "\n",
    "dfe['mean_price_normed'] = zscore(dfe.mean_price.values)"
   ]
  },
  {
   "cell_type": "code",
   "execution_count": 92,
   "metadata": {
    "slideshow": {
     "slide_type": "fragment"
    }
   },
   "outputs": [
    {
     "data": {
      "text/html": [
       "<div>\n",
       "<style scoped>\n",
       "    .dataframe tbody tr th:only-of-type {\n",
       "        vertical-align: middle;\n",
       "    }\n",
       "\n",
       "    .dataframe tbody tr th {\n",
       "        vertical-align: top;\n",
       "    }\n",
       "\n",
       "    .dataframe thead th {\n",
       "        text-align: right;\n",
       "    }\n",
       "</style>\n",
       "<table border=\"1\" class=\"dataframe\">\n",
       "  <thead>\n",
       "    <tr style=\"text-align: right;\">\n",
       "      <th></th>\n",
       "      <th>mean_price</th>\n",
       "      <th>mean_price_normed</th>\n",
       "    </tr>\n",
       "    <tr>\n",
       "      <th>lastname</th>\n",
       "      <th></th>\n",
       "      <th></th>\n",
       "    </tr>\n",
       "  </thead>\n",
       "  <tbody>\n",
       "    <tr>\n",
       "      <th>ADAMS</th>\n",
       "      <td>38.617753</td>\n",
       "      <td>1.852124</td>\n",
       "    </tr>\n",
       "    <tr>\n",
       "      <th>ALEXANDER</th>\n",
       "      <td>30.106511</td>\n",
       "      <td>0.825236</td>\n",
       "    </tr>\n",
       "    <tr>\n",
       "      <th>ALLEN</th>\n",
       "      <td>26.657993</td>\n",
       "      <td>0.409170</td>\n",
       "    </tr>\n",
       "    <tr>\n",
       "      <th>ALVAREZ</th>\n",
       "      <td>20.676235</td>\n",
       "      <td>-0.312534</td>\n",
       "    </tr>\n",
       "    <tr>\n",
       "      <th>ANDERSON</th>\n",
       "      <td>14.653257</td>\n",
       "      <td>-1.039211</td>\n",
       "    </tr>\n",
       "  </tbody>\n",
       "</table>\n",
       "</div>"
      ],
      "text/plain": [
       "           mean_price  mean_price_normed\n",
       "lastname                                \n",
       "ADAMS       38.617753           1.852124\n",
       "ALEXANDER   30.106511           0.825236\n",
       "ALLEN       26.657993           0.409170\n",
       "ALVAREZ     20.676235          -0.312534\n",
       "ANDERSON    14.653257          -1.039211"
      ]
     },
     "execution_count": 92,
     "metadata": {},
     "output_type": "execute_result"
    }
   ],
   "source": [
    "dfe.head()"
   ]
  },
  {
   "cell_type": "code",
   "execution_count": 93,
   "metadata": {
    "slideshow": {
     "slide_type": "fragment"
    }
   },
   "outputs": [],
   "source": [
    "dfe.drop('mean_price',axis=1,inplace=True)"
   ]
  },
  {
   "cell_type": "code",
   "execution_count": 94,
   "metadata": {
    "slideshow": {
     "slide_type": "slide"
    }
   },
   "outputs": [
    {
     "data": {
      "text/plain": [
       "lastname\n",
       "ADAMS        2.5\n",
       "ALEXANDER    4.5\n",
       "ALLEN        4.0\n",
       "ALVAREZ      3.0\n",
       "ANDERSON     2.0\n",
       "Name: stars, dtype: float64"
      ]
     },
     "execution_count": 94,
     "metadata": {},
     "output_type": "execute_result"
    }
   ],
   "source": [
    "g.stars.median().head()"
   ]
  },
  {
   "cell_type": "code",
   "execution_count": 95,
   "metadata": {
    "slideshow": {
     "slide_type": "fragment"
    }
   },
   "outputs": [],
   "source": [
    "dfe['median_stars'] = g.stars.median()"
   ]
  },
  {
   "cell_type": "code",
   "execution_count": 96,
   "metadata": {
    "slideshow": {
     "slide_type": "fragment"
    }
   },
   "outputs": [
    {
     "data": {
      "text/html": [
       "<div>\n",
       "<style scoped>\n",
       "    .dataframe tbody tr th:only-of-type {\n",
       "        vertical-align: middle;\n",
       "    }\n",
       "\n",
       "    .dataframe tbody tr th {\n",
       "        vertical-align: top;\n",
       "    }\n",
       "\n",
       "    .dataframe thead th {\n",
       "        text-align: right;\n",
       "    }\n",
       "</style>\n",
       "<table border=\"1\" class=\"dataframe\">\n",
       "  <thead>\n",
       "    <tr style=\"text-align: right;\">\n",
       "      <th></th>\n",
       "      <th>mean_price_normed</th>\n",
       "      <th>median_stars</th>\n",
       "    </tr>\n",
       "    <tr>\n",
       "      <th>lastname</th>\n",
       "      <th></th>\n",
       "      <th></th>\n",
       "    </tr>\n",
       "  </thead>\n",
       "  <tbody>\n",
       "    <tr>\n",
       "      <th>ADAMS</th>\n",
       "      <td>1.852124</td>\n",
       "      <td>2.5</td>\n",
       "    </tr>\n",
       "    <tr>\n",
       "      <th>ALEXANDER</th>\n",
       "      <td>0.825236</td>\n",
       "      <td>4.5</td>\n",
       "    </tr>\n",
       "    <tr>\n",
       "      <th>ALLEN</th>\n",
       "      <td>0.409170</td>\n",
       "      <td>4.0</td>\n",
       "    </tr>\n",
       "    <tr>\n",
       "      <th>ALVAREZ</th>\n",
       "      <td>-0.312534</td>\n",
       "      <td>3.0</td>\n",
       "    </tr>\n",
       "    <tr>\n",
       "      <th>ANDERSON</th>\n",
       "      <td>-1.039211</td>\n",
       "      <td>2.0</td>\n",
       "    </tr>\n",
       "  </tbody>\n",
       "</table>\n",
       "</div>"
      ],
      "text/plain": [
       "           mean_price_normed  median_stars\n",
       "lastname                                  \n",
       "ADAMS               1.852124           2.5\n",
       "ALEXANDER           0.825236           4.5\n",
       "ALLEN               0.409170           4.0\n",
       "ALVAREZ            -0.312534           3.0\n",
       "ANDERSON           -1.039211           2.0"
      ]
     },
     "execution_count": 96,
     "metadata": {},
     "output_type": "execute_result"
    }
   ],
   "source": [
    "dfe.head()"
   ]
  },
  {
   "cell_type": "code",
   "execution_count": 97,
   "metadata": {
    "slideshow": {
     "slide_type": "fragment"
    }
   },
   "outputs": [],
   "source": [
    "dfe['median_stars_normed'] = zscore(dfe.median_stars.values)\n",
    "dfe.drop('median_stars',axis=1,inplace=True)"
   ]
  },
  {
   "cell_type": "code",
   "execution_count": 98,
   "metadata": {
    "slideshow": {
     "slide_type": "slide"
    }
   },
   "outputs": [
    {
     "data": {
      "text/html": [
       "<div>\n",
       "<style scoped>\n",
       "    .dataframe tbody tr th:only-of-type {\n",
       "        vertical-align: middle;\n",
       "    }\n",
       "\n",
       "    .dataframe tbody tr th {\n",
       "        vertical-align: top;\n",
       "    }\n",
       "\n",
       "    .dataframe thead th {\n",
       "        text-align: right;\n",
       "    }\n",
       "</style>\n",
       "<table border=\"1\" class=\"dataframe\">\n",
       "  <thead>\n",
       "    <tr style=\"text-align: right;\">\n",
       "      <th></th>\n",
       "      <th>mean_price_normed</th>\n",
       "      <th>median_stars_normed</th>\n",
       "    </tr>\n",
       "    <tr>\n",
       "      <th>lastname</th>\n",
       "      <th></th>\n",
       "      <th></th>\n",
       "    </tr>\n",
       "  </thead>\n",
       "  <tbody>\n",
       "    <tr>\n",
       "      <th>ADAMS</th>\n",
       "      <td>1.852124</td>\n",
       "      <td>-0.946378</td>\n",
       "    </tr>\n",
       "    <tr>\n",
       "      <th>ALEXANDER</th>\n",
       "      <td>0.825236</td>\n",
       "      <td>1.053515</td>\n",
       "    </tr>\n",
       "    <tr>\n",
       "      <th>ALLEN</th>\n",
       "      <td>0.409170</td>\n",
       "      <td>0.553542</td>\n",
       "    </tr>\n",
       "    <tr>\n",
       "      <th>ALVAREZ</th>\n",
       "      <td>-0.312534</td>\n",
       "      <td>-0.446405</td>\n",
       "    </tr>\n",
       "    <tr>\n",
       "      <th>ANDERSON</th>\n",
       "      <td>-1.039211</td>\n",
       "      <td>-1.446352</td>\n",
       "    </tr>\n",
       "  </tbody>\n",
       "</table>\n",
       "</div>"
      ],
      "text/plain": [
       "           mean_price_normed  median_stars_normed\n",
       "lastname                                         \n",
       "ADAMS               1.852124            -0.946378\n",
       "ALEXANDER           0.825236             1.053515\n",
       "ALLEN               0.409170             0.553542\n",
       "ALVAREZ            -0.312534            -0.446405\n",
       "ANDERSON           -1.039211            -1.446352"
      ]
     },
     "execution_count": 98,
     "metadata": {},
     "output_type": "execute_result"
    }
   ],
   "source": [
    "dfe.head()"
   ]
  },
  {
   "cell_type": "code",
   "execution_count": 99,
   "metadata": {
    "slideshow": {
     "slide_type": "slide"
    }
   },
   "outputs": [],
   "source": [
    "flower_columns = [x for x in df.columns if x.startswith('favorite_flower_')]"
   ]
  },
  {
   "cell_type": "code",
   "execution_count": 100,
   "metadata": {
    "slideshow": {
     "slide_type": "fragment"
    }
   },
   "outputs": [],
   "source": [
    "favorite_flowers = g[flower_columns].sum()"
   ]
  },
  {
   "cell_type": "code",
   "execution_count": 101,
   "metadata": {
    "slideshow": {
     "slide_type": "fragment"
    }
   },
   "outputs": [],
   "source": [
    "# reduce from count to 0,1\n",
    "dfe = dfe.join(favorite_flowers.applymap(lambda x: int(x > 0)))"
   ]
  },
  {
   "cell_type": "code",
   "execution_count": 102,
   "metadata": {
    "slideshow": {
     "slide_type": "fragment"
    }
   },
   "outputs": [
    {
     "data": {
      "text/html": [
       "<div>\n",
       "<style scoped>\n",
       "    .dataframe tbody tr th:only-of-type {\n",
       "        vertical-align: middle;\n",
       "    }\n",
       "\n",
       "    .dataframe tbody tr th {\n",
       "        vertical-align: top;\n",
       "    }\n",
       "\n",
       "    .dataframe thead th {\n",
       "        text-align: right;\n",
       "    }\n",
       "</style>\n",
       "<table border=\"1\" class=\"dataframe\">\n",
       "  <thead>\n",
       "    <tr style=\"text-align: right;\">\n",
       "      <th></th>\n",
       "      <th>mean_price_normed</th>\n",
       "      <th>median_stars_normed</th>\n",
       "      <th>favorite_flower_carnation</th>\n",
       "      <th>favorite_flower_daffodil</th>\n",
       "      <th>favorite_flower_daisy</th>\n",
       "      <th>favorite_flower_gardenia</th>\n",
       "      <th>favorite_flower_gerbera</th>\n",
       "      <th>favorite_flower_iris</th>\n",
       "      <th>favorite_flower_jasmine</th>\n",
       "      <th>favorite_flower_lilac</th>\n",
       "      <th>favorite_flower_orchid</th>\n",
       "      <th>favorite_flower_rose</th>\n",
       "      <th>favorite_flower_sunflower</th>\n",
       "      <th>favorite_flower_tulip</th>\n",
       "    </tr>\n",
       "    <tr>\n",
       "      <th>lastname</th>\n",
       "      <th></th>\n",
       "      <th></th>\n",
       "      <th></th>\n",
       "      <th></th>\n",
       "      <th></th>\n",
       "      <th></th>\n",
       "      <th></th>\n",
       "      <th></th>\n",
       "      <th></th>\n",
       "      <th></th>\n",
       "      <th></th>\n",
       "      <th></th>\n",
       "      <th></th>\n",
       "      <th></th>\n",
       "    </tr>\n",
       "  </thead>\n",
       "  <tbody>\n",
       "    <tr>\n",
       "      <th>ADAMS</th>\n",
       "      <td>1.852124</td>\n",
       "      <td>-0.946378</td>\n",
       "      <td>0</td>\n",
       "      <td>0</td>\n",
       "      <td>0</td>\n",
       "      <td>0</td>\n",
       "      <td>0</td>\n",
       "      <td>0</td>\n",
       "      <td>0</td>\n",
       "      <td>0</td>\n",
       "      <td>1</td>\n",
       "      <td>0</td>\n",
       "      <td>0</td>\n",
       "      <td>0</td>\n",
       "    </tr>\n",
       "    <tr>\n",
       "      <th>ALEXANDER</th>\n",
       "      <td>0.825236</td>\n",
       "      <td>1.053515</td>\n",
       "      <td>0</td>\n",
       "      <td>0</td>\n",
       "      <td>0</td>\n",
       "      <td>0</td>\n",
       "      <td>0</td>\n",
       "      <td>0</td>\n",
       "      <td>0</td>\n",
       "      <td>0</td>\n",
       "      <td>0</td>\n",
       "      <td>0</td>\n",
       "      <td>1</td>\n",
       "      <td>0</td>\n",
       "    </tr>\n",
       "    <tr>\n",
       "      <th>ALLEN</th>\n",
       "      <td>0.409170</td>\n",
       "      <td>0.553542</td>\n",
       "      <td>0</td>\n",
       "      <td>0</td>\n",
       "      <td>0</td>\n",
       "      <td>0</td>\n",
       "      <td>0</td>\n",
       "      <td>0</td>\n",
       "      <td>0</td>\n",
       "      <td>0</td>\n",
       "      <td>0</td>\n",
       "      <td>1</td>\n",
       "      <td>0</td>\n",
       "      <td>0</td>\n",
       "    </tr>\n",
       "    <tr>\n",
       "      <th>ALVAREZ</th>\n",
       "      <td>-0.312534</td>\n",
       "      <td>-0.446405</td>\n",
       "      <td>0</td>\n",
       "      <td>0</td>\n",
       "      <td>0</td>\n",
       "      <td>0</td>\n",
       "      <td>0</td>\n",
       "      <td>0</td>\n",
       "      <td>0</td>\n",
       "      <td>0</td>\n",
       "      <td>1</td>\n",
       "      <td>0</td>\n",
       "      <td>0</td>\n",
       "      <td>0</td>\n",
       "    </tr>\n",
       "    <tr>\n",
       "      <th>ANDERSON</th>\n",
       "      <td>-1.039211</td>\n",
       "      <td>-1.446352</td>\n",
       "      <td>0</td>\n",
       "      <td>0</td>\n",
       "      <td>1</td>\n",
       "      <td>0</td>\n",
       "      <td>0</td>\n",
       "      <td>0</td>\n",
       "      <td>0</td>\n",
       "      <td>0</td>\n",
       "      <td>0</td>\n",
       "      <td>0</td>\n",
       "      <td>0</td>\n",
       "      <td>0</td>\n",
       "    </tr>\n",
       "  </tbody>\n",
       "</table>\n",
       "</div>"
      ],
      "text/plain": [
       "           mean_price_normed  median_stars_normed  favorite_flower_carnation  \\\n",
       "lastname                                                                       \n",
       "ADAMS               1.852124            -0.946378                          0   \n",
       "ALEXANDER           0.825236             1.053515                          0   \n",
       "ALLEN               0.409170             0.553542                          0   \n",
       "ALVAREZ            -0.312534            -0.446405                          0   \n",
       "ANDERSON           -1.039211            -1.446352                          0   \n",
       "\n",
       "           favorite_flower_daffodil  favorite_flower_daisy  \\\n",
       "lastname                                                     \n",
       "ADAMS                             0                      0   \n",
       "ALEXANDER                         0                      0   \n",
       "ALLEN                             0                      0   \n",
       "ALVAREZ                           0                      0   \n",
       "ANDERSON                          0                      1   \n",
       "\n",
       "           favorite_flower_gardenia  favorite_flower_gerbera  \\\n",
       "lastname                                                       \n",
       "ADAMS                             0                        0   \n",
       "ALEXANDER                         0                        0   \n",
       "ALLEN                             0                        0   \n",
       "ALVAREZ                           0                        0   \n",
       "ANDERSON                          0                        0   \n",
       "\n",
       "           favorite_flower_iris  favorite_flower_jasmine  \\\n",
       "lastname                                                   \n",
       "ADAMS                         0                        0   \n",
       "ALEXANDER                     0                        0   \n",
       "ALLEN                         0                        0   \n",
       "ALVAREZ                       0                        0   \n",
       "ANDERSON                      0                        0   \n",
       "\n",
       "           favorite_flower_lilac  favorite_flower_orchid  \\\n",
       "lastname                                                   \n",
       "ADAMS                          0                       1   \n",
       "ALEXANDER                      0                       0   \n",
       "ALLEN                          0                       0   \n",
       "ALVAREZ                        0                       1   \n",
       "ANDERSON                       0                       0   \n",
       "\n",
       "           favorite_flower_rose  favorite_flower_sunflower  \\\n",
       "lastname                                                     \n",
       "ADAMS                         0                          0   \n",
       "ALEXANDER                     0                          1   \n",
       "ALLEN                         1                          0   \n",
       "ALVAREZ                       0                          0   \n",
       "ANDERSON                      0                          0   \n",
       "\n",
       "           favorite_flower_tulip  \n",
       "lastname                          \n",
       "ADAMS                          0  \n",
       "ALEXANDER                      0  \n",
       "ALLEN                          0  \n",
       "ALVAREZ                        0  \n",
       "ANDERSON                       0  "
      ]
     },
     "execution_count": 102,
     "metadata": {},
     "output_type": "execute_result"
    }
   ],
   "source": [
    "dfe.head()"
   ]
  },
  {
   "cell_type": "code",
   "execution_count": 103,
   "metadata": {
    "slideshow": {
     "slide_type": "slide"
    }
   },
   "outputs": [],
   "source": [
    "# generate label for repeat customer\n",
    "labels = df.lastname.value_counts().apply(lambda x: int(x > 1))"
   ]
  },
  {
   "cell_type": "code",
   "execution_count": 104,
   "metadata": {
    "slideshow": {
     "slide_type": "fragment"
    }
   },
   "outputs": [
    {
     "data": {
      "text/plain": [
       "DANIELS     1\n",
       "JACOBS      1\n",
       "BURKE       1\n",
       "CALDWELL    1\n",
       "HUNTER      1\n",
       "Name: lastname, dtype: int64"
      ]
     },
     "execution_count": 104,
     "metadata": {},
     "output_type": "execute_result"
    }
   ],
   "source": [
    "labels.head()"
   ]
  },
  {
   "cell_type": "code",
   "execution_count": 105,
   "metadata": {
    "slideshow": {
     "slide_type": "fragment"
    }
   },
   "outputs": [],
   "source": [
    "# set name for join\n",
    "labels.name = 'reorder_label'"
   ]
  },
  {
   "cell_type": "code",
   "execution_count": 106,
   "metadata": {
    "slideshow": {
     "slide_type": "fragment"
    }
   },
   "outputs": [],
   "source": [
    "dfe = dfe.join(labels)"
   ]
  },
  {
   "cell_type": "code",
   "execution_count": 107,
   "metadata": {
    "slideshow": {
     "slide_type": "slide"
    }
   },
   "outputs": [
    {
     "data": {
      "text/html": [
       "<div>\n",
       "<style scoped>\n",
       "    .dataframe tbody tr th:only-of-type {\n",
       "        vertical-align: middle;\n",
       "    }\n",
       "\n",
       "    .dataframe tbody tr th {\n",
       "        vertical-align: top;\n",
       "    }\n",
       "\n",
       "    .dataframe thead th {\n",
       "        text-align: right;\n",
       "    }\n",
       "</style>\n",
       "<table border=\"1\" class=\"dataframe\">\n",
       "  <thead>\n",
       "    <tr style=\"text-align: right;\">\n",
       "      <th></th>\n",
       "      <th>mean_price_normed</th>\n",
       "      <th>median_stars_normed</th>\n",
       "      <th>favorite_flower_carnation</th>\n",
       "      <th>favorite_flower_daffodil</th>\n",
       "      <th>favorite_flower_daisy</th>\n",
       "      <th>favorite_flower_gardenia</th>\n",
       "      <th>favorite_flower_gerbera</th>\n",
       "      <th>favorite_flower_iris</th>\n",
       "      <th>favorite_flower_jasmine</th>\n",
       "      <th>favorite_flower_lilac</th>\n",
       "      <th>favorite_flower_orchid</th>\n",
       "      <th>favorite_flower_rose</th>\n",
       "      <th>favorite_flower_sunflower</th>\n",
       "      <th>favorite_flower_tulip</th>\n",
       "      <th>reorder_label</th>\n",
       "    </tr>\n",
       "    <tr>\n",
       "      <th>lastname</th>\n",
       "      <th></th>\n",
       "      <th></th>\n",
       "      <th></th>\n",
       "      <th></th>\n",
       "      <th></th>\n",
       "      <th></th>\n",
       "      <th></th>\n",
       "      <th></th>\n",
       "      <th></th>\n",
       "      <th></th>\n",
       "      <th></th>\n",
       "      <th></th>\n",
       "      <th></th>\n",
       "      <th></th>\n",
       "      <th></th>\n",
       "    </tr>\n",
       "  </thead>\n",
       "  <tbody>\n",
       "    <tr>\n",
       "      <th>ADAMS</th>\n",
       "      <td>1.852124</td>\n",
       "      <td>-0.946378</td>\n",
       "      <td>0</td>\n",
       "      <td>0</td>\n",
       "      <td>0</td>\n",
       "      <td>0</td>\n",
       "      <td>0</td>\n",
       "      <td>0</td>\n",
       "      <td>0</td>\n",
       "      <td>0</td>\n",
       "      <td>1</td>\n",
       "      <td>0</td>\n",
       "      <td>0</td>\n",
       "      <td>0</td>\n",
       "      <td>1</td>\n",
       "    </tr>\n",
       "    <tr>\n",
       "      <th>ALEXANDER</th>\n",
       "      <td>0.825236</td>\n",
       "      <td>1.053515</td>\n",
       "      <td>0</td>\n",
       "      <td>0</td>\n",
       "      <td>0</td>\n",
       "      <td>0</td>\n",
       "      <td>0</td>\n",
       "      <td>0</td>\n",
       "      <td>0</td>\n",
       "      <td>0</td>\n",
       "      <td>0</td>\n",
       "      <td>0</td>\n",
       "      <td>1</td>\n",
       "      <td>0</td>\n",
       "      <td>1</td>\n",
       "    </tr>\n",
       "    <tr>\n",
       "      <th>ALLEN</th>\n",
       "      <td>0.409170</td>\n",
       "      <td>0.553542</td>\n",
       "      <td>0</td>\n",
       "      <td>0</td>\n",
       "      <td>0</td>\n",
       "      <td>0</td>\n",
       "      <td>0</td>\n",
       "      <td>0</td>\n",
       "      <td>0</td>\n",
       "      <td>0</td>\n",
       "      <td>0</td>\n",
       "      <td>1</td>\n",
       "      <td>0</td>\n",
       "      <td>0</td>\n",
       "      <td>1</td>\n",
       "    </tr>\n",
       "    <tr>\n",
       "      <th>ALVAREZ</th>\n",
       "      <td>-0.312534</td>\n",
       "      <td>-0.446405</td>\n",
       "      <td>0</td>\n",
       "      <td>0</td>\n",
       "      <td>0</td>\n",
       "      <td>0</td>\n",
       "      <td>0</td>\n",
       "      <td>0</td>\n",
       "      <td>0</td>\n",
       "      <td>0</td>\n",
       "      <td>1</td>\n",
       "      <td>0</td>\n",
       "      <td>0</td>\n",
       "      <td>0</td>\n",
       "      <td>0</td>\n",
       "    </tr>\n",
       "    <tr>\n",
       "      <th>ANDERSON</th>\n",
       "      <td>-1.039211</td>\n",
       "      <td>-1.446352</td>\n",
       "      <td>0</td>\n",
       "      <td>0</td>\n",
       "      <td>1</td>\n",
       "      <td>0</td>\n",
       "      <td>0</td>\n",
       "      <td>0</td>\n",
       "      <td>0</td>\n",
       "      <td>0</td>\n",
       "      <td>0</td>\n",
       "      <td>0</td>\n",
       "      <td>0</td>\n",
       "      <td>0</td>\n",
       "      <td>1</td>\n",
       "    </tr>\n",
       "  </tbody>\n",
       "</table>\n",
       "</div>"
      ],
      "text/plain": [
       "           mean_price_normed  median_stars_normed  favorite_flower_carnation  \\\n",
       "lastname                                                                       \n",
       "ADAMS               1.852124            -0.946378                          0   \n",
       "ALEXANDER           0.825236             1.053515                          0   \n",
       "ALLEN               0.409170             0.553542                          0   \n",
       "ALVAREZ            -0.312534            -0.446405                          0   \n",
       "ANDERSON           -1.039211            -1.446352                          0   \n",
       "\n",
       "           favorite_flower_daffodil  favorite_flower_daisy  \\\n",
       "lastname                                                     \n",
       "ADAMS                             0                      0   \n",
       "ALEXANDER                         0                      0   \n",
       "ALLEN                             0                      0   \n",
       "ALVAREZ                           0                      0   \n",
       "ANDERSON                          0                      1   \n",
       "\n",
       "           favorite_flower_gardenia  favorite_flower_gerbera  \\\n",
       "lastname                                                       \n",
       "ADAMS                             0                        0   \n",
       "ALEXANDER                         0                        0   \n",
       "ALLEN                             0                        0   \n",
       "ALVAREZ                           0                        0   \n",
       "ANDERSON                          0                        0   \n",
       "\n",
       "           favorite_flower_iris  favorite_flower_jasmine  \\\n",
       "lastname                                                   \n",
       "ADAMS                         0                        0   \n",
       "ALEXANDER                     0                        0   \n",
       "ALLEN                         0                        0   \n",
       "ALVAREZ                       0                        0   \n",
       "ANDERSON                      0                        0   \n",
       "\n",
       "           favorite_flower_lilac  favorite_flower_orchid  \\\n",
       "lastname                                                   \n",
       "ADAMS                          0                       1   \n",
       "ALEXANDER                      0                       0   \n",
       "ALLEN                          0                       0   \n",
       "ALVAREZ                        0                       1   \n",
       "ANDERSON                       0                       0   \n",
       "\n",
       "           favorite_flower_rose  favorite_flower_sunflower  \\\n",
       "lastname                                                     \n",
       "ADAMS                         0                          0   \n",
       "ALEXANDER                     0                          1   \n",
       "ALLEN                         1                          0   \n",
       "ALVAREZ                       0                          0   \n",
       "ANDERSON                      0                          0   \n",
       "\n",
       "           favorite_flower_tulip  reorder_label  \n",
       "lastname                                         \n",
       "ADAMS                          0              1  \n",
       "ALEXANDER                      0              1  \n",
       "ALLEN                          0              1  \n",
       "ALVAREZ                        0              0  \n",
       "ANDERSON                       0              1  "
      ]
     },
     "execution_count": 107,
     "metadata": {},
     "output_type": "execute_result"
    }
   ],
   "source": [
    "dfe.head()"
   ]
  },
  {
   "cell_type": "code",
   "execution_count": 108,
   "metadata": {
    "slideshow": {
     "slide_type": "slide"
    }
   },
   "outputs": [
    {
     "name": "stdout",
     "output_type": "stream",
     "text": [
      "<class 'pandas.core.frame.DataFrame'>\n",
      "Index: 252 entries, ADAMS to WOODS\n",
      "Data columns (total 15 columns):\n",
      "mean_price_normed            252 non-null float64\n",
      "median_stars_normed          252 non-null float64\n",
      "favorite_flower_carnation    252 non-null int64\n",
      "favorite_flower_daffodil     252 non-null int64\n",
      "favorite_flower_daisy        252 non-null int64\n",
      "favorite_flower_gardenia     252 non-null int64\n",
      "favorite_flower_gerbera      252 non-null int64\n",
      "favorite_flower_iris         252 non-null int64\n",
      "favorite_flower_jasmine      252 non-null int64\n",
      "favorite_flower_lilac        252 non-null int64\n",
      "favorite_flower_orchid       252 non-null int64\n",
      "favorite_flower_rose         252 non-null int64\n",
      "favorite_flower_sunflower    252 non-null int64\n",
      "favorite_flower_tulip        252 non-null int64\n",
      "reorder_label                252 non-null int64\n",
      "dtypes: float64(2), int64(13)\n",
      "memory usage: 41.5+ KB\n"
     ]
    }
   ],
   "source": [
    "dfe.info()"
   ]
  },
  {
   "cell_type": "code",
   "execution_count": 114,
   "metadata": {
    "slideshow": {
     "slide_type": "slide"
    }
   },
   "outputs": [
    {
     "data": {
      "image/png": "[encoded data removed]",
      "text/plain": [
       "<Figure size 432x288 with 1 Axes>"
      ]
     },
     "metadata": {},
     "output_type": "display_data"
    }
   ],
   "source": [
    "_ = sns.distplot(dfe.mean_price_normed, hist=False, rug=True)"
   ]
  },
  {
   "cell_type": "code",
   "execution_count": 113,
   "metadata": {
    "slideshow": {
     "slide_type": "slide"
    }
   },
   "outputs": [
    {
     "data": {
      "image/png": "[encoded data removed]",
      "text/plain": [
       "<Figure size 432x288 with 1 Axes>"
      ]
     },
     "metadata": {},
     "output_type": "display_data"
    }
   ],
   "source": [
    "_ = sns.distplot(dfe.median_stars_normed, hist=False, rug=True)"
   ]
  },
  {
   "cell_type": "code",
   "execution_count": 111,
   "metadata": {
    "slideshow": {
     "slide_type": "slide"
    }
   },
   "outputs": [],
   "source": [
    "# get data and label column names\n",
    "data_cols = dfe.columns[:-1]\n",
    "label_col = dfe.columns[-1]"
   ]
  },
  {
   "cell_type": "code",
   "execution_count": 112,
   "metadata": {
    "slideshow": {
     "slide_type": "fragment"
    }
   },
   "outputs": [
    {
     "data": {
      "text/plain": [
       "Index(['mean_price_normed', 'median_stars_normed', 'favorite_flower_carnation',\n",
       "       'favorite_flower_daffodil', 'favorite_flower_daisy',\n",
       "       'favorite_flower_gardenia', 'favorite_flower_gerbera',\n",
       "       'favorite_flower_iris', 'favorite_flower_jasmine',\n",
       "       'favorite_flower_lilac', 'favorite_flower_orchid',\n",
       "       'favorite_flower_rose', 'favorite_flower_sunflower',\n",
       "       'favorite_flower_tulip'],\n",
       "      dtype='object')"
      ]
     },
     "execution_count": 112,
     "metadata": {},
     "output_type": "execute_result"
    }
   ],
   "source": [
    "data_cols"
   ]
  },
  {
   "cell_type": "code",
   "execution_count": 115,
   "metadata": {
    "slideshow": {
     "slide_type": "fragment"
    }
   },
   "outputs": [
    {
     "data": {
      "text/plain": [
       "'reorder_label'"
      ]
     },
     "execution_count": 115,
     "metadata": {},
     "output_type": "execute_result"
    }
   ],
   "source": [
    "label_col"
   ]
  },
  {
   "cell_type": "code",
   "execution_count": 116,
   "metadata": {
    "slideshow": {
     "slide_type": "slide"
    }
   },
   "outputs": [
    {
     "name": "stderr",
     "output_type": "stream",
     "text": [
      "/home/bgibson/anaconda3/envs/coms007/lib/python3.7/site-packages/sklearn/utils/__init__.py:4: DeprecationWarning: Using or importing the ABCs from 'collections' instead of from 'collections.abc' is deprecated, and in 3.8 it will stop working\n",
      "  from collections import Sequence\n",
      "/home/bgibson/anaconda3/envs/coms007/lib/python3.7/site-packages/sklearn/ensemble/weight_boosting.py:29: DeprecationWarning: numpy.core.umath_tests is an internal NumPy module and should not be imported. It will be removed in a future NumPy release.\n",
      "  from numpy.core.umath_tests import inner1d\n"
     ]
    }
   ],
   "source": [
    "from sklearn.ensemble import RandomForestClassifier\n",
    "from sklearn.model_selection import cross_val_score\n",
    "from sklearn.model_selection import train_test_split"
   ]
  },
  {
   "cell_type": "code",
   "execution_count": 117,
   "metadata": {
    "slideshow": {
     "slide_type": "fragment"
    }
   },
   "outputs": [
    {
     "name": "stdout",
     "output_type": "stream",
     "text": [
      "(201, 14)\n",
      "(201,)\n",
      "(51, 14)\n",
      "(51,)\n"
     ]
    }
   ],
   "source": [
    "# split into train and test (hold out) sets\n",
    "X_train, X_test, y_train, y_test = train_test_split(dfe.loc[:,data_cols],\n",
    "                                                    dfe.loc[:,label_col],\n",
    "                                                    test_size=0.2,\n",
    "                                                    stratify=dfe.loc[:,label_col])\n",
    "print(X_train.shape)\n",
    "print(y_train.shape)\n",
    "print(X_test.shape)\n",
    "print(y_test.shape)"
   ]
  },
  {
   "cell_type": "code",
   "execution_count": 118,
   "metadata": {
    "slideshow": {
     "slide_type": "slide"
    }
   },
   "outputs": [
    {
     "name": "stdout",
     "output_type": "stream",
     "text": [
      "[0.77941176 0.73134328 0.66666667]\n"
     ]
    }
   ],
   "source": [
    "# perform cross validation to tune parameters (not done here)\n",
    "rf = RandomForestClassifier()\n",
    "cv_scores = cross_val_score(rf, X_train, y_train, cv=3)\n",
    "print(cv_scores)"
   ]
  },
  {
   "cell_type": "code",
   "execution_count": 119,
   "metadata": {
    "slideshow": {
     "slide_type": "fragment"
    }
   },
   "outputs": [
    {
     "name": "stdout",
     "output_type": "stream",
     "text": [
      "mean cv accuracy: 0.726\n"
     ]
    }
   ],
   "source": [
    "print('mean cv accuracy: {:0.3f}'.format(np.mean(cv_scores)))"
   ]
  },
  {
   "cell_type": "code",
   "execution_count": 120,
   "metadata": {
    "slideshow": {
     "slide_type": "fragment"
    }
   },
   "outputs": [
    {
     "name": "stdout",
     "output_type": "stream",
     "text": [
      "test set accuracy: 0.647\n"
     ]
    }
   ],
   "source": [
    "# fit on training data and score on test\n",
    "rf.fit(X_train,y_train)\n",
    "print('test set accuracy: {:0.3f}'.format(rf.score(X_test,y_test)))"
   ]
  },
  {
   "cell_type": "code",
   "execution_count": 121,
   "metadata": {
    "slideshow": {
     "slide_type": "slide"
    }
   },
   "outputs": [
    {
     "data": {
      "text/plain": [
       "[('mean_price_normed', 0.617548847396738),\n",
       " ('median_stars_normed', 0.20093613359097814),\n",
       " ('favorite_flower_carnation', 0.018160623818390106),\n",
       " ('favorite_flower_daffodil', 0.014131071210514486),\n",
       " ('favorite_flower_daisy', 0.014032523893977217),\n",
       " ('favorite_flower_gardenia', 0.012776736263171842),\n",
       " ('favorite_flower_gerbera', 0.035536945584541235),\n",
       " ('favorite_flower_iris', 0.01177479747364079),\n",
       " ('favorite_flower_jasmine', 0.004704517373914542),\n",
       " ('favorite_flower_lilac', 0.014355867938106013),\n",
       " ('favorite_flower_orchid', 0.02284696278881289),\n",
       " ('favorite_flower_rose', 0.009080836132577012),\n",
       " ('favorite_flower_sunflower', 0.01037649637651292),\n",
       " ('favorite_flower_tulip', 0.01373764015812488)]"
      ]
     },
     "execution_count": 121,
     "metadata": {},
     "output_type": "execute_result"
    }
   ],
   "source": [
    "list(zip(data_cols,rf.feature_importances_))"
   ]
  },
  {
   "cell_type": "code",
   "execution_count": 122,
   "metadata": {
    "slideshow": {
     "slide_type": "slide"
    }
   },
   "outputs": [
    {
     "data": {
      "text/plain": [
       "0.7103174603174603"
      ]
     },
     "execution_count": 122,
     "metadata": {},
     "output_type": "execute_result"
    }
   ],
   "source": [
    "# how well could we do just by guessing 1 for everyone?\n",
    "dfe.loc[:,label_col].sum() / len(dfe)"
   ]
  },
  {
   "cell_type": "markdown",
   "metadata": {
    "slideshow": {
     "slide_type": "slide"
    }
   },
   "source": [
    "### Python Data Structures Review"
   ]
  },
  {
   "cell_type": "markdown",
   "metadata": {
    "slideshow": {
     "slide_type": "slide"
    }
   },
   "source": [
    "## Appendix"
   ]
  },
  {
   "cell_type": "markdown",
   "metadata": {
    "slideshow": {
     "slide_type": "slide"
    }
   },
   "source": [
    "### Questions for a Data Scientist\n",
    "\n",
    "\n",
    "\n",
    "- What's the question we're trying to answer? (often the hardest part)\n",
    "- Is this data ready to be analyzed? (data cleaning)\n",
    "- Does this data look right? (visual inspection)\n",
    "\n",
    "- How do we automatically process this data so that we can use it? (ETL + pipelining)\n",
    "- Are there groups of things here? + How might we group these things? (clustering)\n",
    "- How do we tell this from that? (classification)\n",
    "- Can we explain and/or predict this value? (regression)\n",
    "- What are the important features of my data? (feature selection)\n",
    "- Can I reduce the size of my dataset? (dimensionality reduction)\n",
    "- How are we going to measure whether this works or not? (model evaluation + cross validation)\n",
    "- How do I find the right settings for my model? (grid search)\n",
    "- Which model should I use? (model selection)\n",
    "- Is there a pattern here and what is it correlated with? (correlation)\n",
    "- How can I be sure what I've found is significant? (hypothesis testing)\n",
    "- How do I communicate the result of this work? (reporting)\n",
    "\n",
    "- How do I use these images? (image recognition)\n",
    "- How do I use these documents? (natural language processing)\n",
    "- What are these documents about? (topic modeling)\n",
    "- Can I tell if these documents are positive or negative? (sentiment analysis)\n",
    "- What if I know my data is time dependent? (time-series)\n",
    "\n",
    "- Which items should we recommend? (recommendation engine)\n",
    "- Can we find other things like this thing? (similarity measures)\n",
    "- Which of these are the same? (deduplication)\n",
    "\n",
    "- How do we handle all of this data? (data-bases and data-storage)\n",
    "- How do I create a tool to produce results? (API)\n",
    "\n",
    "- How do I keep up with DS, stay educated, improve my skills?"
   ]
  }
 ],
 "metadata": {
  "celltoolbar": "Slideshow",
  "kernelspec": {
   "display_name": "Python 3",
   "language": "python",
   "name": "python3"
  },
  "language_info": {
   "codemirror_mode": {
    "name": "ipython",
    "version": 3
   },
   "file_extension": ".py",
   "mimetype": "text/x-python",
   "name": "python",
   "nbconvert_exporter": "python",
   "pygments_lexer": "ipython3",
   "version": "3.6.5"
  },
  "nbpresent": {
   "slides": {
    "08efc919-a3bf-444e-a59e-8a81bb806462": {
     "id": "08efc919-a3bf-444e-a59e-8a81bb806462",
     "prev": "cc17e954-5b0f-4943-a73e-6dd39883477e",
     "regions": {
      "f5fec6eb-b112-45fa-a846-747ef3b0a7a1": {
       "attrs": {
        "height": 0.8,
        "width": 0.8,
        "x": 0.1,
        "y": 0.1
       },
       "content": {
        "cell": "53762eb2-9aa4-4b59-8986-37b91f9f269f",
        "part": "whole"
       },
       "id": "f5fec6eb-b112-45fa-a846-747ef3b0a7a1"
      }
     }
    },
    "0bef4fab-4ba7-45a2-be5e-ce59853b0aed": {
     "id": "0bef4fab-4ba7-45a2-be5e-ce59853b0aed",
     "prev": "9a32fb8e-0afa-4a2f-ae56-b154827051e0",
     "regions": {
      "40e74d05-76e7-4ed3-8b19-331437618ec0": {
       "attrs": {
        "height": 0.8,
        "width": 0.8,
        "x": 0.1,
        "y": 0.1
       },
       "content": {
        "cell": "60e19c32-2c29-44f3-a14d-eea662e1ef0c",
        "part": "whole"
       },
       "id": "40e74d05-76e7-4ed3-8b19-331437618ec0"
      }
     }
    },
    "0e13760e-461d-4783-8a79-8562b86cc1c6": {
     "id": "0e13760e-461d-4783-8a79-8562b86cc1c6",
     "prev": "5e74d8fc-400a-4697-ba47-89f9fa5d0356",
     "regions": {
      "eebb2ed2-c24a-41e4-b541-59ffb1a4e8bb": {
       "attrs": {
        "height": 0.8,
        "width": 0.8,
        "x": 0.1,
        "y": 0.1
       },
       "content": {
        "cell": "37412bb8-98d6-4eef-8e72-0fb5211e5f5b",
        "part": "whole"
       },
       "id": "eebb2ed2-c24a-41e4-b541-59ffb1a4e8bb"
      }
     }
    },
    "166949f6-6683-4bcb-81c6-7ebb3ce6408a": {
     "id": "166949f6-6683-4bcb-81c6-7ebb3ce6408a",
     "prev": "08efc919-a3bf-444e-a59e-8a81bb806462",
     "regions": {
      "680c1105-f5fc-43b1-8a7c-e9f016324b05": {
       "attrs": {
        "height": 0.8,
        "width": 0.8,
        "x": 0.1,
        "y": 0.1
       },
       "content": {
        "cell": "edeee317-3c50-4714-bbec-6cca26c2d518",
        "part": "whole"
       },
       "id": "680c1105-f5fc-43b1-8a7c-e9f016324b05"
      }
     }
    },
    "1fe97c07-6519-4182-b9c2-2f91e96af545": {
     "id": "1fe97c07-6519-4182-b9c2-2f91e96af545",
     "prev": "72763892-f5a9-4b56-a4e4-7b90f46cde1c",
     "regions": {
      "f1cd5728-e176-44f7-add7-f5c0d33c45a7": {
       "attrs": {
        "height": 0.8,
        "width": 0.8,
        "x": 0.1,
        "y": 0.1
       },
       "content": {
        "cell": "a8917322-8c7b-4748-b5ec-7924fd9e980c",
        "part": "whole"
       },
       "id": "f1cd5728-e176-44f7-add7-f5c0d33c45a7"
      }
     }
    },
    "26b41115-1f19-40a4-81bb-6b07e0f58f50": {
     "id": "26b41115-1f19-40a4-81bb-6b07e0f58f50",
     "prev": "28c44aa7-8b8a-4227-b84b-6ea0c77b109a",
     "regions": {
      "843d7f5a-7635-40d6-93d7-70e8ae2d3d0d": {
       "attrs": {
        "height": 0.8,
        "width": 0.8,
        "x": 0.1,
        "y": 0.1
       },
       "content": {
        "cell": "aa9ed3a1-af9a-4c21-a838-21be62634c9b",
        "part": "whole"
       },
       "id": "843d7f5a-7635-40d6-93d7-70e8ae2d3d0d"
      }
     }
    },
    "28c44aa7-8b8a-4227-b84b-6ea0c77b109a": {
     "id": "28c44aa7-8b8a-4227-b84b-6ea0c77b109a",
     "prev": "c6578ac5-c537-4311-9a4a-4d257244aea1",
     "regions": {
      "1aa37098-bb14-4e62-acb9-c5048d244cfc": {
       "attrs": {
        "height": 0.8,
        "width": 0.8,
        "x": 0.1,
        "y": 0.1
       },
       "content": {
        "cell": "66f9a163-6c6f-41f0-b230-8d320d00c88b",
        "part": "whole"
       },
       "id": "1aa37098-bb14-4e62-acb9-c5048d244cfc"
      }
     }
    },
    "3a5c8f56-5fdc-4471-b8a8-da7fd58ccc05": {
     "id": "3a5c8f56-5fdc-4471-b8a8-da7fd58ccc05",
     "prev": "3eb84012-0328-4f72-85e8-3655074514be",
     "regions": {
      "6cdba517-1b15-4f35-8c54-282a70ec60b5": {
       "attrs": {
        "height": 0.8,
        "width": 0.8,
        "x": 0.1,
        "y": 0.1
       },
       "content": {
        "cell": "057d2e68-422b-44ab-9abc-0fc3dea1c1d7",
        "part": "whole"
       },
       "id": "6cdba517-1b15-4f35-8c54-282a70ec60b5"
      }
     }
    },
    "3eb84012-0328-4f72-85e8-3655074514be": {
     "id": "3eb84012-0328-4f72-85e8-3655074514be",
     "prev": "166949f6-6683-4bcb-81c6-7ebb3ce6408a",
     "regions": {
      "9234fcfb-d1d6-415a-929d-5994777899ba": {
       "attrs": {
        "height": 0.8,
        "width": 0.8,
        "x": 0.1,
        "y": 0.1
       },
       "content": {
        "cell": "21e3f8d1-7a79-4970-8e75-e7eab3c2653a",
        "part": "whole"
       },
       "id": "9234fcfb-d1d6-415a-929d-5994777899ba"
      }
     }
    },
    "44cb1a79-0c3d-40b1-8c3a-e39a216f9098": {
     "id": "44cb1a79-0c3d-40b1-8c3a-e39a216f9098",
     "prev": "958ce141-2cb2-4bdf-a210-3655c5252b4d",
     "regions": {
      "a0b73501-2288-48d4-a357-837bdd6240ac": {
       "attrs": {
        "height": 0.8,
        "width": 0.8,
        "x": 0.1,
        "y": 0.1
       },
       "content": {
        "cell": "f516a627-4568-46c6-973e-afd337a2c972",
        "part": "whole"
       },
       "id": "a0b73501-2288-48d4-a357-837bdd6240ac"
      }
     }
    },
    "4536a947-8005-411e-a0a3-34f41e121619": {
     "id": "4536a947-8005-411e-a0a3-34f41e121619",
     "prev": "b3c746fe-4167-4dc9-b525-24fe0d20e671",
     "regions": {
      "cf561fee-e7ca-4cc7-a62b-5baf54029066": {
       "attrs": {
        "height": 0.8,
        "width": 0.8,
        "x": 0.1,
        "y": 0.1
       },
       "content": {
        "cell": "7397c4be-450c-49e5-bbab-76292836cd23",
        "part": "whole"
       },
       "id": "cf561fee-e7ca-4cc7-a62b-5baf54029066"
      }
     }
    },
    "5e74d8fc-400a-4697-ba47-89f9fa5d0356": {
     "id": "5e74d8fc-400a-4697-ba47-89f9fa5d0356",
     "prev": "26b41115-1f19-40a4-81bb-6b07e0f58f50",
     "regions": {
      "f20a111c-0058-490f-9026-f228efca1441": {
       "attrs": {
        "height": 0.8,
        "width": 0.8,
        "x": 0.1,
        "y": 0.1
       },
       "content": {
        "cell": "e4e8af64-7494-4f01-abf3-f2ab5972e823",
        "part": "whole"
       },
       "id": "f20a111c-0058-490f-9026-f228efca1441"
      }
     }
    },
    "5efa628c-01b4-4415-b70b-ebb384e5019c": {
     "id": "5efa628c-01b4-4415-b70b-ebb384e5019c",
     "prev": "7ce8dba7-7e11-4c2c-b2b5-a306996702de",
     "regions": {
      "ae5fac2e-d464-4df0-9f1f-cefe906ce98a": {
       "attrs": {
        "height": 0.8,
        "width": 0.8,
        "x": 0.1,
        "y": 0.1
       },
       "content": {
        "cell": "204fc3b2-905d-4fee-9e9a-80d0718a8ae1",
        "part": "whole"
       },
       "id": "ae5fac2e-d464-4df0-9f1f-cefe906ce98a"
      }
     }
    },
    "72763892-f5a9-4b56-a4e4-7b90f46cde1c": {
     "id": "72763892-f5a9-4b56-a4e4-7b90f46cde1c",
     "prev": "0e13760e-461d-4783-8a79-8562b86cc1c6",
     "regions": {
      "df91c8f0-5906-4588-b2f8-b21a1874e961": {
       "attrs": {
        "height": 0.8,
        "width": 0.8,
        "x": 0.1,
        "y": 0.1
       },
       "content": {
        "cell": "d97f9831-912b-4545-88dd-fd23cc1850fc",
        "part": "whole"
       },
       "id": "df91c8f0-5906-4588-b2f8-b21a1874e961"
      }
     }
    },
    "73cfb512-6f9f-4550-b553-2ace2aa999f8": {
     "id": "73cfb512-6f9f-4550-b553-2ace2aa999f8",
     "prev": "1fe97c07-6519-4182-b9c2-2f91e96af545",
     "regions": {
      "2c50fac5-edb7-4323-9993-c4b4d30b9e9f": {
       "attrs": {
        "height": 0.8,
        "width": 0.8,
        "x": 0.1,
        "y": 0.1
       },
       "content": {
        "cell": "e1a5852c-9886-401d-8f97-b268dfc8acee",
        "part": "whole"
       },
       "id": "2c50fac5-edb7-4323-9993-c4b4d30b9e9f"
      }
     }
    },
    "786d3889-d865-4e22-92be-94334bf1b5e5": {
     "id": "786d3889-d865-4e22-92be-94334bf1b5e5",
     "prev": "788bcf63-5bc1-4524-9125-f25f39163b47",
     "regions": {
      "3de3109b-bc8c-4d80-ae2a-c45fdcba8887": {
       "attrs": {
        "height": 0.8,
        "width": 0.8,
        "x": 0.1,
        "y": 0.1
       },
       "content": {
        "cell": "b71b3c73-9491-44e5-8fee-93b9c24a84d9",
        "part": "whole"
       },
       "id": "3de3109b-bc8c-4d80-ae2a-c45fdcba8887"
      }
     }
    },
    "788bcf63-5bc1-4524-9125-f25f39163b47": {
     "id": "788bcf63-5bc1-4524-9125-f25f39163b47",
     "prev": "0bef4fab-4ba7-45a2-be5e-ce59853b0aed",
     "regions": {
      "977262b1-f553-4dcc-87ca-d31bafc67e54": {
       "attrs": {
        "height": 0.8,
        "width": 0.8,
        "x": 0.1,
        "y": 0.1
       },
       "content": {
        "cell": "e1a378cc-5906-4b72-b761-f7dffddd7606",
        "part": "whole"
       },
       "id": "977262b1-f553-4dcc-87ca-d31bafc67e54"
      }
     }
    },
    "7ce8dba7-7e11-4c2c-b2b5-a306996702de": {
     "id": "7ce8dba7-7e11-4c2c-b2b5-a306996702de",
     "prev": "d1234db9-92ca-4d05-9a9d-150226892688",
     "regions": {
      "dd64474a-38d6-43bd-ba71-533d2b900bce": {
       "attrs": {
        "height": 0.8,
        "width": 0.8,
        "x": 0.1,
        "y": 0.1
       },
       "content": {
        "cell": "c0ac2f34-0e38-4611-a4e1-081b59b3c540",
        "part": "whole"
       },
       "id": "dd64474a-38d6-43bd-ba71-533d2b900bce"
      }
     }
    },
    "958ce141-2cb2-4bdf-a210-3655c5252b4d": {
     "id": "958ce141-2cb2-4bdf-a210-3655c5252b4d",
     "prev": "4536a947-8005-411e-a0a3-34f41e121619",
     "regions": {
      "62430e4d-2c24-4799-8858-ff69474b3c7b": {
       "attrs": {
        "height": 0.8,
        "width": 0.8,
        "x": 0.1,
        "y": 0.1
       },
       "content": {
        "cell": "18c8e1e5-e9f5-445c-921e-445ba1d21f17",
        "part": "whole"
       },
       "id": "62430e4d-2c24-4799-8858-ff69474b3c7b"
      }
     }
    },
    "9a32fb8e-0afa-4a2f-ae56-b154827051e0": {
     "id": "9a32fb8e-0afa-4a2f-ae56-b154827051e0",
     "prev": "3a5c8f56-5fdc-4471-b8a8-da7fd58ccc05",
     "regions": {
      "2a464aec-a3f1-4593-9ed0-bd9e6bb5bee7": {
       "attrs": {
        "height": 0.8,
        "width": 0.8,
        "x": 0.1,
        "y": 0.1
       },
       "content": {
        "cell": "eb5c5dfc-13cf-4f51-b8a8-8c0ab113c68a",
        "part": "whole"
       },
       "id": "2a464aec-a3f1-4593-9ed0-bd9e6bb5bee7"
      }
     }
    },
    "b3c746fe-4167-4dc9-b525-24fe0d20e671": {
     "id": "b3c746fe-4167-4dc9-b525-24fe0d20e671",
     "prev": "73cfb512-6f9f-4550-b553-2ace2aa999f8",
     "regions": {
      "49b4d0bc-b281-43c4-8b6e-e5bc776ab12e": {
       "attrs": {
        "height": 0.8,
        "width": 0.8,
        "x": 0.1,
        "y": 0.1
       },
       "content": {
        "cell": "50ffd993-b6c8-43a3-a4d7-8f3c74bfb08b",
        "part": "whole"
       },
       "id": "49b4d0bc-b281-43c4-8b6e-e5bc776ab12e"
      }
     }
    },
    "c0e1146b-357c-4839-a3b9-39dbb14f6805": {
     "id": "c0e1146b-357c-4839-a3b9-39dbb14f6805",
     "prev": "44cb1a79-0c3d-40b1-8c3a-e39a216f9098",
     "regions": {
      "c0b2b675-5904-44f5-b510-0119eb806fcf": {
       "attrs": {
        "height": 0.8,
        "width": 0.8,
        "x": 0.1,
        "y": 0.1
       },
       "content": {
        "cell": "1427b760-54f8-47a7-9478-ca83f95f19c5",
        "part": "whole"
       },
       "id": "c0b2b675-5904-44f5-b510-0119eb806fcf"
      }
     }
    },
    "c6578ac5-c537-4311-9a4a-4d257244aea1": {
     "id": "c6578ac5-c537-4311-9a4a-4d257244aea1",
     "prev": "786d3889-d865-4e22-92be-94334bf1b5e5",
     "regions": {
      "7106af3d-bc11-4b85-8811-b13039bf4acc": {
       "attrs": {
        "height": 0.8,
        "width": 0.8,
        "x": 0.1,
        "y": 0.1
       },
       "content": {
        "cell": "e4f8bf7d-0370-4104-8269-97f95839f907",
        "part": "whole"
       },
       "id": "7106af3d-bc11-4b85-8811-b13039bf4acc"
      }
     }
    },
    "cc17e954-5b0f-4943-a73e-6dd39883477e": {
     "id": "cc17e954-5b0f-4943-a73e-6dd39883477e",
     "prev": "5efa628c-01b4-4415-b70b-ebb384e5019c",
     "regions": {
      "d79e071b-e505-4347-b051-a0b7e0b9562a": {
       "attrs": {
        "height": 0.8,
        "width": 0.8,
        "x": 0.1,
        "y": 0.1
       },
       "content": {
        "cell": "47428576-bef1-413d-8ce9-c27c19a89469",
        "part": "whole"
       },
       "id": "d79e071b-e505-4347-b051-a0b7e0b9562a"
      }
     }
    },
    "d1234db9-92ca-4d05-9a9d-150226892688": {
     "id": "d1234db9-92ca-4d05-9a9d-150226892688",
     "prev": null,
     "regions": {
      "ab6a1591-31ee-4f5f-9bde-f077312f093c": {
       "attrs": {
        "height": 0.8,
        "width": 0.8,
        "x": 0.1,
        "y": 0.1
       },
       "content": {
        "cell": "edd75f49-a55e-45f8-8f53-79b4869c8175",
        "part": "whole"
       },
       "id": "ab6a1591-31ee-4f5f-9bde-f077312f093c"
      }
     }
    },
    "e2c064c2-341c-4c18-b9ff-78ae58d0d670": {
     "id": "e2c064c2-341c-4c18-b9ff-78ae58d0d670",
     "prev": "c0e1146b-357c-4839-a3b9-39dbb14f6805",
     "regions": {
      "28e6e84b-7808-4470-a019-79b17384deb0": {
       "attrs": {
        "height": 0.8,
        "width": 0.8,
        "x": 0.1,
        "y": 0.1
       },
       "content": {
        "cell": "7c564809-bea3-4ed7-ae55-a27efa4ecce9",
        "part": "whole"
       },
       "id": "28e6e84b-7808-4470-a019-79b17384deb0"
      }
     }
    }
   },
   "themes": {
    "default": "d55d4ec0-04bb-42a0-95d4-46ebafa95821",
    "theme": {
     "3abea00e-03cb-443d-83ff-025da24b6127": {
      "backgrounds": {
       "dc7afa04-bf90-40b1-82a5-726e3cff5267": {
        "background-color": "31af15d2-7e15-44c5-ab5e-e04b16a89eff",
        "id": "dc7afa04-bf90-40b1-82a5-726e3cff5267"
       }
      },
      "id": "3abea00e-03cb-443d-83ff-025da24b6127",
      "palette": {
       "19cc588f-0593-49c9-9f4b-e4d7cc113b1c": {
        "id": "19cc588f-0593-49c9-9f4b-e4d7cc113b1c",
        "rgb": [
         252,
         252,
         252
        ]
       },
       "31af15d2-7e15-44c5-ab5e-e04b16a89eff": {
        "id": "31af15d2-7e15-44c5-ab5e-e04b16a89eff",
        "rgb": [
         68,
         68,
         68
        ]
       },
       "50f92c45-a630-455b-aec3-788680ec7410": {
        "id": "50f92c45-a630-455b-aec3-788680ec7410",
        "rgb": [
         197,
         226,
         245
        ]
       },
       "c5cc3653-2ee1-402a-aba2-7caae1da4f6c": {
        "id": "c5cc3653-2ee1-402a-aba2-7caae1da4f6c",
        "rgb": [
         43,
         126,
         184
        ]
       },
       "efa7f048-9acb-414c-8b04-a26811511a21": {
        "id": "efa7f048-9acb-414c-8b04-a26811511a21",
        "rgb": [
         25.118061674008803,
         73.60176211453744,
         107.4819383259912
        ]
       }
      },
      "rules": {
       "a": {
        "color": "19cc588f-0593-49c9-9f4b-e4d7cc113b1c"
       },
       "blockquote": {
        "color": "50f92c45-a630-455b-aec3-788680ec7410",
        "font-size": 3
       },
       "code": {
        "font-family": "Anonymous Pro"
       },
       "h1": {
        "color": "19cc588f-0593-49c9-9f4b-e4d7cc113b1c",
        "font-family": "Merriweather",
        "font-size": 8
       },
       "h2": {
        "color": "19cc588f-0593-49c9-9f4b-e4d7cc113b1c",
        "font-family": "Merriweather",
        "font-size": 6
       },
       "h3": {
        "color": "50f92c45-a630-455b-aec3-788680ec7410",
        "font-family": "Lato",
        "font-size": 5.5
       },
       "h4": {
        "color": "c5cc3653-2ee1-402a-aba2-7caae1da4f6c",
        "font-family": "Lato",
        "font-size": 5
       },
       "h5": {
        "font-family": "Lato"
       },
       "h6": {
        "font-family": "Lato"
       },
       "h7": {
        "font-family": "Lato"
       },
       "li": {
        "color": "50f92c45-a630-455b-aec3-788680ec7410",
        "font-size": 3.25
       },
       "pre": {
        "font-family": "Anonymous Pro",
        "font-size": 4
       }
      },
      "text-base": {
       "color": "19cc588f-0593-49c9-9f4b-e4d7cc113b1c",
       "font-family": "Lato",
       "font-size": 4
      }
     },
     "d55d4ec0-04bb-42a0-95d4-46ebafa95821": {
      "id": "d55d4ec0-04bb-42a0-95d4-46ebafa95821",
      "palette": {
       "19cc588f-0593-49c9-9f4b-e4d7cc113b1c": {
        "id": "19cc588f-0593-49c9-9f4b-e4d7cc113b1c",
        "rgb": [
         252,
         252,
         252
        ]
       },
       "31af15d2-7e15-44c5-ab5e-e04b16a89eff": {
        "id": "31af15d2-7e15-44c5-ab5e-e04b16a89eff",
        "rgb": [
         68,
         68,
         68
        ]
       },
       "50f92c45-a630-455b-aec3-788680ec7410": {
        "id": "50f92c45-a630-455b-aec3-788680ec7410",
        "rgb": [
         155,
         177,
         192
        ]
       },
       "c5cc3653-2ee1-402a-aba2-7caae1da4f6c": {
        "id": "c5cc3653-2ee1-402a-aba2-7caae1da4f6c",
        "rgb": [
         43,
         126,
         184
        ]
       },
       "efa7f048-9acb-414c-8b04-a26811511a21": {
        "id": "efa7f048-9acb-414c-8b04-a26811511a21",
        "rgb": [
         25.118061674008803,
         73.60176211453744,
         107.4819383259912
        ]
       }
      },
      "rules": {
       "blockquote": {
        "color": "50f92c45-a630-455b-aec3-788680ec7410"
       },
       "code": {
        "font-family": "Anonymous Pro"
       },
       "h1": {
        "color": "c5cc3653-2ee1-402a-aba2-7caae1da4f6c",
        "font-family": "Lato",
        "font-size": 8
       },
       "h2": {
        "color": "c5cc3653-2ee1-402a-aba2-7caae1da4f6c",
        "font-family": "Lato",
        "font-size": 6
       },
       "h3": {
        "color": "50f92c45-a630-455b-aec3-788680ec7410",
        "font-family": "Lato",
        "font-size": 5.5
       },
       "h4": {
        "color": "c5cc3653-2ee1-402a-aba2-7caae1da4f6c",
        "font-family": "Lato",
        "font-size": 5
       },
       "h5": {
        "font-family": "Lato"
       },
       "h6": {
        "font-family": "Lato"
       },
       "h7": {
        "font-family": "Lato"
       },
       "pre": {
        "font-family": "Anonymous Pro",
        "font-size": 4
       }
      },
      "text-base": {
       "font-family": "Merriweather",
       "font-size": 4
      }
     }
    }
   }
  }
 },
 "nbformat": 4,
 "nbformat_minor": 1
}
