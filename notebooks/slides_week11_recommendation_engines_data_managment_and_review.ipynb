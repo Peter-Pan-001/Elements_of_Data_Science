{
 "cells": [
  {
   "cell_type": "markdown",
   "metadata": {
    "slideshow": {
     "slide_type": "slide"
    }
   },
   "source": [
    "# Elements of Data Science: A First Course \n",
    "\n",
    "# COMS W4995 007 2018 3\n",
    "\n",
    "\n",
    "## Week 11 :  Recommendation Engines (cont.), Data Management, Webscraping and Review"
   ]
  },
  {
   "cell_type": "code",
   "execution_count": 39,
   "metadata": {
    "slideshow": {
     "slide_type": "skip"
    }
   },
   "outputs": [],
   "source": [
    "import pandas as pd\n",
    "import numpy as np\n",
    "import matplotlib.pyplot as plt"
   ]
  },
  {
   "cell_type": "markdown",
   "metadata": {
    "slideshow": {
     "slide_type": "slide"
    }
   },
   "source": [
    "## Today"
   ]
  },
  {
   "cell_type": "markdown",
   "metadata": {
    "slideshow": {
     "slide_type": "fragment"
    }
   },
   "source": [
    "- Recommendation Engines (continued from week 10)\n",
    "    - Content Based\n",
    "    - Collaborative Filtering\n",
    "- Data Management\n",
    "    - Strucured vs. Unstructured\n",
    "    - Relational vs. NoSQL\n",
    "- Review"
   ]
  },
  {
   "cell_type": "markdown",
   "metadata": {
    "slideshow": {
     "slide_type": "slide"
    }
   },
   "source": [
    "# Recommendation Engines"
   ]
  },
  {
   "cell_type": "markdown",
   "metadata": {
    "slideshow": {
     "slide_type": "fragment"
    }
   },
   "source": [
    "Continued from week 10"
   ]
  },
  {
   "cell_type": "markdown",
   "metadata": {
    "slideshow": {
     "slide_type": "slide"
    }
   },
   "source": [
    "# Managing Data"
   ]
  },
  {
   "cell_type": "markdown",
   "metadata": {
    "slideshow": {
     "slide_type": "fragment"
    }
   },
   "source": [
    "- Structured"
   ]
  },
  {
   "cell_type": "markdown",
   "metadata": {
    "slideshow": {
     "slide_type": "fragment"
    }
   },
   "source": [
    "- Unstructured"
   ]
  },
  {
   "cell_type": "markdown",
   "metadata": {
    "slideshow": {
     "slide_type": "fragment"
    }
   },
   "source": [
    "- Semi-structured"
   ]
  },
  {
   "cell_type": "markdown",
   "metadata": {
    "slideshow": {
     "slide_type": "slide"
    }
   },
   "source": [
    "# Databases"
   ]
  },
  {
   "cell_type": "markdown",
   "metadata": {
    "slideshow": {
     "slide_type": "fragment"
    }
   },
   "source": [
    "- Flatfile\n",
    "- Relational\n",
    "- NoSQL"
   ]
  },
  {
   "cell_type": "markdown",
   "metadata": {
    "slideshow": {
     "slide_type": "slide"
    }
   },
   "source": [
    "## Flatfile\n",
    "\n",
    "- csv"
   ]
  },
  {
   "cell_type": "markdown",
   "metadata": {
    "slideshow": {
     "slide_type": "slide"
    }
   },
   "source": [
    "## Relational / RDBMS / SQL"
   ]
  },
  {
   "cell_type": "markdown",
   "metadata": {
    "slideshow": {
     "slide_type": "fragment"
    }
   },
   "source": [
    "- sqlite\n",
    "- Postgresql\n",
    "- Mysql\n",
    "- MariaDB\n",
    "- Microsoft SQL Server\n",
    "- Oracle"
   ]
  },
  {
   "cell_type": "markdown",
   "metadata": {
    "slideshow": {
     "slide_type": "slide"
    }
   },
   "source": [
    "### Database Normalization\n",
    "\n",
    "- reduce data redundancy\n",
    "- improve data integrity"
   ]
  },
  {
   "cell_type": "markdown",
   "metadata": {
    "slideshow": {
     "slide_type": "fragment"
    }
   },
   "source": [
    "<img src='http://www.ecommerce-digest.com/images/normalization.jpg'>"
   ]
  },
  {
   "cell_type": "markdown",
   "metadata": {
    "slideshow": {
     "slide_type": "slide"
    }
   },
   "source": [
    "### Basic SQL Commands"
   ]
  },
  {
   "cell_type": "markdown",
   "metadata": {
    "slideshow": {
     "slide_type": "fragment"
    }
   },
   "source": [
    "- SELECT\n",
    "\n",
    "    <pre>\n",
    "    SELECT * FROM trips;\n",
    "    SELECT id, fare_amount FROM trips;</pre>"
   ]
  },
  {
   "cell_type": "markdown",
   "metadata": {
    "slideshow": {
     "slide_type": "fragment"
    }
   },
   "source": [
    "- WHERE\n",
    "\n",
    "    <pre>\n",
    "    SELECT * \n",
    "    FROM trips \n",
    "    WHERE vendor_id = 1 AND fare_amount > 10.0;</pre>"
   ]
  },
  {
   "cell_type": "markdown",
   "metadata": {
    "slideshow": {
     "slide_type": "fragment"
    }
   },
   "source": [
    "- LIMIT\n",
    "\n",
    "    <pre>\n",
    "    SELECT * \n",
    "    FROM trips \n",
    "    WHERE vendor_id = 1 AND fare_amount > 10.0\n",
    "    LIMIT 10;</pre>"
   ]
  },
  {
   "cell_type": "markdown",
   "metadata": {
    "slideshow": {
     "slide_type": "slide"
    }
   },
   "source": [
    "- DISTINCT\n",
    "\n",
    "    <pre>\n",
    "    SELECT DISTINCT vendor_id FROM trips</pre>"
   ]
  },
  {
   "cell_type": "markdown",
   "metadata": {
    "slideshow": {
     "slide_type": "fragment"
    }
   },
   "source": [
    "- COUNT\n",
    "\n",
    "    <pre>\n",
    "    SELECT COUNT(*) FROM trips</pre>"
   ]
  },
  {
   "cell_type": "markdown",
   "metadata": {
    "slideshow": {
     "slide_type": "fragment"
    }
   },
   "source": [
    "- ORDER BY\n",
    "\n",
    "    <pre>\n",
    "    SELECT fare_amount, passenger_count \n",
    "    FROM trips \n",
    "    ORDER BY fare_amount DESC;</pre>"
   ]
  },
  {
   "cell_type": "markdown",
   "metadata": {
    "slideshow": {
     "slide_type": "slide"
    }
   },
   "source": [
    "- JOIN\n",
    "\n",
    "    <pre>\n",
    "    SELECT t.fare_amount, tzp.borough \n",
    "    FROM trips AS t\n",
    "    LEFT JOIN taxi_zones AS tz ON tzp.locationid = t.pickup_location_id\n",
    "    LIMIT 10</pre>"
   ]
  },
  {
   "cell_type": "markdown",
   "metadata": {
    "slideshow": {
     "slide_type": "slide"
    }
   },
   "source": [
    "- Putting it all together\n",
    "\n",
    "```\n",
    "    SELECT \n",
    "        t.fare_amount\n",
    "        ,t.trip_distance\n",
    "        ,tzp.borough as pickup_borough\n",
    "        ,tzd.borough as dropoff_borough\n",
    "    FROM\n",
    "        trips AS t\n",
    "        LEFT JOIN taxi_zones AS tzp ON tzp.locationid = t.pickup_location_id\n",
    "        LEFT JOIN taxi_zones AS tzd ON tzd.locationid = t.dropoff_location_id\n",
    "    WHERE \n",
    "        t.fair_amount > 0 \n",
    "        AND tzp.borough = 'Manhattan'\n",
    "    ORDER BY\n",
    "        t.trip_distance DESC\n",
    "    LIMIT 10\n",
    "```"
   ]
  },
  {
   "cell_type": "markdown",
   "metadata": {
    "slideshow": {
     "slide_type": "slide"
    }
   },
   "source": [
    "## sqlalchemy"
   ]
  },
  {
   "cell_type": "code",
   "execution_count": 64,
   "metadata": {
    "slideshow": {
     "slide_type": "fragment"
    }
   },
   "outputs": [],
   "source": [
    "import sqlalchemy\n",
    "\n",
    "db = sqlalchemy.create_engine('postgres:///nyc-taxi-data?host=/var/run/postgresql')"
   ]
  },
  {
   "cell_type": "code",
   "execution_count": 71,
   "metadata": {
    "slideshow": {
     "slide_type": "fragment"
    }
   },
   "outputs": [],
   "source": [
    "# perform the query\n",
    "q = db.execute('SELECT * FROM trips LIMIT 2')"
   ]
  },
  {
   "cell_type": "code",
   "execution_count": 72,
   "metadata": {
    "slideshow": {
     "slide_type": "fragment"
    }
   },
   "outputs": [
    {
     "name": "stdout",
     "output_type": "stream",
     "text": [
      "<class 'sqlalchemy.engine.result.ResultProxy'>\n"
     ]
    }
   ],
   "source": [
    "# what is q?\n",
    "print(type(q))"
   ]
  },
  {
   "cell_type": "code",
   "execution_count": 73,
   "metadata": {
    "slideshow": {
     "slide_type": "slide"
    }
   },
   "outputs": [
    {
     "name": "stdout",
     "output_type": "stream",
     "text": [
      "['id', 'cab_type_id', 'vendor_id', 'pickup_datetime', 'dropoff_datetime', 'store_and_fwd_flag', 'rate_code_id', 'pickup_longitude', 'pickup_latitude', 'dropoff_longitude', 'dropoff_latitude', 'passenger_count', 'trip_distance', 'fare_amount', 'extra', 'mta_tax', 'tip_amount', 'tolls_amount', 'ehail_fee', 'improvement_surcharge', 'total_amount', 'payment_type', 'trip_type', 'pickup_nyct2010_gid', 'dropoff_nyct2010_gid', 'pickup_location_id', 'dropoff_location_id', 'pickup', 'dropoff']\n"
     ]
    }
   ],
   "source": [
    "# what are the column names in the return set?\n",
    "print(q._metadata.keys)"
   ]
  },
  {
   "cell_type": "code",
   "execution_count": 74,
   "metadata": {
    "slideshow": {
     "slide_type": "fragment"
    }
   },
   "outputs": [
    {
     "name": "stdout",
     "output_type": "stream",
     "text": [
      "(1, 1, '1', datetime.datetime(2016, 10, 1, 0, 0), datetime.datetime(2016, 10, 1, 0, 10, 45), 'N', 1, None, None, None, None, 3, Decimal('3.40'), Decimal('13'), Decimal('0.5'), Decimal('0.5'), Decimal('3.55'), Decimal('0'), None, Decimal('0.3'), Decimal('17.85'), '1', None, None, None, 80, 33, None, None)\n",
      "\n",
      "(2, 1, '2', datetime.datetime(2016, 10, 1, 0, 0), datetime.datetime(2016, 10, 1, 0, 15, 51), 'N', 1, None, None, None, None, 5, Decimal('4.17'), Decimal('15'), Decimal('0.5'), Decimal('0.5'), Decimal('2'), Decimal('0'), None, Decimal('0.3'), Decimal('18.3'), '1', None, None, None, 262, 107, None, None)\n",
      "\n"
     ]
    }
   ],
   "source": [
    "# and getting the returned data\n",
    "for r in q:\n",
    "    print(r);print()"
   ]
  },
  {
   "cell_type": "code",
   "execution_count": 75,
   "metadata": {
    "slideshow": {
     "slide_type": "slide"
    }
   },
   "outputs": [],
   "source": [
    "# a more complex query\n",
    "sql = \"\"\"\n",
    "SELECT \n",
    "    t.id\n",
    "    ,t.fare_amount\n",
    "    ,t.trip_distance\n",
    "    ,tzp.borough as pickup_borough\n",
    "    ,tzd.borough as dropoff_borough\n",
    "FROM\n",
    "    trips AS t\n",
    "    LEFT JOIN taxi_zones AS tzp ON tzp.locationid = t.pickup_location_id\n",
    "    LEFT JOIN taxi_zones AS tzd ON tzd.locationid = t.dropoff_location_id\n",
    "WHERE \n",
    "    t.fare_amount > 0 \n",
    "    AND tzp.borough = 'Manhattan'\n",
    "ORDER BY\n",
    "    t.trip_distance DESC\n",
    "LIMIT 10\n",
    "\"\"\""
   ]
  },
  {
   "cell_type": "code",
   "execution_count": 76,
   "metadata": {
    "slideshow": {
     "slide_type": "slide"
    }
   },
   "outputs": [
    {
     "name": "stdout",
     "output_type": "stream",
     "text": [
      "<class 'pandas.core.frame.DataFrame'>\n",
      "Int64Index: 10 entries, 4874540 to 10154756\n",
      "Data columns (total 4 columns):\n",
      "fare_amount        10 non-null float64\n",
      "trip_distance      10 non-null float64\n",
      "pickup_borough     10 non-null object\n",
      "dropoff_borough    10 non-null object\n",
      "dtypes: float64(2), object(2)\n",
      "memory usage: 400.0+ bytes\n",
      "None\n"
     ]
    }
   ],
   "source": [
    "# we can pull directly into a dataframe using pandas\n",
    "df = pd.read_sql(sql,con=db, index_col='id')\n",
    "print(df.info())"
   ]
  },
  {
   "cell_type": "markdown",
   "metadata": {
    "slideshow": {
     "slide_type": "slide"
    }
   },
   "source": [
    "## NoSQL"
   ]
  },
  {
   "cell_type": "markdown",
   "metadata": {
    "slideshow": {
     "slide_type": "fragment"
    }
   },
   "source": [
    "- key-value (Redis, Berkeley DB)\n",
    "- document store (MongoDB, DocumentDB)\n",
    "- wide column (Cassandra, HBase, DynamoDB\n",
    "- graph (Neo4j, Giraph)"
   ]
  },
  {
   "cell_type": "markdown",
   "metadata": {
    "slideshow": {
     "slide_type": "slide"
    }
   },
   "source": [
    "### Basic Mongo"
   ]
  },
  {
   "cell_type": "markdown",
   "metadata": {
    "slideshow": {
     "slide_type": "fragment"
    }
   },
   "source": [
    "- db"
   ]
  },
  {
   "cell_type": "markdown",
   "metadata": {
    "slideshow": {
     "slide_type": "fragment"
    }
   },
   "source": [
    "- collection"
   ]
  },
  {
   "cell_type": "markdown",
   "metadata": {
    "slideshow": {
     "slide_type": "slide"
    }
   },
   "source": [
    "- find(filter,projection)"
   ]
  },
  {
   "cell_type": "code",
   "execution_count": 8,
   "metadata": {
    "slideshow": {
     "slide_type": "slide"
    }
   },
   "outputs": [],
   "source": [
    "import pymongo"
   ]
  },
  {
   "cell_type": "code",
   "execution_count": 9,
   "metadata": {
    "slideshow": {
     "slide_type": "fragment"
    }
   },
   "outputs": [],
   "source": [
    "# start up our client, defaults to the local machine\n",
    "mdb = pymongo.MongoClient()"
   ]
  },
  {
   "cell_type": "code",
   "execution_count": 10,
   "metadata": {
    "slideshow": {
     "slide_type": "fragment"
    }
   },
   "outputs": [],
   "source": [
    "# get a connection to a database\n",
    "db = mdb.twitter_db"
   ]
  },
  {
   "cell_type": "code",
   "execution_count": 11,
   "metadata": {
    "slideshow": {
     "slide_type": "fragment"
    }
   },
   "outputs": [],
   "source": [
    "# get a connection to a collection in that database\n",
    "coll = db.twitter_collection"
   ]
  },
  {
   "cell_type": "code",
   "execution_count": 12,
   "metadata": {
    "slideshow": {
     "slide_type": "fragment"
    }
   },
   "outputs": [
    {
     "data": {
      "text/plain": [
       "{'_id': ObjectId('59c95e2c2471847a9783c400'),\n",
       " 'created_at': 'Mon Sep 25 19:51:08 +0000 2017',\n",
       " 'id': 912404120484511749,\n",
       " 'id_str': '912404120484511749',\n",
       " 'text': 'RT @YarmolukDan: Waste Management Just Got Cleaner and More Efficient https://t.co/HtaXzfxbrA #DataScience #DataScientist #BigData #AI #IoT…',\n",
       " 'source': '<a href=\"http://twitter.com/download/android\" rel=\"nofollow\">Twitter for Android</a>',\n",
       " 'truncated': False,\n",
       " 'in_reply_to_status_id': None,\n",
       " 'in_reply_to_status_id_str': None,\n",
       " 'in_reply_to_user_id': None,\n",
       " 'in_reply_to_user_id_str': None,\n",
       " 'in_reply_to_screen_name': None,\n",
       " 'user': {'id': 912391257430794241,\n",
       "  'id_str': '912391257430794241',\n",
       "  'name': 'Roxane Wattenbarger',\n",
       "  'screen_name': 'roxanewattenba6',\n",
       "  'location': None,\n",
       "  'url': None,\n",
       "  'description': 'l',\n",
       "  'translator_type': 'none',\n",
       "  'protected': False,\n",
       "  'verified': False,\n",
       "  'followers_count': 0,\n",
       "  'friends_count': 39,\n",
       "  'listed_count': 0,\n",
       "  'favourites_count': 17,\n",
       "  'statuses_count': 33,\n",
       "  'created_at': 'Mon Sep 25 19:00:01 +0000 2017',\n",
       "  'utc_offset': None,\n",
       "  'time_zone': None,\n",
       "  'geo_enabled': False,\n",
       "  'lang': 'en',\n",
       "  'contributors_enabled': False,\n",
       "  'is_translator': False,\n",
       "  'profile_background_color': 'F5F8FA',\n",
       "  'profile_background_image_url': '',\n",
       "  'profile_background_image_url_https': '',\n",
       "  'profile_background_tile': False,\n",
       "  'profile_link_color': '1DA1F2',\n",
       "  'profile_sidebar_border_color': 'C0DEED',\n",
       "  'profile_sidebar_fill_color': 'DDEEF6',\n",
       "  'profile_text_color': '333333',\n",
       "  'profile_use_background_image': True,\n",
       "  'profile_image_url': 'http://pbs.twimg.com/profile_images/912395322537607168/PfybaZbS_normal.jpg',\n",
       "  'profile_image_url_https': 'https://pbs.twimg.com/profile_images/912395322537607168/PfybaZbS_normal.jpg',\n",
       "  'default_profile': True,\n",
       "  'default_profile_image': False,\n",
       "  'following': None,\n",
       "  'follow_request_sent': None,\n",
       "  'notifications': None},\n",
       " 'geo': None,\n",
       " 'coordinates': None,\n",
       " 'place': None,\n",
       " 'contributors': None,\n",
       " 'retweeted_status': {'created_at': 'Mon Sep 25 19:00:38 +0000 2017',\n",
       "  'id': 912391410757832710,\n",
       "  'id_str': '912391410757832710',\n",
       "  'text': 'Waste Management Just Got Cleaner and More Efficient https://t.co/HtaXzfxbrA #DataScience #DataScientist #BigData #AI #IoT #InternetOfThings',\n",
       "  'source': '<a href=\"http://bufferapp.com\" rel=\"nofollow\">Buffer</a>',\n",
       "  'truncated': False,\n",
       "  'in_reply_to_status_id': None,\n",
       "  'in_reply_to_status_id_str': None,\n",
       "  'in_reply_to_user_id': None,\n",
       "  'in_reply_to_user_id_str': None,\n",
       "  'in_reply_to_screen_name': None,\n",
       "  'user': {'id': 4361928854,\n",
       "   'id_str': '4361928854',\n",
       "   'name': 'Dan Yarmoluk',\n",
       "   'screen_name': 'YarmolukDan',\n",
       "   'location': 'Minneapolis, MN',\n",
       "   'url': 'https://vertiai.com',\n",
       "   'description': '#InternetOfThings #IIoT #IoT #DataScientist Value Creation, Commercialization, Business Models, #Bigdata #Analytics #MachineLearning #AI #DigitalTransformation',\n",
       "   'translator_type': 'none',\n",
       "   'protected': False,\n",
       "   'verified': False,\n",
       "   'followers_count': 35666,\n",
       "   'friends_count': 20518,\n",
       "   'listed_count': 685,\n",
       "   'favourites_count': 44931,\n",
       "   'statuses_count': 10247,\n",
       "   'created_at': 'Thu Nov 26 02:03:47 +0000 2015',\n",
       "   'utc_offset': None,\n",
       "   'time_zone': None,\n",
       "   'geo_enabled': False,\n",
       "   'lang': 'en',\n",
       "   'contributors_enabled': False,\n",
       "   'is_translator': False,\n",
       "   'profile_background_color': 'C0DEED',\n",
       "   'profile_background_image_url': 'http://abs.twimg.com/images/themes/theme1/bg.png',\n",
       "   'profile_background_image_url_https': 'https://abs.twimg.com/images/themes/theme1/bg.png',\n",
       "   'profile_background_tile': False,\n",
       "   'profile_link_color': '1DA1F2',\n",
       "   'profile_sidebar_border_color': 'C0DEED',\n",
       "   'profile_sidebar_fill_color': 'DDEEF6',\n",
       "   'profile_text_color': '333333',\n",
       "   'profile_use_background_image': True,\n",
       "   'profile_image_url': 'http://pbs.twimg.com/profile_images/901097373375397889/SDVFOuYq_normal.jpg',\n",
       "   'profile_image_url_https': 'https://pbs.twimg.com/profile_images/901097373375397889/SDVFOuYq_normal.jpg',\n",
       "   'profile_banner_url': 'https://pbs.twimg.com/profile_banners/4361928854/1503971534',\n",
       "   'default_profile': True,\n",
       "   'default_profile_image': False,\n",
       "   'following': None,\n",
       "   'follow_request_sent': None,\n",
       "   'notifications': None},\n",
       "  'geo': None,\n",
       "  'coordinates': None,\n",
       "  'place': None,\n",
       "  'contributors': None,\n",
       "  'is_quote_status': False,\n",
       "  'quote_count': 1,\n",
       "  'reply_count': 0,\n",
       "  'retweet_count': 78,\n",
       "  'favorite_count': 3,\n",
       "  'entities': {'hashtags': [{'text': 'DataScience', 'indices': [77, 89]},\n",
       "    {'text': 'DataScientist', 'indices': [90, 104]},\n",
       "    {'text': 'BigData', 'indices': [105, 113]},\n",
       "    {'text': 'AI', 'indices': [114, 117]},\n",
       "    {'text': 'IoT', 'indices': [118, 122]},\n",
       "    {'text': 'InternetOfThings', 'indices': [123, 140]}],\n",
       "   'urls': [{'url': 'https://t.co/HtaXzfxbrA',\n",
       "     'expanded_url': 'https://futurism.com/videos/waste-management-just-got-cleaner-and-more-efficient/',\n",
       "     'display_url': 'futurism.com/videos/waste-m…',\n",
       "     'indices': [53, 76]}],\n",
       "   'user_mentions': [],\n",
       "   'symbols': []},\n",
       "  'favorited': False,\n",
       "  'retweeted': False,\n",
       "  'possibly_sensitive': False,\n",
       "  'filter_level': 'low',\n",
       "  'lang': 'en'},\n",
       " 'is_quote_status': False,\n",
       " 'quote_count': 0,\n",
       " 'reply_count': 0,\n",
       " 'retweet_count': 0,\n",
       " 'favorite_count': 0,\n",
       " 'entities': {'hashtags': [{'text': 'DataScience', 'indices': [94, 106]},\n",
       "   {'text': 'DataScientist', 'indices': [107, 121]},\n",
       "   {'text': 'BigData', 'indices': [122, 130]},\n",
       "   {'text': 'AI', 'indices': [131, 134]},\n",
       "   {'text': 'IoT', 'indices': [135, 139]}],\n",
       "  'urls': [{'url': 'https://t.co/HtaXzfxbrA',\n",
       "    'expanded_url': 'https://futurism.com/videos/waste-management-just-got-cleaner-and-more-efficient/',\n",
       "    'display_url': 'futurism.com/videos/waste-m…',\n",
       "    'indices': [70, 93]}],\n",
       "  'user_mentions': [{'screen_name': 'YarmolukDan',\n",
       "    'name': 'Dan Yarmoluk',\n",
       "    'id': 4361928854,\n",
       "    'id_str': '4361928854',\n",
       "    'indices': [3, 15]}],\n",
       "  'symbols': []},\n",
       " 'favorited': False,\n",
       " 'retweeted': False,\n",
       " 'possibly_sensitive': False,\n",
       " 'filter_level': 'low',\n",
       " 'lang': 'en',\n",
       " 'timestamp_ms': '1506369068629'}"
      ]
     },
     "execution_count": 12,
     "metadata": {},
     "output_type": "execute_result"
    }
   ],
   "source": [
    "# get one record\n",
    "coll.find_one()"
   ]
  },
  {
   "cell_type": "code",
   "execution_count": 13,
   "metadata": {
    "slideshow": {
     "slide_type": "slide"
    }
   },
   "outputs": [],
   "source": [
    "# get one record and pull into a dataframe\n",
    "df = pd.DataFrame([coll.find_one()])"
   ]
  },
  {
   "cell_type": "code",
   "execution_count": 14,
   "metadata": {
    "slideshow": {
     "slide_type": "fragment"
    }
   },
   "outputs": [
    {
     "data": {
      "text/html": [
       "<div>\n",
       "<style scoped>\n",
       "    .dataframe tbody tr th:only-of-type {\n",
       "        vertical-align: middle;\n",
       "    }\n",
       "\n",
       "    .dataframe tbody tr th {\n",
       "        vertical-align: top;\n",
       "    }\n",
       "\n",
       "    .dataframe thead th {\n",
       "        text-align: right;\n",
       "    }\n",
       "</style>\n",
       "<table border=\"1\" class=\"dataframe\">\n",
       "  <thead>\n",
       "    <tr style=\"text-align: right;\">\n",
       "      <th></th>\n",
       "      <th>_id</th>\n",
       "      <th>contributors</th>\n",
       "      <th>coordinates</th>\n",
       "      <th>created_at</th>\n",
       "      <th>entities</th>\n",
       "      <th>favorite_count</th>\n",
       "      <th>favorited</th>\n",
       "      <th>filter_level</th>\n",
       "      <th>geo</th>\n",
       "      <th>id</th>\n",
       "      <th>...</th>\n",
       "      <th>quote_count</th>\n",
       "      <th>reply_count</th>\n",
       "      <th>retweet_count</th>\n",
       "      <th>retweeted</th>\n",
       "      <th>retweeted_status</th>\n",
       "      <th>source</th>\n",
       "      <th>text</th>\n",
       "      <th>timestamp_ms</th>\n",
       "      <th>truncated</th>\n",
       "      <th>user</th>\n",
       "    </tr>\n",
       "  </thead>\n",
       "  <tbody>\n",
       "    <tr>\n",
       "      <th>0</th>\n",
       "      <td>59c95e2c2471847a9783c400</td>\n",
       "      <td>None</td>\n",
       "      <td>None</td>\n",
       "      <td>Mon Sep 25 19:51:08 +0000 2017</td>\n",
       "      <td>{'hashtags': [{'text': 'DataScience', 'indices...</td>\n",
       "      <td>0</td>\n",
       "      <td>False</td>\n",
       "      <td>low</td>\n",
       "      <td>None</td>\n",
       "      <td>912404120484511749</td>\n",
       "      <td>...</td>\n",
       "      <td>0</td>\n",
       "      <td>0</td>\n",
       "      <td>0</td>\n",
       "      <td>False</td>\n",
       "      <td>{'created_at': 'Mon Sep 25 19:00:38 +0000 2017...</td>\n",
       "      <td>&lt;a href=\"http://twitter.com/download/android\" ...</td>\n",
       "      <td>RT @YarmolukDan: Waste Management Just Got Cle...</td>\n",
       "      <td>1506369068629</td>\n",
       "      <td>False</td>\n",
       "      <td>{'id': 912391257430794241, 'id_str': '91239125...</td>\n",
       "    </tr>\n",
       "  </tbody>\n",
       "</table>\n",
       "<p>1 rows × 30 columns</p>\n",
       "</div>"
      ],
      "text/plain": [
       "                        _id contributors coordinates  \\\n",
       "0  59c95e2c2471847a9783c400         None        None   \n",
       "\n",
       "                       created_at  \\\n",
       "0  Mon Sep 25 19:51:08 +0000 2017   \n",
       "\n",
       "                                            entities  favorite_count  \\\n",
       "0  {'hashtags': [{'text': 'DataScience', 'indices...               0   \n",
       "\n",
       "   favorited filter_level   geo                  id  \\\n",
       "0      False          low  None  912404120484511749   \n",
       "\n",
       "                         ...                         quote_count reply_count  \\\n",
       "0                        ...                                   0           0   \n",
       "\n",
       "  retweet_count retweeted                                   retweeted_status  \\\n",
       "0             0     False  {'created_at': 'Mon Sep 25 19:00:38 +0000 2017...   \n",
       "\n",
       "                                              source  \\\n",
       "0  <a href=\"http://twitter.com/download/android\" ...   \n",
       "\n",
       "                                                text   timestamp_ms truncated  \\\n",
       "0  RT @YarmolukDan: Waste Management Just Got Cle...  1506369068629     False   \n",
       "\n",
       "                                                user  \n",
       "0  {'id': 912391257430794241, 'id_str': '91239125...  \n",
       "\n",
       "[1 rows x 30 columns]"
      ]
     },
     "execution_count": 14,
     "metadata": {},
     "output_type": "execute_result"
    }
   ],
   "source": [
    "df"
   ]
  },
  {
   "cell_type": "code",
   "execution_count": 15,
   "metadata": {
    "slideshow": {
     "slide_type": "slide"
    }
   },
   "outputs": [
    {
     "name": "stdout",
     "output_type": "stream",
     "text": [
      "DataScience\n",
      "DataScientist\n",
      "BigData\n",
      "AI\n",
      "IoT\n"
     ]
    }
   ],
   "source": [
    "# iterate through a list saved in a dataframe\n",
    "hts = df.entities[0]['hashtags']\n",
    "for ht in hts:\n",
    "    print(ht['text'])"
   ]
  },
  {
   "cell_type": "code",
   "execution_count": 77,
   "metadata": {
    "slideshow": {
     "slide_type": "slide"
    }
   },
   "outputs": [
    {
     "name": "stdout",
     "output_type": "stream",
     "text": [
      "roxanewattenba6\n",
      "['DataScience', 'DataScientist', 'BigData', 'AI', 'IoT']\n",
      "sawney_patience\n",
      "['DataScience', 'DataScientist', 'BigData', 'AI', 'IoT']\n",
      "jackverr54\n",
      "['MachineLearning', 'BigData', 'DataScience', 'AI', 'RStats', 'RLang', 'Statistics']\n",
      "AvvRossello\n",
      "['Chatbots', 'Infographic', 'AI', 'DeepLearning', 'Startup', 'IoT', 'BigData', 'Analytics', 'DataScience', 'Fintech']\n",
      "Follow2bFollowd\n",
      "['AI', 'MachineLearning', 'Fintech', 'insurtech', 'ML', 'DL', 'tech']\n",
      "Follow2bFollowd\n",
      "['AI', 'MachineLearning', 'BigData', 'Fintech', 'ML', 'Banking', 'tech']\n",
      "Calcaware\n",
      "['BigData', 'DataScience', 'MachineLearning', 'AI', 'DeepLearning', 'fintech']\n"
     ]
    }
   ],
   "source": [
    "# a more complicated query: find all usernames and entities for tweets with hashtag AI\n",
    "q = coll.find({'entities.hashtags.text':'AI'},{'user.screen_name':1,'entities':1})\n",
    "for r in q:\n",
    "    print(r['user']['screen_name'])\n",
    "    print([x['text'] for x in r['entities']['hashtags']])"
   ]
  },
  {
   "cell_type": "markdown",
   "metadata": {
    "slideshow": {
     "slide_type": "slide"
    }
   },
   "source": [
    "## Webscraping"
   ]
  },
  {
   "cell_type": "markdown",
   "metadata": {
    "slideshow": {
     "slide_type": "slide"
    }
   },
   "source": [
    "#### Basic html page\n",
    "\n",
    "```\n",
    "<!DOCTYPE html>\n",
    "<html>\n",
    "<head>\n",
    "    <title>Web Page!</title>\n",
    "    <style>\n",
    "        body {background-color: powderblue;}\n",
    "        h1   {color: blue;}\n",
    "        p    {color: red;}\n",
    "    </style>\n",
    "    <link rel=\"stylesheet\" href=\"styles.css\">\n",
    "    <script>\n",
    "        document.getElementById(\"demo\").innerHTML = \"Hello JavaScript!\";\n",
    "    </script>\n",
    "</head>\n",
    "<body>\n",
    "    <h1>A Very Bold Header</h1>\n",
    "    <div style=\"background-color:lightblue\">\n",
    "        <p>This is a paragraph.</p>\n",
    "    </div>\n",
    "</body>\n",
    "</html>\n",
    "```"
   ]
  },
  {
   "cell_type": "markdown",
   "metadata": {
    "slideshow": {
     "slide_type": "slide"
    }
   },
   "source": [
    "### nyc weather history\n",
    "\n",
    "http://w1.weather.gov/data/obhistory/KNYC.html"
   ]
  },
  {
   "cell_type": "code",
   "execution_count": 17,
   "metadata": {
    "slideshow": {
     "slide_type": "fragment"
    }
   },
   "outputs": [],
   "source": [
    "knyc_link = 'http://w1.weather.gov/data/obhistory/KNYC.html'"
   ]
  },
  {
   "cell_type": "code",
   "execution_count": 18,
   "metadata": {
    "slideshow": {
     "slide_type": "fragment"
    }
   },
   "outputs": [
    {
     "data": {
      "text/plain": [
       "<Response [200]>"
      ]
     },
     "execution_count": 18,
     "metadata": {},
     "output_type": "execute_result"
    }
   ],
   "source": [
    "import requests\n",
    "\n",
    "knyc_page = requests.get(knyc_link)\n",
    "knyc_page"
   ]
  },
  {
   "cell_type": "code",
   "execution_count": 19,
   "metadata": {
    "slideshow": {
     "slide_type": "fragment"
    }
   },
   "outputs": [
    {
     "name": "stdout",
     "output_type": "stream",
     "text": [
      "b'<!DOCTYPE HTML PUBLIC \"-//W3C//DTD HTML 4.0 Transitional//EN\">\\r\\n\\t\\t\\t\\t\\t\\t\\t<html><meta name=\"Author\" content=\"Leon Minton\"><head><title>\\r\\n\\t\\t\\t\\t\\t\\t\\tNational Weather Service : Observed Weather for past 3 Days : New York City, Central Park</title>\\r\\n\\t\\t\\t\\t\\t\\t\\t<link rel=\"STYLESHEET\" type=\"text/css\" href=\"http://www.srh.noaa.gov/weather/images/fcicons/main.css\"></head>\\r\\n\\t\\t\\t\\t\\t\\t\\t<body bgcolor=\"#ffffff\" leftmargin=\"0\" topmargin=\"0\" marginwidth=\"0\" marginheight=\"0\" background=\"/images/weather/fcicons/gray_background.gif\">\\r\\n\\t\\t\\t\\t\\t\\t\\t<table cellspacing=\"0\" cellpadding=\"0\" border=\"0\" width=\"670\" background=\"/images/weather/fcicons/topbanner.jpg\">\\r\\n\\t\\t\\t\\t\\t\\t\\t<tr><td align=\"right\" height=\"19\"><a href=\"http://weather.gov\"><span class=\"nwslink\">weather.gov</span></a>&nbsp;&nbsp;&nbsp;</td></tr></table>\\r\\n\\t\\t\\t\\t\\t\\t\\t<table cellspacing=\"0\" cellpadding=\"0\" border=\"0\" width=\"670\"><tr valign=\"top\">\\r\\n\\t\\t\\t\\t\\t\\t\\t<td rowspan=\"2\"><a href=\"http://www.noaa.gov\"><img src=\"/images/weather/fcicons/noaaleft.jpg\" alt=\"NOAA logo - Click to g'\n"
     ]
    }
   ],
   "source": [
    "# the first 1000 characters of the page\n",
    "print(knyc_page.content[:1000])"
   ]
  },
  {
   "cell_type": "code",
   "execution_count": 20,
   "metadata": {
    "slideshow": {
     "slide_type": "slide"
    }
   },
   "outputs": [],
   "source": [
    "# need to parse some html!\n",
    "from bs4 import BeautifulSoup"
   ]
  },
  {
   "cell_type": "code",
   "execution_count": 21,
   "metadata": {
    "slideshow": {
     "slide_type": "fragment"
    }
   },
   "outputs": [],
   "source": [
    "knyc_soup = BeautifulSoup(knyc_page.content)"
   ]
  },
  {
   "cell_type": "code",
   "execution_count": 22,
   "metadata": {
    "slideshow": {
     "slide_type": "fragment"
    }
   },
   "outputs": [
    {
     "name": "stdout",
     "output_type": "stream",
     "text": [
      "<!DOCTYPE HTML PUBLIC \"-//W3C//DTD HTML 4.0 Transitional//EN\">\n",
      "<html>\n",
      " <head>\n",
      "  <meta content=\"Leon Minton\" name=\"Author\"/>\n",
      "  <title>\n",
      "   National Weather Service : Observed Weather for past 3 Days : New York City, Central Park\n",
      "  </title>\n",
      "  <link href=\"http://www.srh.noaa.gov/weather/images/fcicons/main.css\" rel=\"STYLESHEET\" type=\"text/css\"/>\n",
      " </head>\n",
      " <body background=\"/images/weather/fcicons/gray_background.gif\" bgcolor=\"#ffffff\" leftmargin=\"0\" marginheight=\"0\" marginwidth=\"0\" topmargin=\"0\">\n",
      "  <table background=\"/images/weather/fcicons/topbanner.jpg\" border=\"0\" cellpadding=\"0\" cellspacing=\"0\" width=\"670\">\n",
      "   <tr>\n",
      "    <td align=\"right\" height=\"19\">\n",
      "     <a href=\"http://weather.gov\">\n",
      "      <span class=\"nwslink\">\n",
      "       weather.gov\n",
      "      </span>\n",
      "     </a>\n",
      "    </td>\n",
      "   </tr>\n",
      "  </table>\n",
      "  <table border=\"0\" cellpadding=\"0\" cellspacing=\"0\" width=\"670\">\n",
      "   <tr valign=\"top\">\n",
      "    <td rowspan=\"2\">\n",
      "     <a href=\"http://www.noaa.gov\">\n",
      "      <img alt=\"NOAA logo - Click to go to the NOAA homepage\" b\n"
     ]
    }
   ],
   "source": [
    "# first 1000 characters more legibly\n",
    "print(knyc_soup.prettify()[:1000])"
   ]
  },
  {
   "cell_type": "code",
   "execution_count": 23,
   "metadata": {
    "slideshow": {
     "slide_type": "slide"
    }
   },
   "outputs": [
    {
     "name": "stdout",
     "output_type": "stream",
     "text": [
      "<table border=\"0\" cellpadding=\"2\" cellspacing=\"3\" width=\"670\"><tr align=\"center\" bgcolor=\"#b0c4de\"><th rowspan=\"3\" width=\"17\">D<br/>a<br/>t<br/>e</th><th rowspan=\"3\" width=\"32\">Time<br/>(est)</th>\n",
      "<th rowspan=\"3\" width=\"80\">Wind<br/>(mph)</th><th rowspan=\"3\" width=\"40\">Vis.<br/>(mi.)</th><th rowspan=\"3\" width=\"80\">Weather</th><th rowspan=\"3\" width=\"65\">Sky Cond.</th>\n",
      "<th colspan=\"4\">Temperature (ºF)</th><th rowspan=\"3\" width=\"65\">Relative<br/>Humidity</th><th rowspan=\"3\" width=\"80\">Wind<br/>Chill<br/>(°F)</th><th rowspan=\"3\" width=\"80\">Heat<br/>Index<br/>(°F)</th><th colspan=\"2\">Pressure</th><th colspan=\"3\">Precipitation (in.)</th></tr>\n",
      "<tr align=\"center\" bgcolor=\"#b0c4de\"><th rowspan=\"2\" width=\"45\">Air</th><th rowspan=\"2\" width=\"26\">Dwpt</th><th colspan=\"2\">6 hour</th>\n",
      "<th rowspan=\"2\" width=\"40\">altimeter<br/>(in)</th><th rowspan=\"2\" width=\"40\">sea level<br/>(mb)</th><th rowspan=\"2\" width=\"24\">1 hr</th>\n",
      "<th rowspan=\"2\" width=\"24\">3 hr</th><th rowspan=\"2\" width=\"30\">6 hr</th></tr>\n",
      "<tr align=\"center\" bgcolor=\"#b0c4de\"><th width=\"26\">Max.</th><th width=\"26\">Min.</th></tr><tr align=\"center\" bgcolor=\"#eeeeee\" valign=\"top\"><td>03</td><td align=\"right\">13:51</td><td>NA</td><td>10.00</td><td align=\"left\">A Few Clouds</td><td>FEW050</td><td>53</td><td>33</td>\n",
      "<td></td><td></td><td>47%</td><td>NA</td><td>NA</td><td>29.66</td><td>1003.7</td><td></td><td></td><td></td></tr><tr align=\"center\" bgcolor=\"#f5f5f5\" valign=\"top\"><td>03</td><td align=\"right\">12:51</td><td>NA</td><td>10.00</td><td align=\"left\">Overcast</td><td>OVC049</td><td>52</td><td>34</td>\n",
      "<td>55</td><td>52</td><td>50%</td><td>NA</td><td>NA</td><td>29.67</td><td>1003.8</td><td></td><td></td><td></td></tr><tr align=\"center\" bgcolor=\"#eeeeee\" valign=\"top\"><td>03</td><td align=\"right\">11:51</td><td>NA</td><td>10.00</td><td align=\"left\">Overcast</td><td>OVC037</td><td>52</td><td>37</td>\n",
      "<td></td><td></td><td>57%</td><td>NA</td><td>NA</td><td>29.67</td><td>1003.9</td><td></td><td></td><td></td></tr><tr align=\"center\" bgcolor=\"#f5f5f5\" valign=\"top\"><td>03</td><td align=\"right\">10:51</td><td>NA</td><td>10.00</td><td align=\"left\">A Few Clouds</td><td>FEW037</td><td>54</td><td>39</td>\n",
      "<td></td><td></td><td>57%</td><td>NA</td><td>NA</td><td>29.67</td><td>1003.9</td><td></td><td></td><td></td></tr><tr align=\"center\" bgcolor=\"#eeeeee\" valign=\"top\"><td>03</td><td align=\"right\">09:51</td><td>NA</td><td>10.00</td><td align=\"left\">Fair</td><td>CLR</td><td>54</td><td>41</td>\n",
      "<td></td><td></td><td>62%</td><td>NA</td><td>NA</td><td>29.67</td><td>1003.8</td><td></td><td></td><td></td></tr><tr align=\"center\" bgcolor=\"#f5f5f5\" valign=\"top\"><td>03</td><td align=\"right\">08:51</td><td>NA</td><td>10.00</td><td align=\"left\">Fair</td><td>CLR</td><td>54</td><td>44</td>\n",
      "<td></td><td></td><td>69%</td><td>NA</td><td>NA</td><td>29.66</td><td>1003.3</td><td></td><td></td><td></td></tr><tr align=\"center\" bgcolor=\"#eeeeee\" valign=\"top\"><td>03</td><td align=\"right\">07:51</td><td>NA</td><td>10.00</td><td align=\"left\">Fair</td><td>CLR</td><td>54</td><td>46</td>\n",
      "<td></td><td></td><td>75%</td><td>NA</td><td>NA</td><td>29.63</td><td>1002.6</td><td></td><td></td><td></td></tr><tr align=\"center\" bgcolor=\"#f5f5f5\" valign=\"top\"><td>03</td><td align=\"right\">06:51</td><td>NA</td><td>10.00</td><td align=\"left\">Fair</td><td>CLR</td><td>53</td><td>49</td>\n",
      "<td>55</td><td>53</td><td>86%</td><td>NA</td><td>NA</td><td>29.61</td><td>1002.0</td><td></td><td></td><td></td></tr><tr align=\"center\" bgcolor=\"#eeeeee\" valign=\"top\"><td>03</td><td align=\"right\">05:51</td><td>NA</td><td>10.00</td><td align=\"left\">Partly Cloudy</td><td>SCT013</td><td>54</td><td>51</td>\n",
      "<td></td><td></td><td>90%</td><td>NA</td><td>NA</td><td>29.60</td><td>1001.4</td><td></td><td></td><td></td></tr><tr align=\"center\" bgcolor=\"#f5f5f5\" valign=\"top\"><td>03</td><td align=\"right\">04:51</td><td>NA</td><td>5.00</td><td align=\"left\"> Fog/Mist</td><td>OVC004</td><td>54</td><td>53</td>\n",
      "<td></td><td></td><td>97%</td><td>NA</td><td>NA</td><td>29.60</td><td>1001.5</td><td></td><td></td><td></td></tr><tr align=\"center\" bgcolor=\"#eeeeee\" valign=\"top\"><td>03</td><td align=\"right\">03:51</td><td>NA</td><td>3.00</td><td align=\"left\"> Fog/Mist</td><td>OVC004</td><td>54</td><td>53</td>\n",
      "<td></td><td></td><td>97%</td><td>NA</td><td>NA</td><td>29.60</td><td>1001.6</td><td></td><td></td><td></td></tr><tr align=\"center\" bgcolor=\"#f5f5f5\" valign=\"top\"><td>03</td><td align=\"right\">02:51</td><td>NA</td><td>3.00</td><td align=\"left\"> Fog/Mist</td><td>OVC006</td><td>55</td><td>53</td>\n",
      "<td></td><td></td><td>93%</td><td>NA</td><td>NA</td><td>29.61</td><td>1001.6</td><td></td><td></td><td></td></tr><tr align=\"center\" bgcolor=\"#eeeeee\" valign=\"top\"><td>03</td><td align=\"right\">01:51</td><td>NA</td><td>8.00</td><td align=\"left\">Overcast</td><td>OVC008</td><td>55</td><td>52</td>\n",
      "<td></td><td></td><td>90%</td><td>NA</td><td>NA</td><td>29.61</td><td>1001.9</td><td></td><td></td><td></td></tr><tr align=\"center\" bgcolor=\"#f5f5f5\" valign=\"top\"><td>03</td><td align=\"right\">00:51</td><td>NA</td><td>8.00</td><td align=\"left\">Overcast</td><td>OVC007</td><td>55</td><td>52</td>\n",
      "<td>56</td><td>54</td><td>90%</td><td>NA</td><td>NA</td><td>29.62</td><td>1002.0</td><td></td><td></td><td>0.03</td></tr><tr align=\"center\" bgcolor=\"#eeeeee\" valign=\"top\"><td>02</td><td align=\"right\">23:51</td><td>NA</td><td>9.00</td><td align=\"left\">Overcast</td><td>OVC008</td><td>55</td><td>53</td>\n",
      "<td></td><td></td><td>93%</td><td>NA</td><td>NA</td><td>29.62</td><td>1002.3</td><td></td><td></td><td></td></tr><tr align=\"center\" bgcolor=\"#f5f5f5\" valign=\"top\"><td>02</td><td align=\"right\">22:51</td><td>NA</td><td>9.00</td><td align=\"left\">Overcast</td><td>OVC010</td><td>55</td><td>53</td>\n",
      "<td></td><td></td><td>93%</td><td>NA</td><td>NA</td><td>29.62</td><td>1002.2</td><td></td><td></td><td></td></tr><tr align=\"center\" bgcolor=\"#eeeeee\" valign=\"top\"><td>02</td><td align=\"right\">21:51</td><td>NA</td><td>7.00</td><td align=\"left\">Overcast</td><td>OVC007</td><td>55</td><td>54</td>\n",
      "<td></td><td></td><td>96%</td><td>NA</td><td>NA</td><td>29.63</td><td>1002.5</td><td>0.01</td><td>0.03</td><td></td></tr><tr align=\"center\" bgcolor=\"#f5f5f5\" valign=\"top\"><td>02</td><td align=\"right\">20:51</td><td>NA</td><td>1.75</td><td align=\"left\"> Fog/Mist</td><td>OVC009</td><td>55</td><td>54</td>\n",
      "<td></td><td></td><td>96%</td><td>NA</td><td>NA</td><td>29.64</td><td>1003.0</td><td>0.01</td><td></td><td></td></tr><tr align=\"center\" bgcolor=\"#eeeeee\" valign=\"top\"><td>02</td><td align=\"right\">19:51</td><td>NA</td><td>2.50</td><td align=\"left\"> Fog/Mist</td><td>OVC008</td><td>56</td><td>54</td>\n",
      "<td></td><td></td><td>93%</td><td>NA</td><td>NA</td><td>29.64</td><td>1002.8</td><td>0.01</td><td></td><td></td></tr><tr align=\"center\" bgcolor=\"#f5f5f5\" valign=\"top\"><td>02</td><td align=\"right\">18:51</td><td>NA</td><td>1.25</td><td align=\"left\"> Light Rain Fog/Mist</td><td>OVC007</td><td>54</td><td>53</td>\n",
      "<td>55</td><td>52</td><td>97%</td><td>NA</td><td>NA</td><td>29.63</td><td>1002.7</td><td>0.02</td><td></td><td>0.07</td></tr><tr align=\"center\" bgcolor=\"#eeeeee\" valign=\"top\"><td>02</td><td align=\"right\">17:51</td><td>NA</td><td>1.75</td><td align=\"left\"> Fog/Mist</td><td>OVC010</td><td>54</td><td>53</td>\n",
      "<td></td><td></td><td>97%</td><td>NA</td><td>NA</td><td>29.63</td><td>1002.7</td><td>0.01</td><td></td><td></td></tr><tr align=\"center\" bgcolor=\"#f5f5f5\" valign=\"top\"><td>02</td><td align=\"right\">16:51</td><td>NA</td><td>1.50</td><td align=\"left\"> Fog/Mist</td><td>OVC007</td><td>53</td><td>52</td>\n",
      "<td></td><td></td><td>96%</td><td>NA</td><td>NA</td><td>29.64</td><td>1002.8</td><td>0.01</td><td></td><td></td></tr><tr align=\"center\" bgcolor=\"#eeeeee\" valign=\"top\"><td>02</td><td align=\"right\">15:51</td><td>NA</td><td>0.75</td><td align=\"left\"> Light Rain Fog/Mist</td><td>VV006</td><td>53</td><td>52</td>\n",
      "<td></td><td></td><td>96%</td><td>NA</td><td>NA</td><td>29.65</td><td>1003.3</td><td>0.02</td><td>0.03</td><td></td></tr><tr align=\"center\" bgcolor=\"#f5f5f5\" valign=\"top\"><td>02</td><td align=\"right\">14:51</td><td>NA</td><td>1.25</td><td align=\"left\"> Light Rain Fog/Mist</td><td>OVC005</td><td>54</td><td>52</td>\n",
      "<td></td><td></td><td>93%</td><td>NA</td><td>NA</td><td>29.66</td><td>1003.4</td><td>0.01</td><td></td><td></td></tr><tr align=\"center\" bgcolor=\"#eeeeee\" valign=\"top\"><td>02</td><td align=\"right\">13:51</td><td>NA</td><td>1.25</td><td align=\"left\"> Fog/Mist</td><td>OVC004</td><td>53</td><td>52</td>\n",
      "<td></td><td></td><td>96%</td><td>NA</td><td>NA</td><td>29.67</td><td>1003.9</td><td></td><td></td><td></td></tr><tr align=\"center\" bgcolor=\"#f5f5f5\" valign=\"top\"><td>02</td><td align=\"right\">12:51</td><td>NA</td><td>1.00</td><td align=\"left\"> Fog/Mist</td><td>OVC003</td><td>52</td><td>51</td>\n",
      "<td>52</td><td>46</td><td>97%</td><td>NA</td><td>NA</td><td>29.70</td><td>1004.9</td><td>0.01</td><td></td><td>0.20</td></tr><tr align=\"center\" bgcolor=\"#eeeeee\" valign=\"top\"><td>02</td><td align=\"right\">11:51</td><td>NA</td><td>1.25</td><td align=\"left\"> Fog/Mist</td><td>OVC003</td><td>52</td><td>51</td>\n",
      "<td></td><td></td><td>97%</td><td>NA</td><td>NA</td><td>29.72</td><td>1005.6</td><td></td><td></td><td></td></tr><tr align=\"center\" bgcolor=\"#f5f5f5\" valign=\"top\"><td>02</td><td align=\"right\">10:51</td><td>NA</td><td>1.50</td><td align=\"left\"> Fog/Mist</td><td>OVC004</td><td>50</td><td>49</td>\n",
      "<td></td><td></td><td>96%</td><td>NA</td><td>NA</td><td>29.76</td><td>1007.0</td><td>0.04</td><td></td><td></td></tr><tr align=\"center\" bgcolor=\"#eeeeee\" valign=\"top\"><td>02</td><td align=\"right\">09:51</td><td>NA</td><td>1.00</td><td align=\"left\"> Light Rain Fog/Mist</td><td>OVC004</td><td>49</td><td>48</td>\n",
      "<td></td><td></td><td>97%</td><td>NA</td><td>NA</td><td>29.80</td><td>1008.3</td><td>0.06</td><td>0.15</td><td></td></tr><tr align=\"center\" bgcolor=\"#f5f5f5\" valign=\"top\"><td>02</td><td align=\"right\">08:51</td><td>NA</td><td>1.50</td><td align=\"left\"> Light Rain Fog/Mist</td><td>OVC004</td><td>48</td><td>47</td>\n",
      "<td></td><td></td><td>96%</td><td>NA</td><td>NA</td><td>29.82</td><td>1008.8</td><td>0.04</td><td></td><td></td></tr><tr align=\"center\" bgcolor=\"#eeeeee\" valign=\"top\"><td>02</td><td align=\"right\">07:51</td><td>NA</td><td>2.50</td><td align=\"left\"> Light Rain Fog/Mist</td><td>OVC005</td><td>47</td><td>45</td>\n",
      "<td></td><td></td><td>93%</td><td>NA</td><td>NA</td><td>29.84</td><td>1009.8</td><td>0.05</td><td></td><td></td></tr><tr align=\"center\" bgcolor=\"#f5f5f5\" valign=\"top\"><td>02</td><td align=\"right\">06:51</td><td>NA</td><td>2.00</td><td align=\"left\"> Rain Fog/Mist</td><td>OVC004</td><td>46</td><td>44</td>\n",
      "<td>46</td><td>44</td><td>93%</td><td>NA</td><td>NA</td><td>29.88</td><td>1011.0</td><td>0.05</td><td></td><td>0.29</td></tr><tr align=\"center\" bgcolor=\"#eeeeee\" valign=\"top\"><td>02</td><td align=\"right\">05:51</td><td>NA</td><td>4.00</td><td align=\"left\"> Light Rain Fog/Mist</td><td>OVC004</td><td>45</td><td>44</td>\n",
      "<td></td><td></td><td>97%</td><td>NA</td><td>NA</td><td>29.90</td><td>1011.6</td><td>0.02</td><td></td><td></td></tr><tr align=\"center\" bgcolor=\"#f5f5f5\" valign=\"top\"><td>02</td><td align=\"right\">04:51</td><td>NA</td><td>3.00</td><td align=\"left\"> Light Rain Fog/Mist</td><td>OVC004</td><td>45</td><td>43</td>\n",
      "<td></td><td></td><td>93%</td><td>NA</td><td>NA</td><td>29.94</td><td>1013.1</td><td>0.06</td><td></td><td></td></tr><tr align=\"center\" bgcolor=\"#eeeeee\" valign=\"top\"><td>02</td><td align=\"right\">03:51</td><td>NA</td><td>1.75</td><td align=\"left\"> Rain Fog/Mist</td><td>OVC005</td><td>44</td><td>43</td>\n",
      "<td></td><td></td><td>96%</td><td>NA</td><td>NA</td><td>29.98</td><td>1014.3</td><td>0.12</td><td>0.16</td><td></td></tr><tr align=\"center\" bgcolor=\"#f5f5f5\" valign=\"top\"><td>02</td><td align=\"right\">02:51</td><td>NA</td><td>3.00</td><td align=\"left\"> Light Rain Fog/Mist</td><td>OVC004</td><td>44</td><td>43</td>\n",
      "<td></td><td></td><td>96%</td><td>NA</td><td>NA</td><td>30.00</td><td>1015.0</td><td>0.02</td><td></td><td></td></tr><tr align=\"center\" bgcolor=\"#eeeeee\" valign=\"top\"><td>02</td><td align=\"right\">01:51</td><td>NA</td><td>4.00</td><td align=\"left\"> Light Rain Fog/Mist</td><td>OVC005</td><td>44</td><td>42</td>\n",
      "<td></td><td></td><td>93%</td><td>NA</td><td>NA</td><td>30.03</td><td>1015.9</td><td>0.02</td><td></td><td></td></tr><tr align=\"center\" bgcolor=\"#f5f5f5\" valign=\"top\"><td>02</td><td align=\"right\">00:51</td><td>NA</td><td>5.00</td><td align=\"left\"> Light Rain Fog/Mist</td><td>OVC005</td><td>43</td><td>41</td>\n",
      "<td>43</td><td>41</td><td>93%</td><td>NA</td><td>NA</td><td>30.06</td><td>1016.9</td><td></td><td></td><td>0.03</td></tr><tr align=\"center\" bgcolor=\"#eeeeee\" valign=\"top\"><td>01</td><td align=\"right\">23:51</td><td>NA</td><td>4.00</td><td align=\"left\"> Fog/Mist</td><td>OVC006</td><td>42</td><td>40</td>\n",
      "<td></td><td></td><td>92%</td><td>NA</td><td>NA</td><td>30.10</td><td>1018.3</td><td></td><td></td><td></td></tr><tr align=\"center\" bgcolor=\"#f5f5f5\" valign=\"top\"><td>01</td><td align=\"right\">22:51</td><td>NA</td><td>8.00</td><td align=\"left\"> Light Rain</td><td>OVC013</td><td>42</td><td>39</td>\n",
      "<td></td><td></td><td>89%</td><td>NA</td><td>NA</td><td>30.14</td><td>1019.7</td><td></td><td></td><td></td></tr><tr align=\"center\" bgcolor=\"#eeeeee\" valign=\"top\"><td>01</td><td align=\"right\">21:51</td><td>NA</td><td>10.00</td><td align=\"left\">Overcast</td><td>BKN017 OVC025</td><td>42</td><td>37</td>\n",
      "<td></td><td></td><td>82%</td><td>NA</td><td>NA</td><td>30.16</td><td>1020.5</td><td></td><td>0.03</td><td></td></tr><tr align=\"center\" bgcolor=\"#f5f5f5\" valign=\"top\"><td>01</td><td align=\"right\">20:51</td><td>NA</td><td>10.00</td><td align=\"left\"> Light Rain</td><td>SCT024 OVC039</td><td>41</td><td>37</td>\n",
      "<td></td><td></td><td>86%</td><td>NA</td><td>NA</td><td>30.18</td><td>1021.1</td><td>0.02</td><td></td><td></td></tr><tr align=\"center\" bgcolor=\"#eeeeee\" valign=\"top\"><td>01</td><td align=\"right\">19:51</td><td>NA</td><td>7.00</td><td align=\"left\"> Light Rain</td><td>OVC050</td><td>42</td><td>36</td>\n",
      "<td></td><td></td><td>79%</td><td>NA</td><td>NA</td><td>30.18</td><td>1021.1</td><td>0.01</td><td></td><td></td></tr><tr align=\"center\" bgcolor=\"#f5f5f5\" valign=\"top\"><td>01</td><td align=\"right\">18:51</td><td>NA</td><td>7.00</td><td align=\"left\"> Light Rain</td><td>BKN060 OVC080</td><td>42</td><td>37</td>\n",
      "<td>46</td><td>42</td><td>82%</td><td>NA</td><td>NA</td><td>30.18</td><td>1021.2</td><td>0.02</td><td></td><td>0.02</td></tr><tr align=\"center\" bgcolor=\"#eeeeee\" valign=\"top\"><td>01</td><td align=\"right\">17:51</td><td>NA</td><td>10.00</td><td align=\"left\">Mostly Cloudy</td><td>BKN080</td><td>43</td><td>31</td>\n",
      "<td></td><td></td><td>63%</td><td>NA</td><td>NA</td><td>30.19</td><td>1021.5</td><td></td><td></td><td></td></tr><tr align=\"center\" bgcolor=\"#f5f5f5\" valign=\"top\"><td>01</td><td align=\"right\">16:51</td><td>NA</td><td>10.00</td><td align=\"left\">Fair</td><td>CLR</td><td>44</td><td>32</td>\n",
      "<td></td><td></td><td>63%</td><td>NA</td><td>NA</td><td>30.20</td><td>1021.7</td><td></td><td></td><td></td></tr><tr align=\"center\" bgcolor=\"#eeeeee\" valign=\"top\"><td>01</td><td align=\"right\">15:51</td><td>NA</td><td>10.00</td><td align=\"left\">Fair</td><td>CLR</td><td>45</td><td>30</td>\n",
      "<td></td><td></td><td>56%</td><td>NA</td><td>NA</td><td>30.20</td><td>1021.8</td><td></td><td></td><td></td></tr><tr align=\"center\" bgcolor=\"#f5f5f5\" valign=\"top\"><td>01</td><td align=\"right\">14:51</td><td>NA</td><td>10.00</td><td align=\"left\">Fair</td><td>CLR</td><td>45</td><td>31</td>\n",
      "<td></td><td></td><td>58%</td><td>NA</td><td>NA</td><td>30.20</td><td>1021.8</td><td></td><td></td><td></td></tr><tr align=\"center\" bgcolor=\"#eeeeee\" valign=\"top\"><td>01</td><td align=\"right\">13:51</td><td>NA</td><td>10.00</td><td align=\"left\">A Few Clouds</td><td>FEW031</td><td>46</td><td>31</td>\n",
      "<td></td><td></td><td>56%</td><td>NA</td><td>NA</td><td>30.19</td><td>1021.7</td><td></td><td></td><td></td></tr><tr align=\"center\" bgcolor=\"#f5f5f5\" valign=\"top\"><td>01</td><td align=\"right\">12:51</td><td>NA</td><td>10.00</td><td align=\"left\">Fair</td><td>CLR</td><td>45</td><td>31</td>\n",
      "<td>45</td><td>37</td><td>58%</td><td>NA</td><td>NA</td><td>30.21</td><td>1022.1</td><td></td><td></td><td></td></tr><tr align=\"center\" bgcolor=\"#eeeeee\" valign=\"top\"><td>01</td><td align=\"right\">11:51</td><td>NA</td><td>10.00</td><td align=\"left\">Fair</td><td>CLR</td><td>44</td><td>31</td>\n",
      "<td></td><td></td><td>60%</td><td>NA</td><td>NA</td><td>30.23</td><td>1022.9</td><td></td><td></td><td></td></tr><tr align=\"center\" bgcolor=\"#f5f5f5\" valign=\"top\"><td>01</td><td align=\"right\">10:51</td><td>NA</td><td>10.00</td><td align=\"left\">Partly Cloudy</td><td>SCT025</td><td>44</td><td>32</td>\n",
      "<td></td><td></td><td>63%</td><td>NA</td><td>NA</td><td>30.24</td><td>1023.1</td><td></td><td></td><td></td></tr><tr align=\"center\" bgcolor=\"#eeeeee\" valign=\"top\"><td>01</td><td align=\"right\">09:51</td><td>NA</td><td>10.00</td><td align=\"left\">Fair</td><td>CLR</td><td>42</td><td>32</td>\n",
      "<td></td><td></td><td>68%</td><td>NA</td><td>NA</td><td>30.24</td><td>1023.2</td><td></td><td></td><td></td></tr><tr align=\"center\" bgcolor=\"#f5f5f5\" valign=\"top\"><td>01</td><td align=\"right\">08:51</td><td>NA</td><td>10.00</td><td align=\"left\">Fair</td><td>CLR</td><td>40</td><td>32</td>\n",
      "<td></td><td></td><td>73%</td><td>NA</td><td>NA</td><td>30.24</td><td>1023.1</td><td></td><td></td><td></td></tr><tr align=\"center\" bgcolor=\"#eeeeee\" valign=\"top\"><td>01</td><td align=\"right\">07:51</td><td>NA</td><td>10.00</td><td align=\"left\">Fair</td><td>CLR</td><td>38</td><td>32</td>\n",
      "<td></td><td></td><td>79%</td><td>NA</td><td>NA</td><td>30.23</td><td>1023.0</td><td></td><td></td><td></td></tr><tr align=\"center\" bgcolor=\"#f5f5f5\" valign=\"top\"><td>01</td><td align=\"right\">06:51</td><td>NA</td><td>10.00</td><td align=\"left\">Fair</td><td>CLR</td><td>37</td><td>33</td>\n",
      "<td>40</td><td>36</td><td>86%</td><td>NA</td><td>NA</td><td>30.21</td><td>1022.2</td><td></td><td></td><td></td></tr><tr align=\"center\" bgcolor=\"#eeeeee\" valign=\"top\"><td>01</td><td align=\"right\">05:51</td><td>NA</td><td>9.00</td><td align=\"left\">Fair</td><td>CLR</td><td>37</td><td>32</td>\n",
      "<td></td><td></td><td>82%</td><td>NA</td><td>NA</td><td>30.20</td><td>1021.7</td><td></td><td></td><td></td></tr><tr align=\"center\" bgcolor=\"#f5f5f5\" valign=\"top\"><td>01</td><td align=\"right\">04:51</td><td>NA</td><td>10.00</td><td align=\"left\">A Few Clouds</td><td>FEW015</td><td>38</td><td>32</td>\n",
      "<td></td><td></td><td>79%</td><td>NA</td><td>NA</td><td>30.18</td><td>1021.2</td><td></td><td></td><td></td></tr><tr align=\"center\" bgcolor=\"#eeeeee\" valign=\"top\"><td>01</td><td align=\"right\">03:51</td><td>NA</td><td>10.00</td><td align=\"left\">Fair</td><td>CLR</td><td>39</td><td>33</td>\n",
      "<td></td><td></td><td>79%</td><td>NA</td><td>NA</td><td>30.15</td><td>1020.3</td><td></td><td></td><td></td></tr><tr align=\"center\" bgcolor=\"#f5f5f5\" valign=\"top\"><td>01</td><td align=\"right\">02:51</td><td>NA</td><td>10.00</td><td align=\"left\">Fair</td><td>CLR</td><td>39</td><td>33</td>\n",
      "<td></td><td></td><td>79%</td><td>NA</td><td>NA</td><td>30.14</td><td>1020.0</td><td></td><td></td><td></td></tr><tr align=\"center\" bgcolor=\"#eeeeee\" valign=\"top\"><td>01</td><td align=\"right\">01:51</td><td>NA</td><td>10.00</td><td align=\"left\">Mostly Cloudy</td><td>BKN043</td><td>40</td><td>33</td>\n",
      "<td></td><td></td><td>77%</td><td>NA</td><td>NA</td><td>30.15</td><td>1020.1</td><td></td><td></td><td></td></tr><tr align=\"center\" bgcolor=\"#f5f5f5\" valign=\"top\"><td>01</td><td align=\"right\">00:51</td><td>NA</td><td>10.00</td><td align=\"left\">Overcast</td><td>OVC043</td><td>40</td><td>34</td>\n",
      "<td>41</td><td>39</td><td>79%</td><td>NA</td><td>NA</td><td>30.14</td><td>1019.7</td><td></td><td></td><td></td></tr><tr align=\"center\" bgcolor=\"#eeeeee\" valign=\"top\"><td>30</td><td align=\"right\">23:51</td><td>NA</td><td>10.00</td><td align=\"left\">Overcast</td><td>OVC044</td><td>40</td><td>34</td>\n",
      "<td></td><td></td><td>79%</td><td>NA</td><td>NA</td><td>30.13</td><td>1019.6</td><td></td><td></td><td></td></tr><tr align=\"center\" bgcolor=\"#f5f5f5\" valign=\"top\"><td>30</td><td align=\"right\">22:51</td><td>NA</td><td>10.00</td><td align=\"left\">Overcast</td><td>OVC044</td><td>40</td><td>33</td>\n",
      "<td></td><td></td><td>77%</td><td>NA</td><td>NA</td><td>30.13</td><td>1019.4</td><td></td><td></td><td></td></tr><tr align=\"center\" bgcolor=\"#eeeeee\" valign=\"top\"><td>30</td><td align=\"right\">21:51</td><td>NA</td><td>10.00</td><td align=\"left\">Overcast</td><td>OVC045</td><td>40</td><td>33</td>\n",
      "<td></td><td></td><td>77%</td><td>NA</td><td>NA</td><td>30.11</td><td>1018.8</td><td></td><td></td><td></td></tr><tr align=\"center\" bgcolor=\"#f5f5f5\" valign=\"top\"><td>30</td><td align=\"right\">20:51</td><td>NA</td><td>10.00</td><td align=\"left\">Overcast</td><td>SCT017 BKN029 OVC039</td><td>40</td><td>34</td>\n",
      "<td></td><td></td><td>79%</td><td>NA</td><td>NA</td><td>30.10</td><td>1018.6</td><td></td><td></td><td></td></tr><tr align=\"center\" bgcolor=\"#eeeeee\" valign=\"top\"><td>30</td><td align=\"right\">19:51</td><td>NA</td><td>9.00</td><td align=\"left\">Overcast</td><td>OVC015</td><td>40</td><td>34</td>\n",
      "<td></td><td></td><td>79%</td><td>NA</td><td>NA</td><td>30.10</td><td>1018.6</td><td></td><td></td><td></td></tr><tr align=\"center\" bgcolor=\"#f5f5f5\" valign=\"top\"><td>30</td><td align=\"right\">18:51</td><td>NA</td><td>8.00</td><td align=\"left\"> Light Rain</td><td>OVC016</td><td>39</td><td>35</td>\n",
      "<td>43</td><td>39</td><td>86%</td><td>NA</td><td>NA</td><td>30.09</td><td>1017.9</td><td></td><td></td><td>0.02</td></tr><tr align=\"center\" bgcolor=\"#eeeeee\" valign=\"top\"><td>30</td><td align=\"right\">17:51</td><td>NA</td><td>8.00</td><td align=\"left\">Overcast</td><td>OVC017</td><td>40</td><td>35</td>\n",
      "<td></td><td></td><td>83%</td><td>NA</td><td>NA</td><td>30.07</td><td>1017.5</td><td></td><td></td><td></td></tr><tr align=\"center\" bgcolor=\"#f5f5f5\" valign=\"top\"><td>30</td><td align=\"right\">16:51</td><td>NA</td><td>9.00</td><td align=\"left\"> Light Rain</td><td>BKN018 OVC041</td><td>40</td><td>35</td>\n",
      "<td></td><td></td><td>83%</td><td>NA</td><td>NA</td><td>30.05</td><td>1016.8</td><td>0.02</td><td></td><td></td></tr><tr align=\"center\" bgcolor=\"#eeeeee\" valign=\"top\"><td>30</td><td align=\"right\">15:51</td><td>NA</td><td>10.00</td><td align=\"left\"> Light Rain</td><td>FEW034 OVC048</td><td>41</td><td>32</td>\n",
      "<td></td><td></td><td>70%</td><td>NA</td><td>NA</td><td>30.04</td><td>1016.5</td><td></td><td></td><td></td></tr><tr align=\"center\" bgcolor=\"#f5f5f5\" valign=\"top\"><td>30</td><td align=\"right\">14:51</td><td>NA</td><td>10.00</td><td align=\"left\"> Light Rain</td><td>OVC043</td><td>42</td><td>30</td>\n",
      "<td></td><td></td><td>62%</td><td>NA</td><td>NA</td><td>30.03</td><td>1016.1</td><td></td><td></td><td></td></tr><tr align=\"center\" bgcolor=\"#b0c4de\"><th rowspan=\"3\">D<br/>a<br/>t<br/>e</th><th rowspan=\"3\">Time<br/>(est)</th>\n",
      "<th rowspan=\"3\">Wind<br/>(mph)</th><th rowspan=\"3\">Vis.<br/>(mi.)</th><th rowspan=\"3\">Weather</th><th align=\"CENTER\" rowspan=\"3\">Sky Cond.</th>\n",
      "<th rowspan=\"2\">Air</th><th rowspan=\"2\">Dwpt</th><th>Max.</th><th>Min.</th><th rowspan=\"3\" width=\"65\">Relative<br/>Humidity</th><th rowspan=\"3\" width=\"80\">Wind<br/>Chill<br/>(°F)</th><th rowspan=\"3\" width=\"80\">Heat<br/>Index<br/>(°F)</th><th rowspan=\"2\">altimeter<br/>(in.)</th><th rowspan=\"2\">sea level<br/>(mb)</th>\n",
      "<th rowspan=\"2\">1 hr</th><th rowspan=\"2\">3 hr</th><th rowspan=\"2\">6 hr</th></tr>\n",
      "<tr align=\"center\" bgcolor=\"#b0c4de\"><th colspan=\"2\">6 hour</th></tr><tr align=\"center\" bgcolor=\"#b0c4de\">\n",
      "<th colspan=\"4\">Temperature (ºF)</th><th colspan=\"2\">Pressure</th><th colspan=\"3\">Precipitation (in.)</th></tr></table>\n"
     ]
    }
   ],
   "source": [
    "# print the 4rd table in the page\n",
    "print(knyc_soup.find_all('table')[3])"
   ]
  },
  {
   "cell_type": "code",
   "execution_count": 24,
   "metadata": {
    "slideshow": {
     "slide_type": "slide"
    }
   },
   "outputs": [
    {
     "data": {
      "text/html": [
       "<div>\n",
       "<style scoped>\n",
       "    .dataframe tbody tr th:only-of-type {\n",
       "        vertical-align: middle;\n",
       "    }\n",
       "\n",
       "    .dataframe tbody tr th {\n",
       "        vertical-align: top;\n",
       "    }\n",
       "\n",
       "    .dataframe thead th {\n",
       "        text-align: right;\n",
       "    }\n",
       "</style>\n",
       "<table border=\"1\" class=\"dataframe\">\n",
       "  <thead>\n",
       "    <tr style=\"text-align: right;\">\n",
       "      <th></th>\n",
       "      <th>0</th>\n",
       "      <th>1</th>\n",
       "      <th>2</th>\n",
       "      <th>3</th>\n",
       "      <th>4</th>\n",
       "      <th>5</th>\n",
       "      <th>6</th>\n",
       "      <th>7</th>\n",
       "      <th>8</th>\n",
       "      <th>9</th>\n",
       "      <th>10</th>\n",
       "      <th>11</th>\n",
       "      <th>12</th>\n",
       "      <th>13</th>\n",
       "      <th>14</th>\n",
       "      <th>15</th>\n",
       "      <th>16</th>\n",
       "      <th>17</th>\n",
       "    </tr>\n",
       "  </thead>\n",
       "  <tbody>\n",
       "    <tr>\n",
       "      <th>0</th>\n",
       "      <td>03</td>\n",
       "      <td>13:51</td>\n",
       "      <td>NA</td>\n",
       "      <td>10.00</td>\n",
       "      <td>A Few Clouds</td>\n",
       "      <td>FEW050</td>\n",
       "      <td>53</td>\n",
       "      <td>33</td>\n",
       "      <td></td>\n",
       "      <td></td>\n",
       "      <td>47%</td>\n",
       "      <td>NA</td>\n",
       "      <td>NA</td>\n",
       "      <td>29.66</td>\n",
       "      <td>1003.7</td>\n",
       "      <td></td>\n",
       "      <td></td>\n",
       "      <td></td>\n",
       "    </tr>\n",
       "    <tr>\n",
       "      <th>1</th>\n",
       "      <td>03</td>\n",
       "      <td>12:51</td>\n",
       "      <td>NA</td>\n",
       "      <td>10.00</td>\n",
       "      <td>Overcast</td>\n",
       "      <td>OVC049</td>\n",
       "      <td>52</td>\n",
       "      <td>34</td>\n",
       "      <td>55</td>\n",
       "      <td>52</td>\n",
       "      <td>50%</td>\n",
       "      <td>NA</td>\n",
       "      <td>NA</td>\n",
       "      <td>29.67</td>\n",
       "      <td>1003.8</td>\n",
       "      <td></td>\n",
       "      <td></td>\n",
       "      <td></td>\n",
       "    </tr>\n",
       "    <tr>\n",
       "      <th>2</th>\n",
       "      <td>03</td>\n",
       "      <td>11:51</td>\n",
       "      <td>NA</td>\n",
       "      <td>10.00</td>\n",
       "      <td>Overcast</td>\n",
       "      <td>OVC037</td>\n",
       "      <td>52</td>\n",
       "      <td>37</td>\n",
       "      <td></td>\n",
       "      <td></td>\n",
       "      <td>57%</td>\n",
       "      <td>NA</td>\n",
       "      <td>NA</td>\n",
       "      <td>29.67</td>\n",
       "      <td>1003.9</td>\n",
       "      <td></td>\n",
       "      <td></td>\n",
       "      <td></td>\n",
       "    </tr>\n",
       "    <tr>\n",
       "      <th>3</th>\n",
       "      <td>03</td>\n",
       "      <td>10:51</td>\n",
       "      <td>NA</td>\n",
       "      <td>10.00</td>\n",
       "      <td>A Few Clouds</td>\n",
       "      <td>FEW037</td>\n",
       "      <td>54</td>\n",
       "      <td>39</td>\n",
       "      <td></td>\n",
       "      <td></td>\n",
       "      <td>57%</td>\n",
       "      <td>NA</td>\n",
       "      <td>NA</td>\n",
       "      <td>29.67</td>\n",
       "      <td>1003.9</td>\n",
       "      <td></td>\n",
       "      <td></td>\n",
       "      <td></td>\n",
       "    </tr>\n",
       "    <tr>\n",
       "      <th>4</th>\n",
       "      <td>03</td>\n",
       "      <td>09:51</td>\n",
       "      <td>NA</td>\n",
       "      <td>10.00</td>\n",
       "      <td>Fair</td>\n",
       "      <td>CLR</td>\n",
       "      <td>54</td>\n",
       "      <td>41</td>\n",
       "      <td></td>\n",
       "      <td></td>\n",
       "      <td>62%</td>\n",
       "      <td>NA</td>\n",
       "      <td>NA</td>\n",
       "      <td>29.67</td>\n",
       "      <td>1003.8</td>\n",
       "      <td></td>\n",
       "      <td></td>\n",
       "      <td></td>\n",
       "    </tr>\n",
       "  </tbody>\n",
       "</table>\n",
       "</div>"
      ],
      "text/plain": [
       "   0      1   2      3             4       5   6   7   8   9    10  11  12  \\\n",
       "0  03  13:51  NA  10.00  A Few Clouds  FEW050  53  33          47%  NA  NA   \n",
       "1  03  12:51  NA  10.00      Overcast  OVC049  52  34  55  52  50%  NA  NA   \n",
       "2  03  11:51  NA  10.00      Overcast  OVC037  52  37          57%  NA  NA   \n",
       "3  03  10:51  NA  10.00  A Few Clouds  FEW037  54  39          57%  NA  NA   \n",
       "4  03  09:51  NA  10.00          Fair     CLR  54  41          62%  NA  NA   \n",
       "\n",
       "      13      14 15 16 17  \n",
       "0  29.66  1003.7           \n",
       "1  29.67  1003.8           \n",
       "2  29.67  1003.9           \n",
       "3  29.67  1003.9           \n",
       "4  29.67  1003.8           "
      ]
     },
     "execution_count": 24,
     "metadata": {},
     "output_type": "execute_result"
    }
   ],
   "source": [
    "# extract data from the 4th table in the page into a dataframe\n",
    "\n",
    "data_table = knyc_soup.find_all('table')[3]\n",
    "\n",
    "table_rows = data_table.find_all('tr') # get rows from table\n",
    "\n",
    "data = []\n",
    "for idx,tr in enumerate(table_rows):\n",
    "    if idx < 3 :                       # skip header rows\n",
    "        continue\n",
    "    td = tr.find_all('td')             # get table cells\n",
    "    row = [elem.text for elem in td]   # pull text from cells\n",
    "    data.append(row)                   # add to dataset\n",
    "    \n",
    "pd.DataFrame(data).head()"
   ]
  },
  {
   "cell_type": "markdown",
   "metadata": {
    "slideshow": {
     "slide_type": "slide"
    }
   },
   "source": [
    "#### central park weather history summary\n",
    "https://www.wunderground.com/history/daily/us/ny/new-york-city/KNYC/date/2018-12-3?cm_ven=localwx_history"
   ]
  },
  {
   "cell_type": "code",
   "execution_count": 25,
   "metadata": {
    "slideshow": {
     "slide_type": "fragment"
    }
   },
   "outputs": [],
   "source": [
    "wu_link = 'https://www.wunderground.com/history/daily/us/ny/new-york-city/KNYC/date/2018-12-3?cm_ven=localwx_history'"
   ]
  },
  {
   "cell_type": "code",
   "execution_count": 26,
   "metadata": {
    "slideshow": {
     "slide_type": "slide"
    }
   },
   "outputs": [
    {
     "data": {
      "text/plain": [
       "<Response [200]>"
      ]
     },
     "execution_count": 26,
     "metadata": {},
     "output_type": "execute_result"
    }
   ],
   "source": [
    "# get the page\n",
    "wu_page = requests.get(wu_link)\n",
    "wu_page"
   ]
  },
  {
   "cell_type": "code",
   "execution_count": 28,
   "metadata": {
    "slideshow": {
     "slide_type": "slide"
    }
   },
   "outputs": [],
   "source": [
    "wu_soup = BeautifulSoup(wu_page.content)"
   ]
  },
  {
   "cell_type": "code",
   "execution_count": 30,
   "metadata": {
    "slideshow": {
     "slide_type": "fragment"
    }
   },
   "outputs": [
    {
     "name": "stdout",
     "output_type": "stream",
     "text": [
      "<!DOCTYPE html>\n",
      "<html>\n",
      " <head>\n",
      "  <title>\n",
      "   Central Park, NY History | Weather Underground\n",
      "  </title>\n",
      "  <meta charset=\"utf-8\"/>\n",
      "  <meta content=\"IE=edge,chrome=1\" http-equiv=\"X-UA-Compatible\"/>\n",
      "  <meta content=\"width=device-width, initial-scale=1, maximum-scale=1\" name=\"viewport\"/>\n",
      "  <meta content=\"general\" name=\"rating\"/>\n",
      "  <meta content=\"no-referrer-when-downgrade\" name=\"referrer\"/>\n",
      "  <meta content=\"app-id=486154808, affiliate-data=at=1010lrYB&amp;ct=website_wu\" name=\"apple-itunes-app\"/>\n",
      "  <meta content=\"325331260891611\" name=\"fb_app_id\"/>\n",
      "  <meta content=\"width=device-width, initial-scale=1, maximum-scale=1\" name=\"fb_channel_url\"/>\n",
      "  <meta content=\"Weather Underground\" property=\"og:site_name\"/>\n",
      "  <meta content=\"article\" property=\"og:type\"/>\n",
      "  <meta content=\"Weather Underground provides local &amp; long range weather forecasts, weather reports, maps &amp; tropical weather conditions for locations worldwide.\" name=\"description\"/>\n",
      "  <meta content=\"false\" name=\"wui-member-logged-in\"/>\n",
      " \n"
     ]
    }
   ],
   "source": [
    "print(wu_soup.prettify()[:1000])"
   ]
  },
  {
   "cell_type": "code",
   "execution_count": 29,
   "metadata": {
    "slideshow": {
     "slide_type": "fragment"
    }
   },
   "outputs": [
    {
     "data": {
      "text/plain": [
       "[]"
      ]
     },
     "execution_count": 29,
     "metadata": {},
     "output_type": "execute_result"
    }
   ],
   "source": [
    "# the table we want doesn't exist! culprit: javascript\n",
    "wu_soup.find_all('div',class_='tablesaw-sortable')"
   ]
  },
  {
   "cell_type": "code",
   "execution_count": 31,
   "metadata": {
    "slideshow": {
     "slide_type": "slide"
    }
   },
   "outputs": [
    {
     "name": "stdout",
     "output_type": "stream",
     "text": [
      "Central Park, NY History | Weather Underground\n",
      "  //<![CDATA[\n",
      "  window.webpackManifest = {\"0\":\"city-history-module.271410e14d01eca31253.js\",\"1\":\"video-module.94791ee0736f33f5568c.js\",\"2\":\"health-module.76922905d5d1554bc3c6.js\",\"3\":\"hurricane-module.b45b656d6deabd837533.js\",\"4\":\"city-today-module.127cf5745059112cf3ac.js\",\"5\":\"city-ten-day-module.7ed9ac78f02c8aa5e3d4.js\",\"6\":\"city-hourly-module.bc5753f0cb1d1866d6d8.js\",\"7\":\"precipitation-module.df41624c9e83a1f6dd81.js\",\"8\":\"city-history-calendar-module.2988780f63ffe141a666.js\",\"9\":\"city-severe-module.70817f8d824b13fbde08.js\",\"10\":\"article-page-module.7c507107e75698855672.js\",\"11\":\"page-module.0d95aaa43f5a7a267c2c.js\",\"12\":\"member-mydevices-module.6fcf4e3f03eb5d5965ab.js\",\"13\":\"landing-purpleair-module.72a1382f54cb1a732850.js\",\"14\":\"test-module.c6d3df57d62511f4345f.js\",\"15\":\"hurricane-storm-module.4fa5ad48c4b52827cfe2.js\",\"16\":\"wundermap-module.e458239922d9a2289e79.js\",\"17\":\"homepage-module.483ec2af1ec142a28e05.js\",\"18\":\"cat-six-article-mo\n"
     ]
    }
   ],
   "source": [
    "# get the text from the page\n",
    "wu_text = wu_soup.get_text()\n",
    "\n",
    "# clean up the whitespace\n",
    "import re\n",
    "wu_text = re.sub(r'\\n+','\\n',text.strip())\n",
    "print(text[:1000])"
   ]
  },
  {
   "cell_type": "markdown",
   "metadata": {
    "slideshow": {
     "slide_type": "slide"
    }
   },
   "source": [
    "### Need to actually render page to process scripts!"
   ]
  },
  {
   "cell_type": "code",
   "execution_count": 32,
   "metadata": {
    "slideshow": {
     "slide_type": "fragment"
    }
   },
   "outputs": [],
   "source": [
    "# need to install chromedriver\n",
    "from selenium.webdriver.chrome.options import Options\n",
    "from selenium import webdriver\n",
    "\n",
    "chrome_options = Options()\n",
    "chrome_options.add_argument(\"--headless\")\n",
    "\n",
    "driver = webdriver.Chrome(options=chrome_options)"
   ]
  },
  {
   "cell_type": "code",
   "execution_count": 33,
   "metadata": {
    "slideshow": {
     "slide_type": "fragment"
    }
   },
   "outputs": [],
   "source": [
    "# this will actually render the page\n",
    "driver.get(wu_link)"
   ]
  },
  {
   "cell_type": "code",
   "execution_count": 47,
   "metadata": {
    "slideshow": {
     "slide_type": "fragment"
    }
   },
   "outputs": [],
   "source": [
    "# two ways to find the table we want\n",
    "wu_table = driver.find_element_by_class_name('city-history-observation')\n",
    "#wu_table = driver.find_element_by_id('history-observation-table')"
   ]
  },
  {
   "cell_type": "code",
   "execution_count": 48,
   "metadata": {
    "slideshow": {
     "slide_type": "slide"
    }
   },
   "outputs": [
    {
     "data": {
      "text/plain": [
       "'Daily Observations\\nTime Temperature Dew Point Humidity Wind Wind Speed Wind Gust Pressure Precip.\\n12:51 AM\\n55 F 52 F 89 %\\n0 mph 0 mph 29.4 in 0.0 in\\n1:51 AM\\n55 F 52 F 89 %\\n0 mph 0 mph 29.4 in 0.0 in\\n2:51 AM\\n55 F 53 F 93 %\\n0 mph 0 mph 29.4 in 0.0 in\\n3:38 AM\\n54 F 53 F 97 %\\n0 mph 0 mph 29.4 in 0.0 in\\n3:51 AM\\n54 F 53 F 97 %\\n0 mph 0 mph 29.4 in 0.0 in\\n4:51 AM\\n54 F 53 F 97 %\\n0 mph 0 mph 29.4 in 0.0 in\\n5:01 AM\\n54 F 53 F 97 %\\n0 mph 0 mph 29.4 in 0.0 in\\n5:28 AM\\n54 F 52 F 93 %\\n0 mph 0 mph 29.4 in 0.0 in\\n5:51 AM\\n54 F 51 F 90 %\\n0 mph 0 mph 29.4 in 0.0 in\\n6:51 AM\\n53 F 49 F 86 %\\n0 mph 0 mph 29.4 in 0.0 in\\n7:51 AM\\n54 F 46 F 75 %\\n0 mph 0 mph 29.5 in 0.0 in\\n8:51 AM\\n54 F 44 F 69 %\\n0 mph 0 mph 29.5 in 0.0 in\\n9:51 AM\\n54 F 41 F 62 %\\n0 mph 0 mph 29.5 in 0.0 in\\n10:51 AM\\n54 F 39 F 57 %\\n0 mph 0 mph 29.5 in 0.0 in\\n11:51 AM\\n52 F 37 F 57 %\\n0 mph 0 mph 29.5 in 0.0 in\\n12:51 PM\\n52 F 34 F 50 %\\n0 mph 0 mph 29.5 in 0.0 in\\n1:51 PM\\n53 F 33 F 47 %\\n0 mph 0 mph 29.5 in 0.0 in'"
      ]
     },
     "execution_count": 48,
     "metadata": {},
     "output_type": "execute_result"
    }
   ],
   "source": [
    "# text in the table\n",
    "wu_table.text"
   ]
  },
  {
   "cell_type": "code",
   "execution_count": 49,
   "metadata": {
    "slideshow": {
     "slide_type": "slide"
    }
   },
   "outputs": [
    {
     "data": {
      "text/html": [
       "<div>\n",
       "<style scoped>\n",
       "    .dataframe tbody tr th:only-of-type {\n",
       "        vertical-align: middle;\n",
       "    }\n",
       "\n",
       "    .dataframe tbody tr th {\n",
       "        vertical-align: top;\n",
       "    }\n",
       "\n",
       "    .dataframe thead th {\n",
       "        text-align: right;\n",
       "    }\n",
       "</style>\n",
       "<table border=\"1\" class=\"dataframe\">\n",
       "  <thead>\n",
       "    <tr style=\"text-align: right;\">\n",
       "      <th></th>\n",
       "      <th>0</th>\n",
       "      <th>1</th>\n",
       "      <th>2</th>\n",
       "      <th>3</th>\n",
       "      <th>4</th>\n",
       "      <th>5</th>\n",
       "      <th>6</th>\n",
       "      <th>7</th>\n",
       "      <th>8</th>\n",
       "      <th>9</th>\n",
       "      <th>10</th>\n",
       "    </tr>\n",
       "  </thead>\n",
       "  <tbody>\n",
       "    <tr>\n",
       "      <th>0</th>\n",
       "      <td>None</td>\n",
       "      <td>None</td>\n",
       "      <td>None</td>\n",
       "      <td>None</td>\n",
       "      <td>None</td>\n",
       "      <td>None</td>\n",
       "      <td>None</td>\n",
       "      <td>None</td>\n",
       "      <td>None</td>\n",
       "      <td>None</td>\n",
       "      <td>None</td>\n",
       "    </tr>\n",
       "    <tr>\n",
       "      <th>1</th>\n",
       "      <td>12:51 AM</td>\n",
       "      <td>55 F</td>\n",
       "      <td>52 F</td>\n",
       "      <td>89 %</td>\n",
       "      <td></td>\n",
       "      <td>0 mph</td>\n",
       "      <td>0 mph</td>\n",
       "      <td>29.4 in</td>\n",
       "      <td>0.0 in</td>\n",
       "      <td></td>\n",
       "      <td></td>\n",
       "    </tr>\n",
       "    <tr>\n",
       "      <th>2</th>\n",
       "      <td>1:51 AM</td>\n",
       "      <td>55 F</td>\n",
       "      <td>52 F</td>\n",
       "      <td>89 %</td>\n",
       "      <td></td>\n",
       "      <td>0 mph</td>\n",
       "      <td>0 mph</td>\n",
       "      <td>29.4 in</td>\n",
       "      <td>0.0 in</td>\n",
       "      <td></td>\n",
       "      <td></td>\n",
       "    </tr>\n",
       "    <tr>\n",
       "      <th>3</th>\n",
       "      <td>2:51 AM</td>\n",
       "      <td>55 F</td>\n",
       "      <td>53 F</td>\n",
       "      <td>93 %</td>\n",
       "      <td></td>\n",
       "      <td>0 mph</td>\n",
       "      <td>0 mph</td>\n",
       "      <td>29.4 in</td>\n",
       "      <td>0.0 in</td>\n",
       "      <td></td>\n",
       "      <td></td>\n",
       "    </tr>\n",
       "    <tr>\n",
       "      <th>4</th>\n",
       "      <td>3:38 AM</td>\n",
       "      <td>54 F</td>\n",
       "      <td>53 F</td>\n",
       "      <td>97 %</td>\n",
       "      <td></td>\n",
       "      <td>0 mph</td>\n",
       "      <td>0 mph</td>\n",
       "      <td>29.4 in</td>\n",
       "      <td>0.0 in</td>\n",
       "      <td></td>\n",
       "      <td></td>\n",
       "    </tr>\n",
       "  </tbody>\n",
       "</table>\n",
       "</div>"
      ],
      "text/plain": [
       "         0     1     2     3     4      5      6        7       8     9     10\n",
       "0      None  None  None  None  None   None   None     None    None  None  None\n",
       "1  12:51 AM  55 F  52 F  89 %        0 mph  0 mph  29.4 in  0.0 in            \n",
       "2   1:51 AM  55 F  52 F  89 %        0 mph  0 mph  29.4 in  0.0 in            \n",
       "3   2:51 AM  55 F  53 F  93 %        0 mph  0 mph  29.4 in  0.0 in            \n",
       "4   3:38 AM  54 F  53 F  97 %        0 mph  0 mph  29.4 in  0.0 in            "
      ]
     },
     "execution_count": 49,
     "metadata": {},
     "output_type": "execute_result"
    }
   ],
   "source": [
    "# extracting text into a datafram\n",
    "wu_data = []\n",
    "for tr in wu_table.find_elements_by_css_selector('tr'):\n",
    "    tmp_row = []\n",
    "    for td in tr.find_elements_by_css_selector('td'):\n",
    "        tmp_row.append(td.text.strip())\n",
    "    wu_data.append(tmp_row)\n",
    "df_wu = pd.DataFrame(wu_data)\n",
    "df_wu.head()"
   ]
  },
  {
   "cell_type": "code",
   "execution_count": 52,
   "metadata": {
    "slideshow": {
     "slide_type": "slide"
    }
   },
   "outputs": [
    {
     "data": {
      "text/plain": [
       "True"
      ]
     },
     "execution_count": 52,
     "metadata": {},
     "output_type": "execute_result"
    }
   ],
   "source": [
    "# visualize the rendered table, still missing some stuff, need to debug\n",
    "wu_table.screenshot('./images/test1.png')"
   ]
  },
  {
   "cell_type": "markdown",
   "metadata": {
    "slideshow": {
     "slide_type": "fragment"
    }
   },
   "source": [
    "<img src='./images/test2.png'>"
   ]
  },
  {
   "cell_type": "code",
   "execution_count": null,
   "metadata": {},
   "outputs": [],
   "source": []
  }
 ],
 "metadata": {
  "celltoolbar": "Slideshow",
  "kernelspec": {
   "display_name": "Python 3",
   "language": "python",
   "name": "python3"
  },
  "language_info": {
   "codemirror_mode": {
    "name": "ipython",
    "version": 3
   },
   "file_extension": ".py",
   "mimetype": "text/x-python",
   "name": "python",
   "nbconvert_exporter": "python",
   "pygments_lexer": "ipython3",
   "version": "3.6.5"
  }
 },
 "nbformat": 4,
 "nbformat_minor": 2
}
