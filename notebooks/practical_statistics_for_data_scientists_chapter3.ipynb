{
 "cells": [
  {
   "cell_type": "code",
   "execution_count": 17,
   "metadata": {},
   "outputs": [],
   "source": [
    "import pandas as pd\n",
    "import numpy as np\n",
    "from scipy.stats import norm\n",
    "import seaborn as sns\n",
    "import matplotlib.pyplot as plt\n",
    "import scipy as sp\n",
    "import statsmodels.api as sm\n",
    "\n",
    "sns.set()\n",
    "\n",
    "%matplotlib inline"
   ]
  },
  {
   "cell_type": "markdown",
   "metadata": {},
   "source": [
    "### Example: Web Stickiness"
   ]
  },
  {
   "cell_type": "code",
   "execution_count": 90,
   "metadata": {},
   "outputs": [],
   "source": [
    "df_session_times = pd.read_csv('../data/web_page_data.csv')\n",
    "df_session_times.Time = df_session_times.Time * 100"
   ]
  },
  {
   "cell_type": "code",
   "execution_count": 91,
   "metadata": {},
   "outputs": [
    {
     "data": {
      "image/png": "[encoded data removed]",
      "text/plain": [
       "<Figure size 360x360 with 1 Axes>"
      ]
     },
     "metadata": {
      "needs_background": "light"
     },
     "output_type": "display_data"
    }
   ],
   "source": [
    "_ = sns.catplot(x='Page',y='Time',data=df_session_times,kind='box')\n",
    "_ = plt.ylabel('Time (in seconds)')"
   ]
  },
  {
   "cell_type": "code",
   "execution_count": 95,
   "metadata": {},
   "outputs": [
    {
     "data": {
      "text/plain": [
       "35.66666666666667"
      ]
     },
     "execution_count": 95,
     "metadata": {},
     "output_type": "execute_result"
    }
   ],
   "source": [
    "mean_a,mean_b = df_session_times.groupby('Page').Time.mean().values\n",
    "\n",
    "mean_b - mean_a"
   ]
  },
  {
   "cell_type": "code",
   "execution_count": 23,
   "metadata": {},
   "outputs": [],
   "source": [
    "def perm_fun(x,n1,n2):\n",
    "    n = n1 + n2\n",
    "    idx = np.random.permutation(n)\n",
    "    idx_a = idx[:n1]\n",
    "    idx_b = idx[n1:]\n",
    "    mean_diff = np.mean(x[idx_a]) - np.mean(x[idx_b])\n",
    "    return mean_diff"
   ]
  },
  {
   "cell_type": "code",
   "execution_count": 25,
   "metadata": {},
   "outputs": [
    {
     "data": {
      "image/png": "[encoded data removed]",
      "text/plain": [
       "<Figure size 432x288 with 1 Axes>"
      ]
     },
     "metadata": {
      "needs_background": "light"
     },
     "output_type": "display_data"
    }
   ],
   "source": [
    "perm_diffs = []\n",
    "for i in range(1000):\n",
    "    perm_diffs.append(perm_fun(df_session_times.Time,21,15))\n",
    "_ = plt.hist(perm_diffs)\n",
    "_ = plt.xlabel('Session time differences (in seconds)')\n",
    "_ = plt.vlines(mean_b-mean_a,*plt.ylim(),color='r')"
   ]
  },
  {
   "cell_type": "markdown",
   "metadata": {},
   "source": [
    "### Statistical Significance and P-Values"
   ]
  },
  {
   "cell_type": "code",
   "execution_count": 26,
   "metadata": {},
   "outputs": [
    {
     "data": {
      "image/png": "[encoded data removed]",
      "text/plain": [
       "<Figure size 432x288 with 1 Axes>"
      ]
     },
     "metadata": {
      "needs_background": "light"
     },
     "output_type": "display_data"
    }
   ],
   "source": [
    "obs_pct_diff = 100*(200/23739 - 182/22588)\n",
    "conversion = np.concatenate([np.zeros(45945),np.ones(382)])\n",
    "perm_diffs = []\n",
    "for i in range(1000):\n",
    "    perm_diffs.append(100*perm_fun(conversion,23739,22588))\n",
    "_ = plt.hist(perm_diffs)\n",
    "_ = plt.xlabel('Session time differences (in seconds)')\n",
    "_ = plt.vlines(obs_pct_diff,*plt.ylim(),color='r')"
   ]
  },
  {
   "cell_type": "markdown",
   "metadata": {},
   "source": [
    "### P-Value"
   ]
  },
  {
   "cell_type": "code",
   "execution_count": 10,
   "metadata": {},
   "outputs": [
    {
     "data": {
      "text/plain": [
       "0.323"
      ]
     },
     "execution_count": 10,
     "metadata": {},
     "output_type": "execute_result"
    }
   ],
   "source": [
    "np.mean(np.array(perm_diffs) > obs_pct_diff)"
   ]
  },
  {
   "cell_type": "code",
   "execution_count": 11,
   "metadata": {},
   "outputs": [
    {
     "name": "stdout",
     "output_type": "stream",
     "text": [
      "0.33094407441560325\n"
     ]
    }
   ],
   "source": [
    "zstat,p_value = sm.stats.proportions_ztest([200,182],[23739,22588],alternative='larger')\n",
    "print(p_value)"
   ]
  },
  {
   "cell_type": "markdown",
   "metadata": {},
   "source": [
    "### t-Tests"
   ]
  },
  {
   "cell_type": "code",
   "execution_count": 12,
   "metadata": {},
   "outputs": [
    {
     "name": "stdout",
     "output_type": "stream",
     "text": [
      "0.1345051218196303\n"
     ]
    }
   ],
   "source": [
    "tstat,pvalue,df = sm.stats.ttest_ind(df_session_times[df_session_times.Page == 'Page A'].Time,\n",
    "                                     df_session_times[df_session_times.Page == 'Page B'].Time,\n",
    "                                     alternative='smaller'\n",
    "                                    )\n",
    "print(pvalue)"
   ]
  }
 ],
 "metadata": {
  "kernelspec": {
   "display_name": "Python 3",
   "language": "python",
   "name": "python3"
  },
  "language_info": {
   "codemirror_mode": {
    "name": "ipython",
    "version": 3
   },
   "file_extension": ".py",
   "mimetype": "text/x-python",
   "name": "python",
   "nbconvert_exporter": "python",
   "pygments_lexer": "ipython3",
   "version": "3.7.1"
  }
 },
 "nbformat": 4,
 "nbformat_minor": 2
}
